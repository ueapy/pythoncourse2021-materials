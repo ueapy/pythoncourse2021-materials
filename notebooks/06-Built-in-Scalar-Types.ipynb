{
 "cells": [
  {
   "cell_type": "markdown",
   "metadata": {
    "nbpresent": {
     "id": "92b19ab3-fbaa-4df2-aa9a-0ed13d8643d7"
    },
    "slideshow": {
     "slide_type": "slide"
    }
   },
   "source": [
    "# Built-In Types: Simple Values\n",
    "\n",
    "* Now we will briefly go through the simple **built-in** Python types\n",
    "* **built-in** means that these objects are available in Python straight away, no need to import other packages"
   ]
  },
  {
   "cell_type": "markdown",
   "metadata": {
    "nbpresent": {
     "id": "b633255d-7a85-46d6-9d18-4b5f9b9daa2f"
    },
    "slideshow": {
     "slide_type": "subslide"
    }
   },
   "source": [
    "<center>**Python Scalar Types**</center>\n",
    "\n",
    "| Type        | Example        | Description                                                  |\n",
    "|-------------|----------------|--------------------------------------------------------------|\n",
    "| ``int``     | ``x = 1``      | integers (i.e., whole numbers)                               |\n",
    "| ``float``   | ``x = 1.0``    | floating-point numbers (i.e., real numbers)                  |\n",
    "| ``complex`` | ``x = 1 + 2j`` | Complex numbers (i.e., numbers with real and imaginary part) |\n",
    "| ``bool``    | ``x = True``   | Boolean: True/False values                                   |\n",
    "| ``str``     | ``x = 'abc'``  | String: characters or text                                   |\n",
    "| ``NoneType``| ``x = None``   | Special object indicating nulls                              |\n",
    "\n",
    "We'll take a quick look at each of these in turn."
   ]
  },
  {
   "cell_type": "markdown",
   "metadata": {
    "nbpresent": {
     "id": "4c8416bf-a2da-4a41-8544-a9bf90c9c067"
    },
    "slideshow": {
     "slide_type": "slide"
    }
   },
   "source": [
    "## Integers\n",
    "The most basic numerical type is the integer.\n",
    "Any number without a decimal point is an integer:"
   ]
  },
  {
   "cell_type": "code",
   "execution_count": null,
   "metadata": {
    "nbpresent": {
     "id": "0b25b541-dbb6-4d67-a825-eb11f6581137"
    },
    "slideshow": {
     "slide_type": "fragment"
    }
   },
   "outputs": [],
   "source": [
    "x = 3\n",
    "type(x)"
   ]
  },
  {
   "cell_type": "markdown",
   "metadata": {
    "nbpresent": {
     "id": "953f6b51-f746-4937-9891-3724eb8bf6cf"
    },
    "slideshow": {
     "slide_type": "fragment"
    }
   },
   "source": [
    "Another convenient feature of Python integers is that by default, division up-casts to floating-point type:"
   ]
  },
  {
   "cell_type": "code",
   "execution_count": null,
   "metadata": {
    "nbpresent": {
     "id": "98eb9f6b-0641-44d6-8d68-c58ce44e21cc"
    },
    "slideshow": {
     "slide_type": "fragment"
    }
   },
   "outputs": [],
   "source": [
    "5 / 2"
   ]
  },
  {
   "cell_type": "markdown",
   "metadata": {
    "nbpresent": {
     "id": "ef32bda7-f2a0-4017-913a-0c2a85981a0f"
    },
    "slideshow": {
     "slide_type": "slide"
    }
   },
   "source": [
    "## Floating-Point Numbers\n",
    "The floating-point type can store fractional numbers.\n",
    "They can be defined either in standard decimal notation, or in exponential notation:"
   ]
  },
  {
   "cell_type": "code",
   "execution_count": null,
   "metadata": {
    "nbpresent": {
     "id": "a73f17bb-8e70-4e32-869f-5320ed913711"
    },
    "slideshow": {
     "slide_type": "fragment"
    }
   },
   "outputs": [],
   "source": [
    "x = 0.000005\n",
    "y = 5e-6\n",
    "print(x == y)"
   ]
  },
  {
   "cell_type": "code",
   "execution_count": null,
   "metadata": {
    "nbpresent": {
     "id": "0fee7658-65ea-4d1e-8ccb-4e7c69248816"
    },
    "slideshow": {
     "slide_type": "fragment"
    }
   },
   "outputs": [],
   "source": [
    "x = 1400000.00\n",
    "y = 1.4e6\n",
    "print(x == y)"
   ]
  },
  {
   "cell_type": "markdown",
   "metadata": {
    "nbpresent": {
     "id": "42ffa37d-c3bc-47c7-8a37-3677be4eaa16"
    },
    "slideshow": {
     "slide_type": "fragment"
    }
   },
   "source": [
    "In the exponential notation, the ``e`` or ``E`` can be read \"...times ten to the...\",\n",
    "so that ``1.4e6`` is interpreted as $~1.4 \\times 10^6$."
   ]
  },
  {
   "cell_type": "markdown",
   "metadata": {
    "nbpresent": {
     "id": "b50dddbf-f4c3-447d-9d0a-8af23dea7e9c"
    },
    "slideshow": {
     "slide_type": "subslide"
    }
   },
   "source": [
    "An integer can be explicitly converted to a float with the ``float`` constructor:"
   ]
  },
  {
   "cell_type": "code",
   "execution_count": 4,
   "metadata": {
    "nbpresent": {
     "id": "b6d4bbb7-39b8-4f8c-a83d-326a2b7d42eb"
    },
    "slideshow": {
     "slide_type": "fragment"
    }
   },
   "outputs": [
    {
     "ename": "SyntaxError",
     "evalue": "invalid syntax (<ipython-input-4-63f01320b149>, line 2)",
     "output_type": "error",
     "traceback": [
      "\u001b[1;36m  File \u001b[1;32m\"<ipython-input-4-63f01320b149>\"\u001b[1;36m, line \u001b[1;32m2\u001b[0m\n\u001b[1;33m    print( ()'a string', 'another string') )\u001b[0m\n\u001b[1;37m             ^\u001b[0m\n\u001b[1;31mSyntaxError\u001b[0m\u001b[1;31m:\u001b[0m invalid syntax\n"
     ]
    }
   ],
   "source": [
    "float(1)\n",
    "print( ()'a string', 'another string') )"
   ]
  },
  {
   "cell_type": "markdown",
   "metadata": {},
   "source": [
    "## The limits of Floating-Point numbers"
   ]
  },
  {
   "cell_type": "markdown",
   "metadata": {},
   "source": [
    "One thing to be aware of with floating point arithmetic is that its precision is limited, which can cause equality tests to be unstable. For example:"
   ]
  },
  {
   "cell_type": "code",
   "execution_count": null,
   "metadata": {},
   "outputs": [],
   "source": [
    "0.1 + 0.2 == 0.3"
   ]
  },
  {
   "cell_type": "code",
   "execution_count": null,
   "metadata": {},
   "outputs": [],
   "source": [
    "0.2 + 0.2 == 0.4"
   ]
  },
  {
   "cell_type": "markdown",
   "metadata": {},
   "source": [
    "Why is this the case? It turns out that it is not a behavior unique to Python, but is due to the fixed-precision format of the binary floating-point storage.\n",
    "All programming languages using floating-point numbers store them in a fixed number of bits, and this leads some numbers to be represented only approximately.\n",
    "We can see this by printing the three values to high precision:"
   ]
  },
  {
   "cell_type": "code",
   "execution_count": null,
   "metadata": {},
   "outputs": [],
   "source": [
    "print( f\"0.1 = {0.1:.17f}\" )\n",
    "print( f\"0.2 = {0.2:.17f}\" )\n",
    "print( f\"0.3 = {0.3:.17f}\" )"
   ]
  },
  {
   "cell_type": "markdown",
   "metadata": {},
   "source": [
    "* Python internally truncates these representations at 52 bits beyond the first nonzero bit on most systems.\n",
    "\n",
    "* This rounding error for floating-point values is a necessary evil of working with floating-point numbers.\n",
    "\n",
    "* Because floating-point numbers are approximate it is best to avoid equality tests. But if you need to do so, then use `math.isclose()`"
   ]
  },
  {
   "cell_type": "code",
   "execution_count": null,
   "metadata": {},
   "outputs": [],
   "source": [
    "import math # import math library\n",
    "\n",
    "p1 = 0.1\n",
    "p2 = 0.2\n",
    "p3 = 0.3\n",
    "math.isclose(p1+p2, p3)    # it sets a relative torerance\n",
    "                           # threshold (rel_tol=1e-9)"
   ]
  },
  {
   "cell_type": "markdown",
   "metadata": {
    "nbpresent": {
     "id": "f9118115-126a-4d24-ab73-18885890c324"
    },
    "slideshow": {
     "slide_type": "slide"
    }
   },
   "source": [
    "## Complex Numbers\n",
    "Complex numbers are numbers with real and imaginary (floating-point) parts.\n",
    "We've seen integers and real numbers before; we can use these to construct a complex number:"
   ]
  },
  {
   "cell_type": "code",
   "execution_count": null,
   "metadata": {
    "nbpresent": {
     "id": "509f54de-088c-4083-9953-22053dbc6e33"
    },
    "slideshow": {
     "slide_type": "fragment"
    }
   },
   "outputs": [],
   "source": [
    "complex(1, 2)"
   ]
  },
  {
   "cell_type": "markdown",
   "metadata": {
    "nbpresent": {
     "id": "2941c5a9-4d5d-4056-8f1b-4164b4131ad1"
    },
    "slideshow": {
     "slide_type": "fragment"
    }
   },
   "source": [
    "Alternatively, we can use the \"``j``\" suffix in expressions to indicate the imaginary part:"
   ]
  },
  {
   "cell_type": "code",
   "execution_count": null,
   "metadata": {
    "nbpresent": {
     "id": "9bb05e6a-c7d5-48f5-95a6-d97588e7743d"
    },
    "slideshow": {
     "slide_type": "fragment"
    }
   },
   "outputs": [],
   "source": [
    "1 + 2j"
   ]
  },
  {
   "cell_type": "markdown",
   "metadata": {
    "nbpresent": {
     "id": "6fcc6b85-5619-4df7-9a3a-bd9d40aaa4dd"
    },
    "slideshow": {
     "slide_type": "skip"
    }
   },
   "source": [
    "Complex numbers have a variety of interesting attributes and methods, which we'll briefly demonstrate here:"
   ]
  },
  {
   "cell_type": "code",
   "execution_count": null,
   "metadata": {
    "nbpresent": {
     "id": "de1a4519-5003-4fcb-961a-0b6b41dda338"
    },
    "slideshow": {
     "slide_type": "skip"
    }
   },
   "outputs": [],
   "source": [
    "c = 3 + 4j"
   ]
  },
  {
   "cell_type": "code",
   "execution_count": null,
   "metadata": {
    "nbpresent": {
     "id": "146e481d-9212-41b0-b4e0-20d45c882f8d"
    },
    "slideshow": {
     "slide_type": "skip"
    }
   },
   "outputs": [],
   "source": [
    "c.real  # real part"
   ]
  },
  {
   "cell_type": "code",
   "execution_count": null,
   "metadata": {
    "nbpresent": {
     "id": "07a19088-babf-4ea5-ab34-b5bd5a3ea98c"
    },
    "scrolled": true,
    "slideshow": {
     "slide_type": "skip"
    }
   },
   "outputs": [],
   "source": [
    "c.imag  # imaginary part"
   ]
  },
  {
   "cell_type": "code",
   "execution_count": null,
   "metadata": {
    "nbpresent": {
     "id": "cca90868-ed91-4822-8283-937e41450315"
    },
    "slideshow": {
     "slide_type": "skip"
    }
   },
   "outputs": [],
   "source": [
    "c.conjugate()  # complex conjugate"
   ]
  },
  {
   "cell_type": "code",
   "execution_count": null,
   "metadata": {
    "nbpresent": {
     "id": "6816221d-a769-4f04-b68f-5e2ef0f5c2dd"
    },
    "slideshow": {
     "slide_type": "skip"
    }
   },
   "outputs": [],
   "source": [
    "abs(c)  # magnitude, i.e. sqrt(c.real ** 2 + c.imag ** 2)"
   ]
  },
  {
   "cell_type": "markdown",
   "metadata": {
    "nbpresent": {
     "id": "fbb40e22-09ef-42fa-91e9-21f5a16fdf02"
    },
    "slideshow": {
     "slide_type": "slide"
    }
   },
   "source": [
    "## String Type\n",
    "Strings in Python are created with single or double quotes:"
   ]
  },
  {
   "cell_type": "code",
   "execution_count": null,
   "metadata": {
    "nbpresent": {
     "id": "9aa81659-3aeb-4e0c-986e-02bfc41e7ae9"
    },
    "slideshow": {
     "slide_type": "fragment"
    }
   },
   "outputs": [],
   "source": [
    "message = \"what do you like? \"\n",
    "response = 'spam'"
   ]
  },
  {
   "cell_type": "markdown",
   "metadata": {
    "nbpresent": {
     "id": "86258ee8-556a-4bec-af94-7f7df5ec300f"
    },
    "slideshow": {
     "slide_type": "subslide"
    }
   },
   "source": [
    "Python has many extremely useful string functions and methods; here are a few of them:"
   ]
  },
  {
   "cell_type": "code",
   "execution_count": null,
   "metadata": {
    "nbpresent": {
     "id": "9f0828fe-62ce-422f-834a-1e515475a68e"
    },
    "slideshow": {
     "slide_type": "fragment"
    }
   },
   "outputs": [],
   "source": [
    "# length of string\n",
    "len(response)"
   ]
  },
  {
   "cell_type": "code",
   "execution_count": null,
   "metadata": {
    "nbpresent": {
     "id": "a40c6cca-2445-4dba-839e-59b2e6cb977f"
    },
    "slideshow": {
     "slide_type": "fragment"
    }
   },
   "outputs": [],
   "source": [
    "# Make upper-case. See also str.lower()\n",
    "response.upper()"
   ]
  },
  {
   "cell_type": "code",
   "execution_count": null,
   "metadata": {
    "nbpresent": {
     "id": "34b8982f-0ed5-4ea7-9d03-8f69dd5f8863"
    },
    "slideshow": {
     "slide_type": "fragment"
    }
   },
   "outputs": [],
   "source": [
    "# Capitalize. See also str.title()\n",
    "message.capitalize()"
   ]
  },
  {
   "cell_type": "code",
   "execution_count": null,
   "metadata": {
    "nbpresent": {
     "id": "9f1ff34d-4309-4708-83e5-4991c206b537"
    },
    "slideshow": {
     "slide_type": "subslide"
    }
   },
   "outputs": [],
   "source": [
    "# multiplication is multiple concatenation\n",
    "5 * response"
   ]
  },
  {
   "cell_type": "code",
   "execution_count": null,
   "metadata": {
    "nbpresent": {
     "id": "f1b946ea-c419-4186-a258-f20fddbb33bf"
    },
    "slideshow": {
     "slide_type": "fragment"
    }
   },
   "outputs": [],
   "source": [
    "# concatenation with +\n",
    "message + response"
   ]
  },
  {
   "cell_type": "markdown",
   "metadata": {
    "nbpresent": {
     "id": "02670951-ef52-4295-a93f-08bd13422b01"
    },
    "slideshow": {
     "slide_type": "slide"
    }
   },
   "source": [
    "**Q**: What does `split()` method do? What is the result?"
   ]
  },
  {
   "cell_type": "code",
   "execution_count": null,
   "metadata": {
    "nbpresent": {
     "id": "d340d952-f2f1-43a9-b52f-9dede29d0e27"
    },
    "slideshow": {
     "slide_type": "fragment"
    }
   },
   "outputs": [],
   "source": [
    "message.split()"
   ]
  },
  {
   "cell_type": "markdown",
   "metadata": {
    "nbpresent": {
     "id": "ec1917e8-f78b-40e6-a860-43b96a9793bd"
    },
    "slideshow": {
     "slide_type": "subslide"
    }
   },
   "source": [
    "**Q**: Now try to split this notebook's name into words. What argument you have to pass to `split()`?"
   ]
  },
  {
   "cell_type": "code",
   "execution_count": null,
   "metadata": {
    "nbpresent": {
     "id": "0732ee19-2ba6-4b1e-b9d6-2cb4571ed65f"
    },
    "slideshow": {
     "slide_type": "fragment"
    }
   },
   "outputs": [],
   "source": [
    "notebook_name = '06-Built-in-Scalar-Types.ipynb'"
   ]
  },
  {
   "cell_type": "code",
   "execution_count": null,
   "metadata": {
    "nbpresent": {
     "id": "b1534a79-a201-4ce6-85f3-895645432cc6"
    },
    "slideshow": {
     "slide_type": "fragment"
    }
   },
   "outputs": [],
   "source": [
    "notebook_name.split('-')"
   ]
  },
  {
   "cell_type": "markdown",
   "metadata": {
    "nbpresent": {
     "id": "3290f2c2-71e8-4058-be35-150eb201e05c"
    },
    "slideshow": {
     "slide_type": "subslide"
    }
   },
   "source": [
    "**Q**: When you have a sequence of string, you can use `join()` method:"
   ]
  },
  {
   "cell_type": "code",
   "execution_count": null,
   "metadata": {
    "nbpresent": {
     "id": "87c5e0fe-2695-4367-a20b-417f899b3d3f"
    },
    "slideshow": {
     "slide_type": "fragment"
    }
   },
   "outputs": [],
   "source": [
    "l = notebook_name.split('-')\n",
    "' '.join(l)"
   ]
  },
  {
   "cell_type": "markdown",
   "metadata": {
    "nbpresent": {
     "id": "719b3d83-2b96-49dd-8e9f-730dff1e73f2"
    },
    "slideshow": {
     "slide_type": "fragment"
    }
   },
   "source": [
    "You will know more about lists in Python in the next notebook."
   ]
  },
  {
   "cell_type": "markdown",
   "metadata": {
    "nbpresent": {
     "id": "12b08546-b937-4447-aacf-7919e23c1c1d"
    },
    "slideshow": {
     "slide_type": "subslide"
    }
   },
   "source": [
    "#### Indexing"
   ]
  },
  {
   "cell_type": "code",
   "execution_count": null,
   "metadata": {
    "nbpresent": {
     "id": "5890813a-040f-4aff-a95f-6d42c4f92251"
    },
    "slideshow": {
     "slide_type": "fragment"
    }
   },
   "outputs": [],
   "source": [
    "# Access individual characters (zero-based indexing)\n",
    "message[0:5]"
   ]
  },
  {
   "cell_type": "code",
   "execution_count": null,
   "metadata": {
    "nbpresent": {
     "id": "409e0a53-a86d-42ca-a103-eafa187e82ee"
    },
    "slideshow": {
     "slide_type": "fragment"
    }
   },
   "outputs": [],
   "source": [
    "message[5:11]"
   ]
  },
  {
   "cell_type": "code",
   "execution_count": null,
   "metadata": {
    "nbpresent": {
     "id": "5cb9adaa-e811-44d5-856d-7b8dc8286f6b"
    },
    "slideshow": {
     "slide_type": "fragment"
    }
   },
   "outputs": [],
   "source": [
    "message[11:17] # note that spaces count as a character"
   ]
  },
  {
   "cell_type": "markdown",
   "metadata": {
    "slideshow": {
     "slide_type": "skip"
    }
   },
   "source": [
    "**Strings are immutable.** See for your self:"
   ]
  },
  {
   "cell_type": "code",
   "execution_count": null,
   "metadata": {
    "slideshow": {
     "slide_type": "skip"
    }
   },
   "outputs": [],
   "source": [
    "s = \"0123456789\"\n",
    "s[0] = \"1\""
   ]
  },
  {
   "cell_type": "markdown",
   "metadata": {
    "nbpresent": {
     "id": "09b3a946-ef77-4ba4-840d-2e3d4fe291d9"
    },
    "slideshow": {
     "slide_type": "subslide"
    }
   },
   "source": [
    "### String formatting"
   ]
  },
  {
   "cell_type": "markdown",
   "metadata": {},
   "source": [
    "### f-strings\n",
    "* Start the string with f or F\n",
    "* Introduced in Python 3.6\n",
    "* Easier to read than str.format()"
   ]
  },
  {
   "cell_type": "code",
   "execution_count": null,
   "metadata": {},
   "outputs": [],
   "source": [
    "pi = 3.141\n",
    "e=2.718\n",
    "f\"Pi is not {pi} and e is not {e}\""
   ]
  },
  {
   "cell_type": "code",
   "execution_count": null,
   "metadata": {},
   "outputs": [],
   "source": [
    "import math\n",
    "\n",
    "n=3\n",
    "f\"I know Pi's first {n} digits: {math.pi:.{n}}\""
   ]
  },
  {
   "cell_type": "markdown",
   "metadata": {},
   "source": [
    "#### Old school str.format()"
   ]
  },
  {
   "cell_type": "markdown",
   "metadata": {
    "slideshow": {
     "slide_type": "fragment"
    }
   },
   "source": [
    "* by order"
   ]
  },
  {
   "cell_type": "code",
   "execution_count": null,
   "metadata": {
    "slideshow": {
     "slide_type": "fragment"
    }
   },
   "outputs": [],
   "source": [
    "e = 2.71828182845904590\n",
    "'{:.4f} is a {}'.format(e, 'float')"
   ]
  },
  {
   "cell_type": "markdown",
   "metadata": {
    "slideshow": {
     "slide_type": "fragment"
    }
   },
   "source": [
    "* by keys"
   ]
  },
  {
   "cell_type": "code",
   "execution_count": null,
   "metadata": {
    "slideshow": {
     "slide_type": "fragment"
    }
   },
   "outputs": [],
   "source": [
    "'{a:4.2f} blah-blah {b:05d}'.format(a=3.141516, b=123)"
   ]
  },
  {
   "cell_type": "markdown",
   "metadata": {
    "nbpresent": {
     "id": "cf02f3ef-e2de-448a-8559-739262a19c2f"
    },
    "slideshow": {
     "slide_type": "slide"
    }
   },
   "source": [
    "## None Type\n",
    "Python includes a special type, the ``NoneType``, which has only a single possible value: ``None``. For example:"
   ]
  },
  {
   "cell_type": "code",
   "execution_count": null,
   "metadata": {
    "nbpresent": {
     "id": "b4d076e1-7fc8-40b2-93da-a9a033bd85fd"
    },
    "slideshow": {
     "slide_type": "fragment"
    }
   },
   "outputs": [],
   "source": [
    "type(None)"
   ]
  },
  {
   "cell_type": "markdown",
   "metadata": {
    "nbpresent": {
     "id": "0d35facc-3f85-4951-9d40-01203cbfe833"
    },
    "slideshow": {
     "slide_type": "fragment"
    }
   },
   "source": [
    "You'll see ``None`` used in many places, but perhaps most commonly it is used as the default return value of a function.\n",
    "For example, the ``print()`` function in Python 3 does not return anything, but we can still catch its value:"
   ]
  },
  {
   "cell_type": "code",
   "execution_count": null,
   "metadata": {
    "nbpresent": {
     "id": "09bed32a-671a-4666-b315-1db3f8e954c4"
    },
    "slideshow": {
     "slide_type": "fragment"
    }
   },
   "outputs": [],
   "source": [
    "return_value = print('abc')"
   ]
  },
  {
   "cell_type": "code",
   "execution_count": null,
   "metadata": {
    "nbpresent": {
     "id": "59c424e9-595b-42af-9d7c-a5e34cc3c76e"
    },
    "slideshow": {
     "slide_type": "fragment"
    }
   },
   "outputs": [],
   "source": [
    "print(return_value)"
   ]
  },
  {
   "cell_type": "markdown",
   "metadata": {
    "nbpresent": {
     "id": "c5e9de24-5e54-4cd0-a8a5-75ff23c94918"
    },
    "slideshow": {
     "slide_type": "slide"
    }
   },
   "source": [
    "## Boolean Type\n",
    "The Boolean type is a simple type with two possible values: ``True`` and ``False``, and is returned by comparison operators discussed previously:"
   ]
  },
  {
   "cell_type": "code",
   "execution_count": null,
   "metadata": {
    "nbpresent": {
     "id": "13d2311c-8b43-46c8-8c30-536867228e61"
    },
    "slideshow": {
     "slide_type": "fragment"
    }
   },
   "outputs": [],
   "source": [
    "result = (4 < 5)\n",
    "result"
   ]
  },
  {
   "cell_type": "code",
   "execution_count": null,
   "metadata": {
    "nbpresent": {
     "id": "57c313ac-3a99-4a6d-ae9d-2b49d42d03f0"
    },
    "slideshow": {
     "slide_type": "fragment"
    }
   },
   "outputs": [],
   "source": [
    "type(result)"
   ]
  },
  {
   "cell_type": "markdown",
   "metadata": {
    "nbpresent": {
     "id": "e2607705-f60e-44b7-b6cf-91d40024325c"
    },
    "slideshow": {
     "slide_type": "skip"
    }
   },
   "source": [
    "Keep in mind that the Boolean values are case-sensitive: unlike some other languages, ``True`` and ``False`` must be capitalized!"
   ]
  },
  {
   "cell_type": "code",
   "execution_count": null,
   "metadata": {
    "nbpresent": {
     "id": "9e6fb3ac-ded0-441e-8287-8b986ab701e1"
    },
    "slideshow": {
     "slide_type": "skip"
    }
   },
   "outputs": [],
   "source": [
    "print(True, False)"
   ]
  },
  {
   "cell_type": "markdown",
   "metadata": {
    "nbpresent": {
     "id": "2d0e0c0a-5d2c-4639-9ffc-5289d35b964b"
    },
    "slideshow": {
     "slide_type": "skip"
    }
   },
   "source": [
    "## References\n",
    "*A Whirlwind Tour of Python* by Jake VanderPlas (O’Reilly). Copyright 2016 O’Reilly Media, Inc., 978-1-491-96465-1"
   ]
  }
 ],
 "metadata": {
  "anaconda-cloud": {},
  "kernelspec": {
   "display_name": "Python 3",
   "language": "python",
   "name": "python3"
  },
  "language_info": {
   "codemirror_mode": {
    "name": "ipython",
    "version": 3
   },
   "file_extension": ".py",
   "mimetype": "text/x-python",
   "name": "python",
   "nbconvert_exporter": "python",
   "pygments_lexer": "ipython3",
   "version": "3.8.10"
  },
  "nbpresent": {
   "slides": {
    "01cf57d4-49a9-42e8-ba46-5c1788853e82": {
     "id": "01cf57d4-49a9-42e8-ba46-5c1788853e82",
     "prev": "3a39fd51-2eea-44ef-8391-8dfab6810712",
     "regions": {
      "abf41243-0923-4220-b2af-07465226c55e": {
       "attrs": {
        "height": 0.8,
        "width": 0.8,
        "x": 0.1,
        "y": 0.1
       },
       "content": {
        "cell": "59c424e9-595b-42af-9d7c-a5e34cc3c76e",
        "part": "whole"
       },
       "id": "abf41243-0923-4220-b2af-07465226c55e"
      }
     }
    },
    "04558e8c-ed98-414d-a199-26488e3e518c": {
     "id": "04558e8c-ed98-414d-a199-26488e3e518c",
     "prev": "df30cd4a-e384-4ba6-8712-c55137180ada",
     "regions": {
      "cd0a6cd3-f62b-4e1b-a54f-3475506b60b7": {
       "attrs": {
        "height": 0.8,
        "width": 0.8,
        "x": 0.1,
        "y": 0.1
       },
       "content": {
        "cell": "e2607705-f60e-44b7-b6cf-91d40024325c",
        "part": "whole"
       },
       "id": "cd0a6cd3-f62b-4e1b-a54f-3475506b60b7"
      }
     }
    },
    "058f2066-63d1-4961-a356-a7265f786ea4": {
     "id": "058f2066-63d1-4961-a356-a7265f786ea4",
     "prev": "f920c3f2-551f-4502-a0c0-72d05764d971",
     "regions": {
      "19e43c4d-673a-4e07-b848-d56b51dee838": {
       "attrs": {
        "height": 0.8,
        "width": 0.8,
        "x": 0.1,
        "y": 0.1
       },
       "content": {
        "cell": "9bb05e6a-c7d5-48f5-95a6-d97588e7743d",
        "part": "whole"
       },
       "id": "19e43c4d-673a-4e07-b848-d56b51dee838"
      }
     }
    },
    "106cb775-893f-42b7-8de5-a99d19804d6d": {
     "id": "106cb775-893f-42b7-8de5-a99d19804d6d",
     "prev": "4e0b97b2-a4ea-403c-b735-211d729af2d3",
     "regions": {
      "0a3b358d-ea69-4b0d-866d-a7ce2077002c": {
       "attrs": {
        "height": 0.8,
        "width": 0.8,
        "x": 0.1,
        "y": 0.1
       },
       "content": {
        "cell": "a73f17bb-8e70-4e32-869f-5320ed913711",
        "part": "whole"
       },
       "id": "0a3b358d-ea69-4b0d-866d-a7ce2077002c"
      }
     }
    },
    "12c45880-a9de-47ff-b6d7-9dd83a15fe64": {
     "id": "12c45880-a9de-47ff-b6d7-9dd83a15fe64",
     "prev": "04558e8c-ed98-414d-a199-26488e3e518c",
     "regions": {
      "26e915be-4065-44d3-a567-1eeb34b47cd4": {
       "attrs": {
        "height": 0.8,
        "width": 0.8,
        "x": 0.1,
        "y": 0.1
       },
       "content": {
        "cell": "9e6fb3ac-ded0-441e-8287-8b986ab701e1",
        "part": "whole"
       },
       "id": "26e915be-4065-44d3-a567-1eeb34b47cd4"
      }
     }
    },
    "143f4a8a-8a5d-4956-b5c2-dc906b17eb3f": {
     "id": "143f4a8a-8a5d-4956-b5c2-dc906b17eb3f",
     "prev": null,
     "regions": {
      "6068fad4-25fe-4617-8201-621f5b5b225e": {
       "attrs": {
        "height": 0.8,
        "width": 0.8,
        "x": 0.1,
        "y": 0.1
       },
       "content": {
        "cell": "92b19ab3-fbaa-4df2-aa9a-0ed13d8643d7",
        "part": "whole"
       },
       "id": "6068fad4-25fe-4617-8201-621f5b5b225e"
      }
     }
    },
    "16d20085-7cc8-41b9-91b6-33126aa0f5d3": {
     "id": "16d20085-7cc8-41b9-91b6-33126aa0f5d3",
     "prev": "9b05e81c-bdf0-4316-bee1-3b91bc3f9750",
     "regions": {
      "28b6782f-d45f-4601-8155-2a765ef7ad09": {
       "attrs": {
        "height": 0.8,
        "width": 0.8,
        "x": 0.1,
        "y": 0.1
       },
       "content": {
        "cell": "9f0828fe-62ce-422f-834a-1e515475a68e",
        "part": "whole"
       },
       "id": "28b6782f-d45f-4601-8155-2a765ef7ad09"
      }
     }
    },
    "1a89cb21-9f24-47d2-b5a0-5b15bbba705b": {
     "id": "1a89cb21-9f24-47d2-b5a0-5b15bbba705b",
     "prev": "767c242c-4afa-4a7e-8ccd-379e8c33208f",
     "regions": {
      "41e7e21c-20db-4aee-9d85-f3960458a8ab": {
       "attrs": {
        "height": 0.8,
        "width": 0.8,
        "x": 0.1,
        "y": 0.1
       },
       "content": {
        "cell": "509f54de-088c-4083-9953-22053dbc6e33",
        "part": "whole"
       },
       "id": "41e7e21c-20db-4aee-9d85-f3960458a8ab"
      }
     }
    },
    "230be66c-97b9-41e3-a7bb-3aa012c1b666": {
     "id": "230be66c-97b9-41e3-a7bb-3aa012c1b666",
     "prev": "16d20085-7cc8-41b9-91b6-33126aa0f5d3",
     "regions": {
      "1c222ac4-b16f-4d97-803f-b747ff9c2c20": {
       "attrs": {
        "height": 0.8,
        "width": 0.8,
        "x": 0.1,
        "y": 0.1
       },
       "content": {
        "cell": "a40c6cca-2445-4dba-839e-59b2e6cb977f",
        "part": "whole"
       },
       "id": "1c222ac4-b16f-4d97-803f-b747ff9c2c20"
      }
     }
    },
    "2686e943-1d9f-4b09-89f1-5488bb555fdc": {
     "id": "2686e943-1d9f-4b09-89f1-5488bb555fdc",
     "prev": "5bc839ae-9d50-43d3-8266-04fdcf99d6fc",
     "regions": {
      "1676cca9-c60a-4e33-a0ac-b824a0e80d15": {
       "attrs": {
        "height": 0.8,
        "width": 0.8,
        "x": 0.1,
        "y": 0.1
       },
       "content": {
        "cell": "f1b946ea-c419-4186-a258-f20fddbb33bf",
        "part": "whole"
       },
       "id": "1676cca9-c60a-4e33-a0ac-b824a0e80d15"
      }
     }
    },
    "2a9614cf-879e-4b25-bdee-9a28a016d0c0": {
     "id": "2a9614cf-879e-4b25-bdee-9a28a016d0c0",
     "prev": "6d889cb0-b10c-4d0a-8b74-6b0c3df74d34",
     "regions": {
      "ee20f5a8-7d11-4941-a4cd-a13f06f1b307": {
       "attrs": {
        "height": 0.8,
        "width": 0.8,
        "x": 0.1,
        "y": 0.1
       },
       "content": {
        "cell": "12b08546-b937-4447-aacf-7919e23c1c1d",
        "part": "whole"
       },
       "id": "ee20f5a8-7d11-4941-a4cd-a13f06f1b307"
      }
     }
    },
    "2eb8b5a6-7947-4759-884b-cc6ded1cfc32": {
     "id": "2eb8b5a6-7947-4759-884b-cc6ded1cfc32",
     "prev": "4011df8a-3b9a-4182-86a5-deda8b14b831",
     "regions": {
      "803baa3b-4ce9-48e3-b29b-1ba5614e6b92": {
       "attrs": {
        "height": 0.8,
        "width": 0.8,
        "x": 0.1,
        "y": 0.1
       },
       "content": {
        "cell": "d340d952-f2f1-43a9-b52f-9dede29d0e27",
        "part": "whole"
       },
       "id": "803baa3b-4ce9-48e3-b29b-1ba5614e6b92"
      }
     }
    },
    "3a39fd51-2eea-44ef-8391-8dfab6810712": {
     "id": "3a39fd51-2eea-44ef-8391-8dfab6810712",
     "prev": "ad0c9065-36d9-433b-8cd6-fa2285f077eb",
     "regions": {
      "81cc70a5-c176-4a3b-a2b8-06b0c79da16a": {
       "attrs": {
        "height": 0.8,
        "width": 0.8,
        "x": 0.1,
        "y": 0.1
       },
       "content": {
        "cell": "09bed32a-671a-4666-b315-1db3f8e954c4",
        "part": "whole"
       },
       "id": "81cc70a5-c176-4a3b-a2b8-06b0c79da16a"
      }
     }
    },
    "4011df8a-3b9a-4182-86a5-deda8b14b831": {
     "id": "4011df8a-3b9a-4182-86a5-deda8b14b831",
     "prev": "2686e943-1d9f-4b09-89f1-5488bb555fdc",
     "regions": {
      "64051270-cc14-470a-82af-0afc68b44eb7": {
       "attrs": {
        "height": 0.8,
        "width": 0.8,
        "x": 0.1,
        "y": 0.1
       },
       "content": {
        "cell": "02670951-ef52-4295-a93f-08bd13422b01",
        "part": "whole"
       },
       "id": "64051270-cc14-470a-82af-0afc68b44eb7"
      }
     }
    },
    "40c6afd0-8994-4eaf-801e-ce276dfab6d9": {
     "id": "40c6afd0-8994-4eaf-801e-ce276dfab6d9",
     "prev": "12c45880-a9de-47ff-b6d7-9dd83a15fe64",
     "regions": {
      "5f5b5ba3-e2c8-4824-a14f-9394419b7218": {
       "attrs": {
        "height": 0.8,
        "width": 0.8,
        "x": 0.1,
        "y": 0.1
       },
       "content": {
        "cell": "2d0e0c0a-5d2c-4639-9ffc-5289d35b964b",
        "part": "whole"
       },
       "id": "5f5b5ba3-e2c8-4824-a14f-9394419b7218"
      }
     }
    },
    "42f22921-fd09-4004-a754-01b19dd93c65": {
     "id": "42f22921-fd09-4004-a754-01b19dd93c65",
     "prev": "2a9614cf-879e-4b25-bdee-9a28a016d0c0",
     "regions": {
      "c04555ca-64dc-4b6e-a0a5-7450e998cf76": {
       "attrs": {
        "height": 0.8,
        "width": 0.8,
        "x": 0.1,
        "y": 0.1
       },
       "content": {
        "cell": "5890813a-040f-4aff-a95f-6d42c4f92251",
        "part": "whole"
       },
       "id": "c04555ca-64dc-4b6e-a0a5-7450e998cf76"
      }
     }
    },
    "43a834ad-fdda-486c-8a10-4c6ef48f2156": {
     "id": "43a834ad-fdda-486c-8a10-4c6ef48f2156",
     "prev": "143f4a8a-8a5d-4956-b5c2-dc906b17eb3f",
     "regions": {
      "ca70e3bb-e987-451c-9766-a461c42c9db8": {
       "attrs": {
        "height": 0.8,
        "width": 0.8,
        "x": 0.1,
        "y": 0.1
       },
       "content": {
        "cell": "b633255d-7a85-46d6-9d18-4b5f9b9daa2f",
        "part": "whole"
       },
       "id": "ca70e3bb-e987-451c-9766-a461c42c9db8"
      }
     }
    },
    "43da2677-4326-4ef5-9500-d3a40434990a": {
     "id": "43da2677-4326-4ef5-9500-d3a40434990a",
     "prev": "2eb8b5a6-7947-4759-884b-cc6ded1cfc32",
     "regions": {
      "c5a76df4-930a-449c-9e12-88e59e112a03": {
       "attrs": {
        "height": 0.8,
        "width": 0.8,
        "x": 0.1,
        "y": 0.1
       },
       "content": {
        "cell": "ec1917e8-f78b-40e6-a860-43b96a9793bd",
        "part": "whole"
       },
       "id": "c5a76df4-930a-449c-9e12-88e59e112a03"
      }
     }
    },
    "456c2759-60b6-4803-9007-661860d7bd5b": {
     "id": "456c2759-60b6-4803-9007-661860d7bd5b",
     "prev": "b1d7081b-95a3-4fc9-83ef-cd0fa82f95c3",
     "regions": {
      "c54b7f3e-b3da-4489-a078-f53c2121503a": {
       "attrs": {
        "height": 0.8,
        "width": 0.8,
        "x": 0.1,
        "y": 0.1
       },
       "content": {
        "cell": "07a19088-babf-4ea5-ab34-b5bd5a3ea98c",
        "part": "whole"
       },
       "id": "c54b7f3e-b3da-4489-a078-f53c2121503a"
      }
     }
    },
    "4e0b97b2-a4ea-403c-b735-211d729af2d3": {
     "id": "4e0b97b2-a4ea-403c-b735-211d729af2d3",
     "prev": "84c200df-d4ce-408b-9f24-50c87277f917",
     "regions": {
      "0b26d45e-d008-44bd-a6ac-403e3ed0c062": {
       "attrs": {
        "height": 0.8,
        "width": 0.8,
        "x": 0.1,
        "y": 0.1
       },
       "content": {
        "cell": "ef32bda7-f2a0-4017-913a-0c2a85981a0f",
        "part": "whole"
       },
       "id": "0b26d45e-d008-44bd-a6ac-403e3ed0c062"
      }
     }
    },
    "56e9f0c1-8f1a-4d22-825a-20af40728327": {
     "id": "56e9f0c1-8f1a-4d22-825a-20af40728327",
     "prev": "8334def8-fb04-4506-8332-ea354ffaf4e4",
     "regions": {
      "2b24e26c-c241-4a86-b421-befe2afd9e45": {
       "attrs": {
        "height": 0.8,
        "width": 0.8,
        "x": 0.1,
        "y": 0.1
       },
       "content": {
        "cell": "3290f2c2-71e8-4058-be35-150eb201e05c",
        "part": "whole"
       },
       "id": "2b24e26c-c241-4a86-b421-befe2afd9e45"
      }
     }
    },
    "5a75a899-3a24-42cc-bccd-3c3c181734ba": {
     "id": "5a75a899-3a24-42cc-bccd-3c3c181734ba",
     "prev": "fac28f0e-1ac8-4f36-ae8d-c938958f53cc",
     "regions": {
      "dbd15dfa-26ed-44c2-b1eb-94bdf329e3cc": {
       "attrs": {
        "height": 0.8,
        "width": 0.8,
        "x": 0.1,
        "y": 0.1
       },
       "content": {
        "cell": "b4d076e1-7fc8-40b2-93da-a9a033bd85fd",
        "part": "whole"
       },
       "id": "dbd15dfa-26ed-44c2-b1eb-94bdf329e3cc"
      }
     }
    },
    "5bc839ae-9d50-43d3-8266-04fdcf99d6fc": {
     "id": "5bc839ae-9d50-43d3-8266-04fdcf99d6fc",
     "prev": "7622d236-3ce7-44ac-8b91-a59155defb47",
     "regions": {
      "6985b6e3-1ed6-4d1e-8995-ed0574c92588": {
       "attrs": {
        "height": 0.8,
        "width": 0.8,
        "x": 0.1,
        "y": 0.1
       },
       "content": {
        "cell": "9f1ff34d-4309-4708-83e5-4991c206b537",
        "part": "whole"
       },
       "id": "6985b6e3-1ed6-4d1e-8995-ed0574c92588"
      }
     }
    },
    "6299f448-4906-40d2-bbb0-1029ae423316": {
     "id": "6299f448-4906-40d2-bbb0-1029ae423316",
     "prev": "b2c61cbe-e04f-4bea-a115-e3587263edd5",
     "regions": {
      "9cb4afc5-9868-4c40-b7df-160bda32fa93": {
       "attrs": {
        "height": 0.8,
        "width": 0.8,
        "x": 0.1,
        "y": 0.1
       },
       "content": {
        "cell": "953f6b51-f746-4937-9891-3724eb8bf6cf",
        "part": "whole"
       },
       "id": "9cb4afc5-9868-4c40-b7df-160bda32fa93"
      }
     }
    },
    "666e8c0b-dba5-4f3a-b14b-aeb4779c4b6f": {
     "id": "666e8c0b-dba5-4f3a-b14b-aeb4779c4b6f",
     "prev": "01cf57d4-49a9-42e8-ba46-5c1788853e82",
     "regions": {
      "d3f1802e-84fd-4a9b-a45f-7e6622c20e1c": {
       "attrs": {
        "height": 0.8,
        "width": 0.8,
        "x": 0.1,
        "y": 0.1
       },
       "content": {
        "cell": "c5e9de24-5e54-4cd0-a8a5-75ff23c94918",
        "part": "whole"
       },
       "id": "d3f1802e-84fd-4a9b-a45f-7e6622c20e1c"
      }
     }
    },
    "6d889cb0-b10c-4d0a-8b74-6b0c3df74d34": {
     "id": "6d889cb0-b10c-4d0a-8b74-6b0c3df74d34",
     "prev": "cf3a1e96-9cf8-4296-99a2-46f7a03de02c",
     "regions": {
      "4fccf126-2af4-4c55-8b22-73811edb0fc9": {
       "attrs": {
        "height": 0.8,
        "width": 0.8,
        "x": 0.1,
        "y": 0.1
       },
       "content": {
        "cell": "719b3d83-2b96-49dd-8e9f-730dff1e73f2",
        "part": "whole"
       },
       "id": "4fccf126-2af4-4c55-8b22-73811edb0fc9"
      }
     }
    },
    "7622d236-3ce7-44ac-8b91-a59155defb47": {
     "id": "7622d236-3ce7-44ac-8b91-a59155defb47",
     "prev": "230be66c-97b9-41e3-a7bb-3aa012c1b666",
     "regions": {
      "a2672c10-5f89-4336-877e-59afb72ed29c": {
       "attrs": {
        "height": 0.8,
        "width": 0.8,
        "x": 0.1,
        "y": 0.1
       },
       "content": {
        "cell": "34b8982f-0ed5-4ea7-9d03-8f69dd5f8863",
        "part": "whole"
       },
       "id": "a2672c10-5f89-4336-877e-59afb72ed29c"
      }
     }
    },
    "767c242c-4afa-4a7e-8ccd-379e8c33208f": {
     "id": "767c242c-4afa-4a7e-8ccd-379e8c33208f",
     "prev": "a6be455e-581f-4f7a-bacc-25989b486f3c",
     "regions": {
      "0d062343-f846-42e2-86e0-c807579ad33a": {
       "attrs": {
        "height": 0.8,
        "width": 0.8,
        "x": 0.1,
        "y": 0.1
       },
       "content": {
        "cell": "f9118115-126a-4d24-ab73-18885890c324",
        "part": "whole"
       },
       "id": "0d062343-f846-42e2-86e0-c807579ad33a"
      }
     }
    },
    "7eeba6ed-3361-41ef-a71c-be2505803718": {
     "id": "7eeba6ed-3361-41ef-a71c-be2505803718",
     "prev": "456c2759-60b6-4803-9007-661860d7bd5b",
     "regions": {
      "14740ef9-bc03-4be8-a1a9-c49bb941991d": {
       "attrs": {
        "height": 0.8,
        "width": 0.8,
        "x": 0.1,
        "y": 0.1
       },
       "content": {
        "cell": "cca90868-ed91-4822-8283-937e41450315",
        "part": "whole"
       },
       "id": "14740ef9-bc03-4be8-a1a9-c49bb941991d"
      }
     }
    },
    "7fad9e5d-3eca-46ee-8d31-0e92a3be4fda": {
     "id": "7fad9e5d-3eca-46ee-8d31-0e92a3be4fda",
     "prev": "821b4d16-22b5-4a2a-951d-059e663a3546",
     "regions": {
      "f4753a4c-6ddc-414f-94e7-1d607c998499": {
       "attrs": {
        "height": 0.8,
        "width": 0.8,
        "x": 0.1,
        "y": 0.1
       },
       "content": {
        "cell": "74b2c5d9-15c7-4a6f-a375-4b2b399319d4",
        "part": "whole"
       },
       "id": "f4753a4c-6ddc-414f-94e7-1d607c998499"
      }
     }
    },
    "821b4d16-22b5-4a2a-951d-059e663a3546": {
     "id": "821b4d16-22b5-4a2a-951d-059e663a3546",
     "prev": "d1cf7394-c411-4039-89b7-b94cdf234829",
     "regions": {
      "605bbc22-d284-484c-9d89-b4d5def879f6": {
       "attrs": {
        "height": 0.8,
        "width": 0.8,
        "x": 0.1,
        "y": 0.1
       },
       "content": {
        "cell": "09b3a946-ef77-4ba4-840d-2e3d4fe291d9",
        "part": "whole"
       },
       "id": "605bbc22-d284-484c-9d89-b4d5def879f6"
      }
     }
    },
    "8334def8-fb04-4506-8332-ea354ffaf4e4": {
     "id": "8334def8-fb04-4506-8332-ea354ffaf4e4",
     "prev": "b56e8b99-51ad-4b34-a095-7a4e9551cdda",
     "regions": {
      "cddf201c-70ac-4949-8118-5ba535e01217": {
       "attrs": {
        "height": 0.8,
        "width": 0.8,
        "x": 0.1,
        "y": 0.1
       },
       "content": {
        "cell": "b1534a79-a201-4ce6-85f3-895645432cc6",
        "part": "whole"
       },
       "id": "cddf201c-70ac-4949-8118-5ba535e01217"
      }
     }
    },
    "84c200df-d4ce-408b-9f24-50c87277f917": {
     "id": "84c200df-d4ce-408b-9f24-50c87277f917",
     "prev": "6299f448-4906-40d2-bbb0-1029ae423316",
     "regions": {
      "936b4805-c032-47ad-85b0-2e8d9c9f4650": {
       "attrs": {
        "height": 0.8,
        "width": 0.8,
        "x": 0.1,
        "y": 0.1
       },
       "content": {
        "cell": "98eb9f6b-0641-44d6-8d68-c58ce44e21cc",
        "part": "whole"
       },
       "id": "936b4805-c032-47ad-85b0-2e8d9c9f4650"
      }
     }
    },
    "85a3a3ab-f42c-4192-b245-3d279fdc718a": {
     "id": "85a3a3ab-f42c-4192-b245-3d279fdc718a",
     "prev": "7eeba6ed-3361-41ef-a71c-be2505803718",
     "regions": {
      "d731fe8b-5656-4f73-a398-7157bc64a298": {
       "attrs": {
        "height": 0.8,
        "width": 0.8,
        "x": 0.1,
        "y": 0.1
       },
       "content": {
        "cell": "6816221d-a769-4f04-b68f-5e2ef0f5c2dd",
        "part": "whole"
       },
       "id": "d731fe8b-5656-4f73-a398-7157bc64a298"
      }
     }
    },
    "86e92b6e-7283-4a43-be09-8358a151b23e": {
     "id": "86e92b6e-7283-4a43-be09-8358a151b23e",
     "prev": "a5f3d31c-67b4-4e26-b1f5-a639f1caf82f",
     "regions": {
      "5483ed2c-62f9-4248-8e9b-dcceb22af41b": {
       "attrs": {
        "height": 0.8,
        "width": 0.8,
        "x": 0.1,
        "y": 0.1
       },
       "content": {
        "cell": "de1a4519-5003-4fcb-961a-0b6b41dda338",
        "part": "whole"
       },
       "id": "5483ed2c-62f9-4248-8e9b-dcceb22af41b"
      }
     }
    },
    "9623c0ad-92ff-4a5f-81cf-d2faea16b42e": {
     "id": "9623c0ad-92ff-4a5f-81cf-d2faea16b42e",
     "prev": "106cb775-893f-42b7-8de5-a99d19804d6d",
     "regions": {
      "0979d5a4-1bd5-4fb3-b762-30f24f807de1": {
       "attrs": {
        "height": 0.8,
        "width": 0.8,
        "x": 0.1,
        "y": 0.1
       },
       "content": {
        "cell": "0fee7658-65ea-4d1e-8ccb-4e7c69248816",
        "part": "whole"
       },
       "id": "0979d5a4-1bd5-4fb3-b762-30f24f807de1"
      }
     }
    },
    "9b05e81c-bdf0-4316-bee1-3b91bc3f9750": {
     "id": "9b05e81c-bdf0-4316-bee1-3b91bc3f9750",
     "prev": "c0c3ec27-8685-4347-9d03-4039aec690a9",
     "regions": {
      "5cd3ea99-c2a2-4c3b-979b-a96f078a4f53": {
       "attrs": {
        "height": 0.8,
        "width": 0.8,
        "x": 0.1,
        "y": 0.1
       },
       "content": {
        "cell": "86258ee8-556a-4bec-af94-7f7df5ec300f",
        "part": "whole"
       },
       "id": "5cd3ea99-c2a2-4c3b-979b-a96f078a4f53"
      }
     }
    },
    "9b324d1e-16de-43f4-9518-c4cf87e6c334": {
     "id": "9b324d1e-16de-43f4-9518-c4cf87e6c334",
     "prev": "fea8c8c7-6be3-4152-ac1b-709bd311857c",
     "regions": {
      "75f6a3e1-7e64-47dd-a5ae-f7e773fec54f": {
       "attrs": {
        "height": 0.8,
        "width": 0.8,
        "x": 0.1,
        "y": 0.1
       },
       "content": {
        "cell": "b50dddbf-f4c3-447d-9d0a-8af23dea7e9c",
        "part": "whole"
       },
       "id": "75f6a3e1-7e64-47dd-a5ae-f7e773fec54f"
      }
     }
    },
    "a5f3d31c-67b4-4e26-b1f5-a639f1caf82f": {
     "id": "a5f3d31c-67b4-4e26-b1f5-a639f1caf82f",
     "prev": "058f2066-63d1-4961-a356-a7265f786ea4",
     "regions": {
      "6eadc1bb-fc36-40ed-9fca-80df3f6a59a2": {
       "attrs": {
        "height": 0.8,
        "width": 0.8,
        "x": 0.1,
        "y": 0.1
       },
       "content": {
        "cell": "6fcc6b85-5619-4df7-9a3a-bd9d40aaa4dd",
        "part": "whole"
       },
       "id": "6eadc1bb-fc36-40ed-9fca-80df3f6a59a2"
      }
     }
    },
    "a6be455e-581f-4f7a-bacc-25989b486f3c": {
     "id": "a6be455e-581f-4f7a-bacc-25989b486f3c",
     "prev": "9b324d1e-16de-43f4-9518-c4cf87e6c334",
     "regions": {
      "45727c69-75a8-41dd-9d24-0aca9edc80c4": {
       "attrs": {
        "height": 0.8,
        "width": 0.8,
        "x": 0.1,
        "y": 0.1
       },
       "content": {
        "cell": "b6d4bbb7-39b8-4f8c-a83d-326a2b7d42eb",
        "part": "whole"
       },
       "id": "45727c69-75a8-41dd-9d24-0aca9edc80c4"
      }
     }
    },
    "ad0c9065-36d9-433b-8cd6-fa2285f077eb": {
     "id": "ad0c9065-36d9-433b-8cd6-fa2285f077eb",
     "prev": "5a75a899-3a24-42cc-bccd-3c3c181734ba",
     "regions": {
      "5e9e6094-fb6a-44de-8b68-00247640f8e9": {
       "attrs": {
        "height": 0.8,
        "width": 0.8,
        "x": 0.1,
        "y": 0.1
       },
       "content": {
        "cell": "0d35facc-3f85-4951-9d40-01203cbfe833",
        "part": "whole"
       },
       "id": "5e9e6094-fb6a-44de-8b68-00247640f8e9"
      }
     }
    },
    "b1d7081b-95a3-4fc9-83ef-cd0fa82f95c3": {
     "id": "b1d7081b-95a3-4fc9-83ef-cd0fa82f95c3",
     "prev": "86e92b6e-7283-4a43-be09-8358a151b23e",
     "regions": {
      "46a80595-595e-4ac7-80c1-6bf8764afd41": {
       "attrs": {
        "height": 0.8,
        "width": 0.8,
        "x": 0.1,
        "y": 0.1
       },
       "content": {
        "cell": "146e481d-9212-41b0-b4e0-20d45c882f8d",
        "part": "whole"
       },
       "id": "46a80595-595e-4ac7-80c1-6bf8764afd41"
      }
     }
    },
    "b2c61cbe-e04f-4bea-a115-e3587263edd5": {
     "id": "b2c61cbe-e04f-4bea-a115-e3587263edd5",
     "prev": "bdb484d0-5e92-4abf-bd09-dcecd0ce1d55",
     "regions": {
      "a9fa746c-32f1-4c1a-989a-bfe5548df850": {
       "attrs": {
        "height": 0.8,
        "width": 0.8,
        "x": 0.1,
        "y": 0.1
       },
       "content": {
        "cell": "0b25b541-dbb6-4d67-a825-eb11f6581137",
        "part": "whole"
       },
       "id": "a9fa746c-32f1-4c1a-989a-bfe5548df850"
      }
     }
    },
    "b56e8b99-51ad-4b34-a095-7a4e9551cdda": {
     "id": "b56e8b99-51ad-4b34-a095-7a4e9551cdda",
     "prev": "43da2677-4326-4ef5-9500-d3a40434990a",
     "regions": {
      "0f354acb-9550-4a4c-9b9d-9b64d6c31263": {
       "attrs": {
        "height": 0.8,
        "width": 0.8,
        "x": 0.1,
        "y": 0.1
       },
       "content": {
        "cell": "0732ee19-2ba6-4b1e-b9d6-2cb4571ed65f",
        "part": "whole"
       },
       "id": "0f354acb-9550-4a4c-9b9d-9b64d6c31263"
      }
     }
    },
    "bdb484d0-5e92-4abf-bd09-dcecd0ce1d55": {
     "id": "bdb484d0-5e92-4abf-bd09-dcecd0ce1d55",
     "prev": "43a834ad-fdda-486c-8a10-4c6ef48f2156",
     "regions": {
      "8aa31f2d-8afc-4555-80fd-932b46e1092f": {
       "attrs": {
        "height": 0.8,
        "width": 0.8,
        "x": 0.1,
        "y": 0.1
       },
       "content": {
        "cell": "4c8416bf-a2da-4a41-8544-a9bf90c9c067",
        "part": "whole"
       },
       "id": "8aa31f2d-8afc-4555-80fd-932b46e1092f"
      }
     }
    },
    "bf10dd7b-1e12-4955-993e-826fbcb4c7bb": {
     "id": "bf10dd7b-1e12-4955-993e-826fbcb4c7bb",
     "prev": "666e8c0b-dba5-4f3a-b14b-aeb4779c4b6f",
     "regions": {
      "6d80fa02-46b1-4ed5-994f-514c33d58a6b": {
       "attrs": {
        "height": 0.8,
        "width": 0.8,
        "x": 0.1,
        "y": 0.1
       },
       "content": {
        "cell": "13d2311c-8b43-46c8-8c30-536867228e61",
        "part": "whole"
       },
       "id": "6d80fa02-46b1-4ed5-994f-514c33d58a6b"
      }
     }
    },
    "c0c3ec27-8685-4347-9d03-4039aec690a9": {
     "id": "c0c3ec27-8685-4347-9d03-4039aec690a9",
     "prev": "f2daeeba-7cb4-40ab-b07e-2d8b25c99630",
     "regions": {
      "a464d44f-c253-4aa0-9139-b48b6af31df2": {
       "attrs": {
        "height": 0.8,
        "width": 0.8,
        "x": 0.1,
        "y": 0.1
       },
       "content": {
        "cell": "9aa81659-3aeb-4e0c-986e-02bfc41e7ae9",
        "part": "whole"
       },
       "id": "a464d44f-c253-4aa0-9139-b48b6af31df2"
      }
     }
    },
    "cf3a1e96-9cf8-4296-99a2-46f7a03de02c": {
     "id": "cf3a1e96-9cf8-4296-99a2-46f7a03de02c",
     "prev": "56e9f0c1-8f1a-4d22-825a-20af40728327",
     "regions": {
      "e37d16a3-70ab-4090-b5bb-8d44da221877": {
       "attrs": {
        "height": 0.8,
        "width": 0.8,
        "x": 0.1,
        "y": 0.1
       },
       "content": {
        "cell": "87c5e0fe-2695-4367-a20b-417f899b3d3f",
        "part": "whole"
       },
       "id": "e37d16a3-70ab-4090-b5bb-8d44da221877"
      }
     }
    },
    "d1cf7394-c411-4039-89b7-b94cdf234829": {
     "id": "d1cf7394-c411-4039-89b7-b94cdf234829",
     "prev": "ee2aaa45-2666-4080-844d-fb5db55cd51b",
     "regions": {
      "3b76c523-6ed3-4f5e-9099-4a576e4bb96c": {
       "attrs": {
        "height": 0.8,
        "width": 0.8,
        "x": 0.1,
        "y": 0.1
       },
       "content": {
        "cell": "5cb9adaa-e811-44d5-856d-7b8dc8286f6b",
        "part": "whole"
       },
       "id": "3b76c523-6ed3-4f5e-9099-4a576e4bb96c"
      }
     }
    },
    "df30cd4a-e384-4ba6-8712-c55137180ada": {
     "id": "df30cd4a-e384-4ba6-8712-c55137180ada",
     "prev": "bf10dd7b-1e12-4955-993e-826fbcb4c7bb",
     "regions": {
      "06ea383e-ceb9-497c-a86e-5974d125de04": {
       "attrs": {
        "height": 0.8,
        "width": 0.8,
        "x": 0.1,
        "y": 0.1
       },
       "content": {
        "cell": "57c313ac-3a99-4a6d-ae9d-2b49d42d03f0",
        "part": "whole"
       },
       "id": "06ea383e-ceb9-497c-a86e-5974d125de04"
      }
     }
    },
    "ee2aaa45-2666-4080-844d-fb5db55cd51b": {
     "id": "ee2aaa45-2666-4080-844d-fb5db55cd51b",
     "prev": "42f22921-fd09-4004-a754-01b19dd93c65",
     "regions": {
      "d8131506-481f-4554-99b4-a9f69094a09b": {
       "attrs": {
        "height": 0.8,
        "width": 0.8,
        "x": 0.1,
        "y": 0.1
       },
       "content": {
        "cell": "409e0a53-a86d-42ca-a103-eafa187e82ee",
        "part": "whole"
       },
       "id": "d8131506-481f-4554-99b4-a9f69094a09b"
      }
     }
    },
    "f2daeeba-7cb4-40ab-b07e-2d8b25c99630": {
     "id": "f2daeeba-7cb4-40ab-b07e-2d8b25c99630",
     "prev": "85a3a3ab-f42c-4192-b245-3d279fdc718a",
     "regions": {
      "8e4845b9-68cd-4a1a-a1bb-5b635a13014c": {
       "attrs": {
        "height": 0.8,
        "width": 0.8,
        "x": 0.1,
        "y": 0.1
       },
       "content": {
        "cell": "fbb40e22-09ef-42fa-91e9-21f5a16fdf02",
        "part": "whole"
       },
       "id": "8e4845b9-68cd-4a1a-a1bb-5b635a13014c"
      }
     }
    },
    "f920c3f2-551f-4502-a0c0-72d05764d971": {
     "id": "f920c3f2-551f-4502-a0c0-72d05764d971",
     "prev": "1a89cb21-9f24-47d2-b5a0-5b15bbba705b",
     "regions": {
      "c15dce66-dbcb-432c-a379-1c0f2ca6cbd8": {
       "attrs": {
        "height": 0.8,
        "width": 0.8,
        "x": 0.1,
        "y": 0.1
       },
       "content": {
        "cell": "2941c5a9-4d5d-4056-8f1b-4164b4131ad1",
        "part": "whole"
       },
       "id": "c15dce66-dbcb-432c-a379-1c0f2ca6cbd8"
      }
     }
    },
    "fac28f0e-1ac8-4f36-ae8d-c938958f53cc": {
     "id": "fac28f0e-1ac8-4f36-ae8d-c938958f53cc",
     "prev": "7fad9e5d-3eca-46ee-8d31-0e92a3be4fda",
     "regions": {
      "7464abba-f62f-4d60-9c96-5d1d71ebe6db": {
       "attrs": {
        "height": 0.8,
        "width": 0.8,
        "x": 0.1,
        "y": 0.1
       },
       "content": {
        "cell": "cf02f3ef-e2de-448a-8559-739262a19c2f",
        "part": "whole"
       },
       "id": "7464abba-f62f-4d60-9c96-5d1d71ebe6db"
      }
     }
    },
    "fea8c8c7-6be3-4152-ac1b-709bd311857c": {
     "id": "fea8c8c7-6be3-4152-ac1b-709bd311857c",
     "prev": "9623c0ad-92ff-4a5f-81cf-d2faea16b42e",
     "regions": {
      "d1576fac-f918-43d8-96a4-59ff213a1091": {
       "attrs": {
        "height": 0.8,
        "width": 0.8,
        "x": 0.1,
        "y": 0.1
       },
       "content": {
        "cell": "42ffa37d-c3bc-47c7-8a37-3677be4eaa16",
        "part": "whole"
       },
       "id": "d1576fac-f918-43d8-96a4-59ff213a1091"
      }
     }
    }
   },
   "themes": {
    "default": "ac59878f-cf8d-498d-be58-d1668c696fc5",
    "theme": {}
   }
  }
 },
 "nbformat": 4,
 "nbformat_minor": 1
}
