{
 "cells": [
  {
   "cell_type": "markdown",
   "metadata": {},
   "source": [
    "# Build a simple program (1 h)"
   ]
  },
  {
   "cell_type": "markdown",
   "metadata": {},
   "source": [
    "By doing this exercise you will apply Python basics that we learned today: loops, lists, functions, strings. In addition, you will try to write data to a text file."
   ]
  },
  {
   "cell_type": "markdown",
   "metadata": {},
   "source": [
    "### Synopsis \n",
    "\n",
    "* Create data of flight distance, and radiative forcing within some range\n",
    "* Functionalise the equation $CO_2$ equivalent emissions\n",
    "* In a loop calculate the co2e with distance and radiative forcing as inputs\n",
    "* Open a new text file for writing\n",
    "* Loop over the function output and write the data to the file\n",
    "* **Hint:** use string formatting to specify number of decimal places \n"
   ]
  },
  {
   "cell_type": "markdown",
   "metadata": {},
   "source": [
    "**1. Create data of within the following range**"
   ]
  },
  {
   "cell_type": "markdown",
   "metadata": {},
   "source": [
    "* distance: 200-19000 km, with increments of 400 km\n",
    "* Include the effect of return flights"
   ]
  },
  {
   "cell_type": "markdown",
   "metadata": {},
   "source": [
    "**Hint:** use `range()` function and wrap it in a `list()` function.\n",
    "\n",
    "If you want to create lists of arbitrary values (e.g. non-integer), use `my_list = [ ]` notation."
   ]
  },
  {
   "cell_type": "code",
   "execution_count": null,
   "metadata": {},
   "outputs": [],
   "source": [
    "## Your code\n"
   ]
  },
  {
   "cell_type": "markdown",
   "metadata": {},
   "source": [
    "Print out the `distance` variable to check yourself."
   ]
  },
  {
   "cell_type": "code",
   "execution_count": null,
   "metadata": {},
   "outputs": [],
   "source": [
    "print(distances)"
   ]
  },
  {
   "cell_type": "markdown",
   "metadata": {},
   "source": [
    "**2. Create a function to calculate the $CO_2 equiv$ emissions**"
   ]
  },
  {
   "cell_type": "markdown",
   "metadata": {},
   "source": [
    "The input and output of the function is explained in the docstring.\n",
    "The formula is simply:\n",
    "\n",
    "$flight CO_2^{equiv} = dist \\times CO_2^{equiv}/km$\n",
    "\n",
    "Both first class and return tickets double the emissions. The radiative transfer effect (default=2.0) is already included in the factors below but you can add the option for different value."
   ]
  },
  {
   "cell_type": "code",
   "execution_count": null,
   "metadata": {},
   "outputs": [],
   "source": [
    "def calc_co2e(dist,\n",
    "              returnf=False,\n",
    "              firstclass=False,\n",
    "              radforc=2.0,\n",
    "              ):\n",
    "    \"\"\"\n",
    "    calculate equivalent carbon emissions from flights\n",
    "    \n",
    "    Parameters\n",
    "    ==========\n",
    "    dist - flight distance in km\n",
    "    \n",
    "    Optional inputs\n",
    "    ---------------\n",
    "    returnf - Return flight (default=False)\n",
    "    firstclass - First class flight (default=False)\n",
    "    radforc - radiative forcing factor (default=2.0)\n",
    "    \n",
    "    Returns\n",
    "    =======\n",
    "    CO2 equivalent emissions in kg\n",
    "\n",
    "    Emission factors (kg CO2e/km)\n",
    "    https://flygrn.com/blog/carbon-emission-factors-used-by-flygrn\n",
    "    \n",
    "    0.26744  < 700 km \n",
    "    0.15845  700 – 2500\n",
    "    0.15119  > 2500 km \n",
    "    \"\"\"\n",
    "    "
   ]
  },
  {
   "cell_type": "code",
   "execution_count": 1,
   "metadata": {},
   "outputs": [],
   "source": [
    "# calc_co2e( )"
   ]
  },
  {
   "cell_type": "markdown",
   "metadata": {},
   "source": [
    "**3. In a loop, calculate the co2 emissions with distance as input**"
   ]
  },
  {
   "cell_type": "markdown",
   "metadata": {},
   "source": [
    "* First, create an empty list `co2e` for values\n",
    "* Then, write a loop\n",
    "* Every iteration: after $co_2 equiv$ is computed, append it to the `co2e` list"
   ]
  },
  {
   "cell_type": "code",
   "execution_count": null,
   "metadata": {},
   "outputs": [],
   "source": []
  },
  {
   "cell_type": "markdown",
   "metadata": {},
   "source": [
    "Print out `co2e` variable to check that the values are sensible."
   ]
  },
  {
   "cell_type": "code",
   "execution_count": null,
   "metadata": {},
   "outputs": [],
   "source": []
  },
  {
   "cell_type": "markdown",
   "metadata": {},
   "source": [
    "** 4. Open a new text file for writing **"
   ]
  },
  {
   "cell_type": "markdown",
   "metadata": {},
   "source": [
    "Now, you need to open a file. Explore the built-in function `open()`:"
   ]
  },
  {
   "cell_type": "code",
   "execution_count": null,
   "metadata": {},
   "outputs": [],
   "source": [
    "#open?\n"
   ]
  },
  {
   "cell_type": "markdown",
   "metadata": {},
   "source": [
    "The recommended way of writing/reading files is using the context statement `with`. This makes sure that the whole block is excuted withiut interruption, which includes closing the file.\n",
    "\n",
    "```python\n",
    "# example\n",
    "with open('super_descriptive_file_name', mode='r') as your_file:\n",
    "    your_file.read()\n",
    "```"
   ]
  },
  {
   "cell_type": "markdown",
   "metadata": {},
   "source": [
    "#### Some commonly used I/O modes:\n",
    "* `mode='w'` means that we opened file for *writing*. **This mode overwrites any existing data.**\n",
    "* `mode='r'` - open a file for *reading*\n",
    "* `mode='a'` - open a file for *appending* data\n",
    "* `mode='x'` - open for exclusive creation, failing if the file already exists\n",
    "* `mode='b'` - binary mode"
   ]
  },
  {
   "cell_type": "markdown",
   "metadata": {},
   "source": [
    "**5. Loop over the function output and write the data to the file**"
   ]
  },
  {
   "cell_type": "markdown",
   "metadata": {
    "collapsed": true
   },
   "source": [
    "* *Open a file named `co2e_emissions_from_flight.txt` for **writing**\n",
    "* Use `with` statement\n",
    "* Inside the `with` code block, write a loop to iterate through the `heat_flux` values and write each of them on a new line\n",
    "* Instead of `read()` as in the example above, use `write()` method\n",
    "* **Note:** `write()` method needs **string** type input\n",
    "* You can convert numeric values to **string** type using `str()` function or, even better, [`f-strings`](06-Built-in-Scalar-Types.ipynb#String-formatting)\n",
    "* Add \"\\n\" character to the string to indicate a line break"
   ]
  },
  {
   "cell_type": "code",
   "execution_count": null,
   "metadata": {},
   "outputs": [],
   "source": []
  },
  {
   "cell_type": "markdown",
   "metadata": {},
   "source": [
    "Use a text editor of your choice (or Jupyter!) to check the contents of the file."
   ]
  },
  {
   "cell_type": "code",
   "execution_count": null,
   "metadata": {},
   "outputs": [],
   "source": [
    "# On Windows:\n",
    "!type co2e_emissions.txt"
   ]
  },
  {
   "cell_type": "code",
   "execution_count": null,
   "metadata": {},
   "outputs": [],
   "source": [
    "# On UNIX:\n",
    "# !cat co2e_emissions_from_flight.txt"
   ]
  },
  {
   "cell_type": "markdown",
   "metadata": {},
   "source": [
    "[See solution](solutions/11-Ex-Build-A-Program-Solution.ipynb)"
   ]
  }
 ],
 "metadata": {
  "anaconda-cloud": {},
  "kernelspec": {
   "display_name": "Python 3",
   "language": "python",
   "name": "python3"
  },
  "language_info": {
   "codemirror_mode": {
    "name": "ipython",
    "version": 3
   },
   "file_extension": ".py",
   "mimetype": "text/x-python",
   "name": "python",
   "nbconvert_exporter": "python",
   "pygments_lexer": "ipython3",
   "version": "3.8.10"
  }
 },
 "nbformat": 4,
 "nbformat_minor": 1
}
