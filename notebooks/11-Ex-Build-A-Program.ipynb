{
 "cells": [
  {
   "cell_type": "markdown",
   "metadata": {},
   "source": [
    "# Exercise: build a simple program (1 h)"
   ]
  },
  {
   "cell_type": "markdown",
   "metadata": {},
   "source": [
    "By doing this exercise you will apply Python basics that we learned today: loops, lists, functions, strings. In addition, you will try to write data to a text file."
   ]
  },
  {
   "cell_type": "markdown",
   "metadata": {},
   "source": [
    "### Synopsis \n",
    "\n",
    "* Create data of wind and sea surface temperature within some range\n",
    "* Functionalise the equation for the heat flux\n",
    "* In a loop calculate the heat flux with wind speed and temperature as inputs\n",
    "* Open a new text file for writing\n",
    "* Loop over the function output and write the data to the file\n",
    "* **Hint:** use string formatting to specify number of decimal places"
   ]
  },
  {
   "cell_type": "markdown",
   "metadata": {},
   "source": [
    "### Equation\n",
    "The bulk formula for the sea-to-air heat flux (positive upwards) is\n",
    "\n",
    "$Q = \\rho c_p C_H (u_{atm} - u_{sea}) (T_{sea} - T_{atm}) $\n",
    "\n",
    "where \n",
    "* $Q$ is the sensible heat flux,\n",
    "* $\\rho$ = 1.2 $kg~m^{−3}$ is the density of air at sea level,\n",
    "* $c_p$ = 1004.5 $J kg^{-1} K^{-1} $ is the specific heat capacity,\n",
    "* $C_H$ = 1.2$\\times 10^{-3}$ is the exchange coefficient for heat\n",
    "* $u_{sea}$ = 0.5 $m~s^{−1}$ is the ocean surface velocity,\n",
    "* $u_{atm}$ is the wind speed at 10 m above the sea surface,\n",
    "* $T_{sea}$ is the sea surface temperature (SST), and\n",
    "* $T_{atm}$ = 17 $^\\circ C$ is the air temperature at 10 m above the sea surface."
   ]
  },
  {
   "cell_type": "markdown",
   "metadata": {},
   "source": [
    "**1. Create data of within the following range**"
   ]
  },
  {
   "cell_type": "markdown",
   "metadata": {},
   "source": [
    "* wind speed: 0-20 $m~s^{−1}$, every 2 $m~s^{−1}$\n",
    "* SST: 5-15 $^\\circ C$, every 1 $^\\circ C$"
   ]
  },
  {
   "cell_type": "markdown",
   "metadata": {},
   "source": [
    "**Hint:** use `range()` function and wrap it in a `list()` function.\n",
    "\n",
    "If you want to create lists of arbitrary values (e.g. non-integer), use `my_list = [ ]` notation."
   ]
  },
  {
   "cell_type": "code",
   "execution_count": 1,
   "metadata": {
    "collapsed": true
   },
   "outputs": [],
   "source": [
    "## Your code\n",
    "#wind_speed = list(range(    ))\n",
    "#sst = "
   ]
  },
  {
   "cell_type": "markdown",
   "metadata": {},
   "source": [
    "Print out the `wind_speed` and `sst` variables to check yourself."
   ]
  },
  {
   "cell_type": "markdown",
   "metadata": {},
   "source": [
    "**2. Create a function to calculate the heat flux**"
   ]
  },
  {
   "cell_type": "markdown",
   "metadata": {},
   "source": [
    "* Wind speed and temperature should be the required input arguments\n",
    "* Make the constants ($\\rho$, $c_p$, etc) to be keyword (aka optional) arguments with default values\n",
    "* Use `return` statement to return the output"
   ]
  },
  {
   "cell_type": "markdown",
   "metadata": {},
   "source": [
    "You've already forgotten it, but the formula is $Q = \\rho c_p C_H (u_{atm} - u_{sea}) (T_{sea} - T_{atm}) $"
   ]
  },
  {
   "cell_type": "code",
   "execution_count": 2,
   "metadata": {
    "collapsed": true
   },
   "outputs": [],
   "source": [
    "# def calc_heat_flux():"
   ]
  },
  {
   "cell_type": "markdown",
   "metadata": {},
   "source": [
    "**3. In a loop, calculate the heat flux with wind speed and temperature as inputs**"
   ]
  },
  {
   "cell_type": "markdown",
   "metadata": {},
   "source": [
    "* First, create an empty list `heat_flux` of $Q$ values\n",
    "* Then, write a loop\n",
    "* Every iteration: after $Q$ is computed, append it to the `heat_flux` list"
   ]
  },
  {
   "cell_type": "code",
   "execution_count": 3,
   "metadata": {
    "collapsed": true
   },
   "outputs": [],
   "source": [
    "#\n",
    "# for ...\n",
    "#     q = calc_heat_flux(...)\n",
    "#"
   ]
  },
  {
   "cell_type": "markdown",
   "metadata": {},
   "source": [
    "Print out `heat_flux` variable to check that the values are sensible (no pun intended)."
   ]
  },
  {
   "cell_type": "markdown",
   "metadata": {},
   "source": [
    "** 4. Open a new text file for writing **"
   ]
  },
  {
   "cell_type": "markdown",
   "metadata": {},
   "source": [
    "Now, you need to open a file. Explore the built-in function `open()`:"
   ]
  },
  {
   "cell_type": "code",
   "execution_count": 4,
   "metadata": {
    "collapsed": true
   },
   "outputs": [],
   "source": [
    "# open?"
   ]
  },
  {
   "cell_type": "markdown",
   "metadata": {},
   "source": [
    "The recommended way of writing/reading files is using the context statement [`with`](https://www.google.co.uk/search?q=python+with+statement):\n",
    "\n",
    "```python\n",
    "# example\n",
    "with open('super_descriptive_file_name', mode='r') as your_file:\n",
    "    your_file.read()\n",
    "```"
   ]
  },
  {
   "cell_type": "markdown",
   "metadata": {},
   "source": [
    "#### Some commonly used I/O modes:\n",
    "* `mode='w'` means that we opened file for *writing*. **This mode overwrites any existing data.**\n",
    "* `mode='r'` - open a file for *reading*\n",
    "* `mode='a'` - open a file for *appending* data\n",
    "* `mode='x'` - open for exclusive creation, failing if the file already exists\n",
    "* `mode='b'` - binary mode"
   ]
  },
  {
   "cell_type": "markdown",
   "metadata": {},
   "source": [
    "**5. Loop over the function output and write the data to the file**"
   ]
  },
  {
   "cell_type": "markdown",
   "metadata": {
    "collapsed": true
   },
   "source": [
    "* *Open a file named `heat_flux_data.txt` for **writing**\n",
    "* Use `with` statement\n",
    "* Inside the `with` code block, write a loop to iterate through the `heat_flux` values and write each of them on a new line\n",
    "* Instead of `read()` as in the example above, use `write()` method\n",
    "* **Note:** `write()` method needs **string** type input\n",
    "* You can convert numeric values to **string** type using `str()` function or, even better, [`f-strings`](06-Built-in-Scalar-Types.ipynb#String-formatting)\n",
    "* Add \"\\n\" character to the string to indicate a line break"
   ]
  },
  {
   "cell_type": "code",
   "execution_count": 5,
   "metadata": {
    "collapsed": true
   },
   "outputs": [],
   "source": [
    "# Your code here..."
   ]
  },
  {
   "cell_type": "markdown",
   "metadata": {},
   "source": [
    "Use a text editor of your choice (or Jupyter!) to check the contents of the file."
   ]
  },
  {
   "cell_type": "markdown",
   "metadata": {},
   "source": [
    "**[Solution](solutions/11-Ex-Build-A-Program-Solution.ipynb)**"
   ]
  }
 ],
 "metadata": {
  "anaconda-cloud": {},
  "kernelspec": {
   "display_name": "Python 3",
   "language": "python",
   "name": "python3"
  },
  "language_info": {
   "codemirror_mode": {
    "name": "ipython",
    "version": 3
   },
   "file_extension": ".py",
   "mimetype": "text/x-python",
   "name": "python",
   "nbconvert_exporter": "python",
   "pygments_lexer": "ipython3",
   "version": "3.8.3"
  }
 },
 "nbformat": 4,
 "nbformat_minor": 1
}
