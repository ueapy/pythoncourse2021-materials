{
 "cells": [
  {
   "cell_type": "code",
   "execution_count": 1,
   "metadata": {},
   "outputs": [],
   "source": [
    "import numpy as np\n",
    "import matplotlib.pyplot as plt"
   ]
  },
  {
   "cell_type": "markdown",
   "metadata": {},
   "source": [
    "# Bonus practice: matplotlib & numpy "
   ]
  },
  {
   "cell_type": "markdown",
   "metadata": {},
   "source": [
    "## HadCRUT5 Global Temperature Change\n",
    "\n",
    "To practice some of the matplotlib and numpy skills we learned, let's take a look at yearly and smoothed time series of globally averaged temperature anomalies derived from the HadCRUT5 dataset. \n"
   ]
  },
  {
   "cell_type": "markdown",
   "metadata": {},
   "source": [
    "- Data source: https://crudata.uea.ac.uk/cru/info/warming/gtc.csv\n",
    "- Dataset: HadCRUT5 (Morice et al., 2021)\n",
    "- Variables:\n",
    "  1. Yearly global temperature anomaly compared to 1961-1990 baseline\n",
    "  2. Smoothed anomaly\n",
    "- Units: °C\n",
    "- Time: 1850 - 2020 (yearly values)\n",
    "- Format:\n",
    "\n",
    "| Year | Anomaly | Smoothed|\n",
    "| :--: | :-------|  :----- |\n",
    "| 1850 | -0.418  | -0.31   |"
   ]
  },
  {
   "cell_type": "markdown",
   "metadata": {},
   "source": [
    "First, we'll load in the data using `np.loadtxt`."
   ]
  },
  {
   "cell_type": "code",
   "execution_count": 3,
   "metadata": {},
   "outputs": [],
   "source": [
    "crudata_path = \"../data/global-temperature-change_hadcrut5.csv\"\n",
    "# load the dataset  \n",
    "gt_year, gt_anomaly, gt_smooth = np.loadtxt(crudata_path, skiprows=2, \n",
    "                                            delimiter=\",\", unpack=True)"
   ]
  },
  {
   "cell_type": "markdown",
   "metadata": {},
   "source": [
    "## Exercise 1: Use numpy to get to know the data!"
   ]
  },
  {
   "cell_type": "markdown",
   "metadata": {},
   "source": [
    "a) First, what are the types and shapes of `gt_year`, `gt_anomaly` and `gt_smooth`? \n",
    "\n",
    "Which period does the time series cover? "
   ]
  },
  {
   "cell_type": "code",
   "execution_count": null,
   "metadata": {},
   "outputs": [],
   "source": [
    "# Your code here..."
   ]
  },
  {
   "cell_type": "markdown",
   "metadata": {},
   "source": [
    "b) 2020 was the 2nd warmest year on record - which year was the warmest? "
   ]
  },
  {
   "cell_type": "code",
   "execution_count": null,
   "metadata": {},
   "outputs": [],
   "source": [
    "# Your code here... \n",
    "# Hint - find the maximum value? Which index contains that maximum value? "
   ]
  },
  {
   "cell_type": "markdown",
   "metadata": {},
   "source": [
    "c) How many years since 1995 (inclusive) were the hottest on record at the time?"
   ]
  },
  {
   "cell_type": "code",
   "execution_count": null,
   "metadata": {},
   "outputs": [],
   "source": [
    "# Your code here..."
   ]
  },
  {
   "cell_type": "markdown",
   "metadata": {},
   "source": [
    "b) The temperature anomaly data is referenced to the 1961-1990 baseline. \n",
    " * What is the mean temperature anomaly prior to 1961?\n",
    " * What is the mean temperature anomaly after 1990? "
   ]
  },
  {
   "cell_type": "code",
   "execution_count": null,
   "metadata": {},
   "outputs": [],
   "source": [
    "# Your code here... \n",
    "# Hint - create a boolean array to sample the years you are interested in?  "
   ]
  },
  {
   "cell_type": "markdown",
   "metadata": {},
   "source": [
    "c) How many years has the temperature anomaly exceeded 0.5C? "
   ]
  },
  {
   "cell_type": "code",
   "execution_count": null,
   "metadata": {},
   "outputs": [],
   "source": [
    "# Your code here... \n",
    "# Hint - create a boolean array to sample the years you are interested in?  "
   ]
  },
  {
   "cell_type": "markdown",
   "metadata": {},
   "source": [
    "## Exercise 2: Matplotlib"
   ]
  },
  {
   "cell_type": "markdown",
   "metadata": {},
   "source": [
    "The following graph is a screen shot from the [info sheet](https://sites.uea.ac.uk/documents/421974/1295957/CRU-Info-sheet-2021.pdf/4e8e6be5-2b01-44ff-a139-62e4ec79f09f) published about the dataset. \n",
    "\n",
    "Let's try to recreate it!  \n",
    "\n",
    "![](../figures/HadCRUT5_globtemp_infosheet.png)"
   ]
  },
  {
   "cell_type": "markdown",
   "metadata": {},
   "source": [
    "Positive yearly temperature anomalies are plotted in red, negative anomalies in blue. \n",
    "\n",
    "As an extra challenge, use the useful function [`numpy.where()`](https://numpy.org/doc/stable/reference/generated/numpy.where.html) to isolate positive and negative anomalies:\n",
    "\n",
    "    `numpy.where(condition, value for True positions, value for False positions)`\n",
    "\n",
    "The result should be 2 1D numpy arrays with only the positive (negative) values, and 0 or np.nan (\"not a number\") on the positions of the negative (positive) values. \n",
    "\n",
    "\n",
    "<i>Click \"details\" for a solution to proceed to plotting: </i>\n",
    "<details>\n",
    "\n",
    "    gt_neg_anomaly = np.where(gt_anomaly < 0, gt_anomaly, np.nan) \n",
    "    gt_pos_anomaly = np.where(gt_anomaly > 0, gt_anomaly, np.nan) \n",
    "\n",
    "</details> "
   ]
  },
  {
   "cell_type": "code",
   "execution_count": null,
   "metadata": {},
   "outputs": [],
   "source": [
    "# Your code here\n"
   ]
  },
  {
   "cell_type": "markdown",
   "metadata": {},
   "source": [
    "That's all the pre-processing we need, the data is ready to plot! Now, let's dissect the CRU graph in order to recreate it..."
   ]
  },
  {
   "cell_type": "markdown",
   "metadata": {},
   "source": [
    "<b>hint 0: </b>These are all the elements on the figure that we need to have there:\n",
    "- One ax / plotting area\n",
    "- Bar plots with specific colors for positive and negative temperature anomalies\n",
    "- A thick black line plot overlaying the bars\n",
    "- Major and minor ticks (pay attention to the intervals)\n",
    "- A horizontal line for a temperature anomaly of 0°C\n",
    "- Some text in the upper left corner\n",
    "- Labels for the ticks of the X and Y axis (pay attention to the intervals).\n",
    "- Label for the Y axis\n",
    "\n",
    "When you are done, save the figure to a high resolution (300 dots per inch) png file. Good luck! \n",
    "\n",
    "\n",
    "\n",
    "<b>hint 1:</b> Take a look back to [notebook 15-Matplotlib](15-Matplotlib.ipynb) to find out which functions you may need to plot lines and bars, adjust ticks and their labels, put labels and text on your plot, create a figure and save the figure.\n",
    "\n",
    "<b>hint 2:</b> Optionally, you can use [axhline](https://matplotlib.org/stable/api/_as_gen/matplotlib.pyplot.axhline.html).\n",
    "\n",
    "<b>hint 3:</b> There are different ways to get a bit of text on a graph. [Annotate](https://matplotlib.org/stable/api/_as_gen/matplotlib.pyplot.annotate.html) is one option, [text](https://matplotlib.org/stable/api/_as_gen/matplotlib.pyplot.text.html) is another one. "
   ]
  },
  {
   "cell_type": "code",
   "execution_count": null,
   "metadata": {},
   "outputs": [],
   "source": [
    "# set font size and color for matplotlib text\n",
    "plt.rcParams[\"font.size\"] = \"20\""
   ]
  },
  {
   "cell_type": "code",
   "execution_count": null,
   "metadata": {},
   "outputs": [],
   "source": [
    "# init figure\n",
    "\n",
    "# bar plot of positive and negative anomalies\n",
    "\n",
    "# line plot of smoothed temperature anomalies\n",
    "\n",
    "# 0 anomaly line\n",
    "\n",
    "# set x axis limits\n",
    "\n",
    "# set locations of major and minor x axis ticks every 10/5 years\n",
    "\n",
    "\n",
    "# set minor ticks for the y axis\n",
    "\n",
    "# set y axis label\n",
    "\n",
    "\n",
    "# add some text in the upper left corner. use \"\\n\" for new lines. \n",
    "\n",
    "\n",
    "# save the figure\n"
   ]
  },
  {
   "cell_type": "markdown",
   "metadata": {},
   "source": [
    "# References\n",
    "1. CRU temperature data: <br>\n",
    "   Morice, C.P., Kennedy, J.J., Rayner, Winn, J.P., Hogan, E., Killick, R.E., Dunn, R.J.H., Osborn, T.J., Jones, P.D., and Simpson, I.R., 2021: An updated assessmentof near-surface temperature change from 1850: the HadCRUT5 dataset. Journal of Geophysical Research, https://doi.org/10.1029/2019JD032361"
   ]
  },
  {
   "cell_type": "code",
   "execution_count": null,
   "metadata": {},
   "outputs": [],
   "source": []
  },
  {
   "cell_type": "code",
   "execution_count": null,
   "metadata": {},
   "outputs": [],
   "source": []
  },
  {
   "cell_type": "code",
   "execution_count": null,
   "metadata": {},
   "outputs": [],
   "source": []
  }
 ],
 "metadata": {
  "kernelspec": {
   "display_name": "Python 3",
   "language": "python",
   "name": "python3"
  },
  "language_info": {
   "codemirror_mode": {
    "name": "ipython",
    "version": 3
   },
   "file_extension": ".py",
   "mimetype": "text/x-python",
   "name": "python",
   "nbconvert_exporter": "python",
   "pygments_lexer": "ipython3",
   "version": "3.8.5"
  }
 },
 "nbformat": 4,
 "nbformat_minor": 4
}
