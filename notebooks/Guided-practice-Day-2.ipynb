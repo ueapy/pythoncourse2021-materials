{
 "cells": [
  {
   "cell_type": "markdown",
   "metadata": {},
   "source": [
    "## Exercise 1 - Endless input\n",
    "\n",
    "Request the user to type in a number and print out the square root to 3 decimal places\n",
    "\n",
    "i.e.\n",
    "\n",
    "    Square root: 3.141\n",
    "\n",
    "Keep requesting jumbers until interrupted."
   ]
  },
  {
   "cell_type": "code",
   "execution_count": null,
   "metadata": {},
   "outputs": [],
   "source": [
    "# your code\n",
    "\n"
   ]
  },
  {
   "cell_type": "markdown",
   "metadata": {},
   "source": [
    "## Exercise 2 - Validate input\n",
    "\n",
    "\n",
    "Extend the previous exercise so that if the input is not a float, print error message.\n",
    "\n",
    "To find out the type of error raised by an incorrect input, you can execute\n",
    "\n",
    "    float(<incorrect_input>)"
   ]
  },
  {
   "cell_type": "code",
   "execution_count": null,
   "metadata": {},
   "outputs": [],
   "source": [
    "# your code\n",
    "# Remember the construct try, except, else, finally\n"
   ]
  },
  {
   "cell_type": "markdown",
   "metadata": {},
   "source": [
    "## Solution to Exercise 1 - Endless input"
   ]
  },
  {
   "cell_type": "code",
   "execution_count": null,
   "metadata": {},
   "outputs": [],
   "source": [
    "while True:\n",
    "    parameter = float( input() )**0.5\n",
    "    print( f\"Square root: {parameter:.3}\" )\n"
   ]
  },
  {
   "cell_type": "markdown",
   "metadata": {},
   "source": [
    "## Exercise 3 - Calculate average for sequence of observations\n",
    "\n",
    "- Simulate a sequences of 100 measurements using a pseudo number generator\n",
    "\n",
    "    ```random.normalvariate(mu, sigma)```\n",
    "\n",
    "- Print the observation, and for a number of samples above ```maxn``` print the estimated average.\n",
    "\n",
    "- You can calculate the average up to sample n from the observations and the average for n-1:\n",
    "    \n",
    "    $Avg_n = \\frac{ Avg_{n-1} (n-1)+ obs_n  }{n}$"
   ]
  },
  {
   "cell_type": "code",
   "execution_count": null,
   "metadata": {},
   "outputs": [],
   "source": [
    "# your code"
   ]
  },
  {
   "cell_type": "markdown",
   "metadata": {},
   "source": [
    "## Solution to exercise 2 - Validate input"
   ]
  },
  {
   "cell_type": "code",
   "execution_count": null,
   "metadata": {},
   "outputs": [],
   "source": [
    "while True:\n",
    "    try:\n",
    "        parameter = float( input() )**0.5\n",
    "    except ValueError:\n",
    "        print('ERROR: Input must be a number.')\n",
    "    else:\n",
    "        print( f'Square root: {parameter:.3}' )\n"
   ]
  },
  {
   "cell_type": "markdown",
   "metadata": {},
   "source": [
    "&nbsp;\n",
    "\n",
    "&nbsp;\n",
    "\n",
    "&nbsp;\n",
    "\n",
    "&nbsp;\n",
    "\n",
    "&nbsp;\n",
    "\n",
    "&nbsp;\n",
    "\n",
    "&nbsp;\n",
    "\n",
    "&nbsp;\n",
    "\n",
    "&nbsp;\n",
    "\n",
    "## Solution to exercise 3 - Calculate average for sequence of observations"
   ]
  },
  {
   "cell_type": "code",
   "execution_count": null,
   "metadata": {},
   "outputs": [],
   "source": [
    "import random\n",
    "\n",
    "mu=1.0\n",
    "sigma=1.0\n",
    "minsamples=10\n",
    "maxn = 30\n",
    "\n",
    "avg = 0\n",
    "print('n\\taverage')\n",
    "for n in range(1, maxn+1):\n",
    "    obs = random.normalvariate(mu, sigma)\n",
    "    avg = (avg * (n-1) + obs) / n\n",
    "    if n < 10:\n",
    "        print(f'{n}\\t---')\n",
    "    else:\n",
    "        print(f'{n}\\t{avg:.3}')\n"
   ]
  }
 ],
 "metadata": {
  "kernelspec": {
   "display_name": "Python 3",
   "language": "python",
   "name": "python3"
  },
  "language_info": {
   "codemirror_mode": {
    "name": "ipython",
    "version": 3
   },
   "file_extension": ".py",
   "mimetype": "text/x-python",
   "name": "python",
   "nbconvert_exporter": "python",
   "pygments_lexer": "ipython3",
   "version": "3.8.10"
  }
 },
 "nbformat": 4,
 "nbformat_minor": 4
}
