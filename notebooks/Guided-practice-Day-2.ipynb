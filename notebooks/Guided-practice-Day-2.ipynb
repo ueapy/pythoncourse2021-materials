{
 "cells": [
  {
   "cell_type": "markdown",
   "metadata": {},
   "source": [
    "## Exercise 1 - Endless input\n",
    "\n",
    "Request the user to type in a number and print out the square root to 3 decimal places\n",
    "\n",
    "i.e.\n",
    "\n",
    "    Square root: 3.141\n",
    "\n",
    "Keep requesting jumbers until interrupted."
   ]
  },
  {
   "cell_type": "code",
   "execution_count": null,
   "metadata": {},
   "outputs": [],
   "source": [
    "# your code\n"
   ]
  },
  {
   "cell_type": "markdown",
   "metadata": {},
   "source": [
    "## Exercise 2 - Validate input\n",
    "\n",
    "\n",
    "Extend the previous exercise so that if the input is not a float, print error message.\n",
    "\n",
    "To find out the type of error raised by an incorrect input, you can execute\n",
    "\n",
    "    float(<incorrect_input>)"
   ]
  },
  {
   "cell_type": "code",
   "execution_count": null,
   "metadata": {},
   "outputs": [],
   "source": [
    "# your code\n",
    "# Remember the construct try, except, else, finally\n"
   ]
  },
  {
   "cell_type": "markdown",
   "metadata": {},
   "source": [
    "## Exercise 3 - Calculate average for sequence of observations\n",
    "\n",
    "- Simulate a sequences of maxn measurements using a pseudo number generator\n",
    "\n",
    "    ```random.normalvariate(mu, sigma)```\n",
    "\n",
    "- Print the observation, and for a number of samples above ```minsamples``` print the estimated average.\n",
    "\n",
    "- You can calculate the average up to sample n from the observations and the average for n-1:\n",
    "    \n",
    "    $Avg_n = \\frac{ Avg_{n-1} \\times (n-1)+ obs_n  }{n}$"
   ]
  },
  {
   "cell_type": "code",
   "execution_count": null,
   "metadata": {},
   "outputs": [],
   "source": [
    "import random \n",
    "\n",
    "# your code\n",
    "mu = 2.0\n",
    "sigma = 0.3\n",
    "minsamples = 4  # only calc average for more than minsamples\n",
    "maxn = 8       # number of observations\n",
    "\n",
    "\n",
    "print(f'obs\\tmean')\n",
    "for n in range(1, maxn+1):\n",
    "    obs = random.normalvariate(mu, sigma)\n",
    "    if n==1:\n",
    "        avgn = obs\n",
    "    else:\n",
    "        avgn = (avgnm1 * (n-1) + obs) / n\n",
    "    avgnm1=avgn\n",
    "    \n",
    "    if n > minsamples:\n",
    "        print( f'{obs:.4f}\\t{avgn:.4f}' )\n",
    "    else:\n",
    "        print( f'{obs:.4f}\\t---' )\n"
   ]
  },
  {
   "cell_type": "markdown",
   "metadata": {},
   "source": [
    "## Solution to Exercise 1 - Endless input"
   ]
  },
  {
   "cell_type": "code",
   "execution_count": null,
   "metadata": {},
   "outputs": [],
   "source": [
    "while True:\n",
    "    parameter = float( input() )**0.5\n",
    "    print( f\"Square root: {parameter:.3}\" )\n"
   ]
  },
  {
   "cell_type": "markdown",
   "metadata": {},
   "source": [
    "&nbsp;\n",
    "\n",
    "&nbsp;\n",
    "\n",
    "&nbsp;\n",
    "\n",
    "&nbsp;\n",
    "\n",
    "&nbsp;\n",
    "\n",
    "&nbsp;\n",
    "\n",
    "&nbsp;\n",
    "\n",
    "&nbsp;\n",
    "\n",
    "&nbsp;\n",
    "## Solution to exercise 2 - Validate input"
   ]
  },
  {
   "cell_type": "code",
   "execution_count": null,
   "metadata": {},
   "outputs": [],
   "source": [
    "while True:\n",
    "    try:\n",
    "        parameter = float( input() )**0.5\n",
    "    except ValueError:\n",
    "        print('ERROR: Input must be a number.')\n",
    "    else:\n",
    "        print( f'Square root: {parameter:.3}' )\n"
   ]
  },
  {
   "cell_type": "markdown",
   "metadata": {},
   "source": [
    "To interrupt the program and give a meaningful error message, use `raise Exception()` "
   ]
  },
  {
   "cell_type": "code",
   "execution_count": null,
   "metadata": {},
   "outputs": [],
   "source": [
    "while True:\n",
    "    uin = input()\n",
    "    try:\n",
    "        parameter = float( uin )**0.5\n",
    "    except ValueError:\n",
    "        raise Exception('ERROR: Input must be an integer')\n",
    "    else:   \n",
    "        print(f'parameter: {parameter:.3f}')\n"
   ]
  },
  {
   "cell_type": "markdown",
   "metadata": {},
   "source": [
    "&nbsp;\n",
    "\n",
    "&nbsp;\n",
    "\n",
    "&nbsp;\n",
    "\n",
    "&nbsp;\n",
    "\n",
    "&nbsp;\n",
    "\n",
    "&nbsp;\n",
    "\n",
    "&nbsp;\n",
    "\n",
    "&nbsp;\n",
    "\n",
    "&nbsp;\n",
    "\n",
    "## Solution to exercise 3 - Calculate average for sequence of observations"
   ]
  },
  {
   "cell_type": "code",
   "execution_count": null,
   "metadata": {},
   "outputs": [],
   "source": [
    "import random \n",
    "\n",
    "# your code\n",
    "mu = 2.0\n",
    "sigma = 0.3\n",
    "minsamples = 20  # only calc average for more than minsamples\n",
    "maxn = 100       # number of observations\n",
    "\n",
    "\n",
    "print(f'obs\\tmean') # print column names\n",
    "for n in range(1, maxn+1):\n",
    "    obs = random.normalvariate(mu, sigma)\n",
    "    if n==1:\n",
    "        avgn = obs\n",
    "    else:\n",
    "        avgn = (avgnm1 * (n-1) + obs) / n\n",
    "    avgnm1=avgn\n",
    "    \n",
    "    if n <= minsamples:else:\n",
    "        print( f'{obs:.4f}\\t---' )\n",
    "    else:\n",
    "        print( f'{obs:.4f}\\t{avgn:.4f}' )\n",
    "\n",
    "        "
   ]
  }
 ],
 "metadata": {
  "kernelspec": {
   "display_name": "Python 3",
   "language": "python",
   "name": "python3"
  },
  "language_info": {
   "codemirror_mode": {
    "name": "ipython",
    "version": 3
   },
   "file_extension": ".py",
   "mimetype": "text/x-python",
   "name": "python",
   "nbconvert_exporter": "python",
   "pygments_lexer": "ipython3",
   "version": "3.8.10"
  }
 },
 "nbformat": 4,
 "nbformat_minor": 4
}
