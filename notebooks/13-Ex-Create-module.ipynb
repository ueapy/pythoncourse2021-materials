{
 "cells": [
  {
   "cell_type": "markdown",
   "metadata": {},
   "source": [
    "# Exercise: create a module and reuse code from it (1 h)"
   ]
  },
  {
   "cell_type": "markdown",
   "metadata": {},
   "source": [
    "Extend the exercise from today by applying what you've just learned about packages and code reusability."
   ]
  },
  {
   "cell_type": "markdown",
   "metadata": {},
   "source": [
    "## Outline"
   ]
  },
  {
   "cell_type": "markdown",
   "metadata": {},
   "source": [
    "1. Put the function into a separate .py file\n",
    "2. Create yet another function that takes the name of the region as an input and returns SST values for the corresponding region\n",
    "3. Use `import` to access these functions from another file or a notebook\n",
    "4. Create the wind speed data\n",
    "5. Create a dictionary of data, whose keys are names of regions and values are lists of heat fluxes data\n",
    "6. Save the dictionary to text file (bonus: to a json file), both keys and values"
   ]
  },
  {
   "cell_type": "markdown",
   "metadata": {},
   "source": [
    "**1. Put the function into a separate .py file**"
   ]
  },
  {
   "cell_type": "markdown",
   "metadata": {},
   "source": [
    "* Copy a code block with the \"heat flux\" function from the previous exercise\n",
    "* Open a Python script (**not a notebook!**), e.g. \"my_awesome_module.py\" in the current working directory\n",
    "* Paste the code block in the file and make sure there are no syntax mistakes\n",
    "* Congratulations, you've just created a module!"
   ]
  },
  {
   "cell_type": "markdown",
   "metadata": {},
   "source": [
    "**2. Create yet another function that takes the name of the region as an input and returns SST values for the corresponding region**"
   ]
  },
  {
   "cell_type": "markdown",
   "metadata": {},
   "source": [
    "* This function can look something like the one below\n",
    "* Feel free to modify or extend it\n",
    "* You can replace `region_name` by `experiment_name` or whatever you prefer\n",
    "* For convenience, make sure the length of the returned list is the same"
   ]
  },
  {
   "cell_type": "code",
   "execution_count": 1,
   "metadata": {},
   "outputs": [],
   "source": [
    "def create_sst(region_name):\n",
    "    \"\"\"\n",
    "    Create fake SST data (degC) for a given region\n",
    "    \n",
    "    Inputs\n",
    "    ------\n",
    "    region_name: ...continue the docstring...\n",
    "    \n",
    "    n: integer, optional. Length of the returned data list      \n",
    "    \n",
    "    Returns\n",
    "    -------\n",
    "    ...continue the docstring...\n",
    "    \"\"\"\n",
    "    \n",
    "#     if region_name == 'NS':\n",
    "#         # North Sea\n",
    "#         sst = list(range(5, 15, 1))\n",
    "#     elif region_name == \n",
    "#         # Sea of Tranquility\n",
    "#         sst =\n",
    "#     elif region_name ==\n",
    "#         sst = \n",
    "#     else:\n",
    "#         raise ValueError( f'Input value of {region_name} is not recognised' )\n",
    "        \n",
    "#     return sst"
   ]
  },
  {
   "cell_type": "markdown",
   "metadata": {},
   "source": [
    "Once you are happy with this new function, put it in the same module too."
   ]
  },
  {
   "cell_type": "markdown",
   "metadata": {},
   "source": [
    "**3. Use `import` to access these functions from another file or a notebook**"
   ]
  },
  {
   "cell_type": "code",
   "execution_count": 2,
   "metadata": {
    "collapsed": true
   },
   "outputs": [],
   "source": [
    "# import my_super_awesome_module"
   ]
  },
  {
   "cell_type": "markdown",
   "metadata": {},
   "source": [
    "or"
   ]
  },
  {
   "cell_type": "code",
   "execution_count": 3,
   "metadata": {
    "collapsed": true
   },
   "outputs": [],
   "source": [
    "# from my_super_awesome_module import heat_flux_function, create_sst"
   ]
  },
  {
   "cell_type": "markdown",
   "metadata": {},
   "source": [
    "**4. Create the wind speed data**"
   ]
  },
  {
   "cell_type": "markdown",
   "metadata": {},
   "source": [
    "You can just copy the line from the previous exercise"
   ]
  },
  {
   "cell_type": "code",
   "execution_count": 4,
   "metadata": {
    "collapsed": true
   },
   "outputs": [],
   "source": [
    "# wind_speed = "
   ]
  },
  {
   "cell_type": "markdown",
   "metadata": {},
   "source": [
    "**5. Create a dictionary of data, whose keys are names of regions and values are lists of heat fluxes data**"
   ]
  },
  {
   "cell_type": "markdown",
   "metadata": {},
   "source": [
    "* Create a list of names of the regions/experiments\n",
    "* Create an empty dictionary, named `hf_dict` or whatever sounds better to you\n",
    "* Loop over the names, call the `create_sst()` function and assign it to a variable, e.g. `fake_sst`\n",
    "* Still inside the name-loop, write **another loop** to iterate over SST and wind values, just as you did in the previous exercise, and calculate the **heat flux**.\n",
    "* Assign the result to the corresponding key of `hf_dict`"
   ]
  },
  {
   "cell_type": "code",
   "execution_count": 5,
   "metadata": {
    "collapsed": true
   },
   "outputs": [],
   "source": [
    "# Your code here..."
   ]
  },
  {
   "cell_type": "markdown",
   "metadata": {},
   "source": [
    "Print the result to test yourself."
   ]
  },
  {
   "cell_type": "markdown",
   "metadata": {},
   "source": [
    "**6. Save the dictionary to text file (bonus: to a json file), both keys and values**"
   ]
  },
  {
   "cell_type": "markdown",
   "metadata": {},
   "source": [
    "* You can copy the code for writing data to a text file from the previous exercise\n",
    "* Modify it so that the output file would include `hf_dict`'s keys as row (column) names"
   ]
  },
  {
   "cell_type": "code",
   "execution_count": 6,
   "metadata": {},
   "outputs": [],
   "source": [
    "# with open(..."
   ]
  },
  {
   "cell_type": "markdown",
   "metadata": {},
   "source": [
    "**Bonus**"
   ]
  },
  {
   "cell_type": "code",
   "execution_count": 7,
   "metadata": {
    "collapsed": true
   },
   "outputs": [],
   "source": [
    "import json"
   ]
  },
  {
   "cell_type": "markdown",
   "metadata": {},
   "source": [
    "Explore what `json.dump()` does."
   ]
  },
  {
   "cell_type": "markdown",
   "metadata": {},
   "source": [
    "**[Solution](solutions/13-Ex-Create-module-Solution.ipynb)**"
   ]
  }
 ],
 "metadata": {
  "anaconda-cloud": {},
  "kernelspec": {
   "display_name": "Python 3",
   "language": "python",
   "name": "python3"
  },
  "language_info": {
   "codemirror_mode": {
    "name": "ipython",
    "version": 3
   },
   "file_extension": ".py",
   "mimetype": "text/x-python",
   "name": "python",
   "nbconvert_exporter": "python",
   "pygments_lexer": "ipython3",
   "version": "3.8.3"
  }
 },
 "nbformat": 4,
 "nbformat_minor": 1
}
