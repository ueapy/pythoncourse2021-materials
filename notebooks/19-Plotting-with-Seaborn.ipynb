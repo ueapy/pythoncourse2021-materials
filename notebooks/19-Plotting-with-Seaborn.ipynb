{
 "cells": [
  {
   "cell_type": "markdown",
   "metadata": {},
   "source": [
    "# Statistical plotting with Seaborn\n",
    "\n",
    "\n",
    "[https://seaborn.pydata.org/](https://seaborn.pydata.org/)\n",
    "\n",
    "\n",
    "Seaborn is built on top of Matplotlib, and improves it in several ways:\n",
    "\n",
    "* Has more prebuilt functions for statistical plots\n",
    "* The default parameters (looks) are more pleasing\n",
    "* Has predefine styles can be easily switched between\n",
    "* Understands data stored in pandas dataframes \n",
    "    \n",
    "\"If Matplotlib tries to make easy things easy and hard things possible, \n",
    "\n",
    "Seaborn tries to make a well-defined set of hard things easy too.”\n",
    "\n",
    "See the [gallery](https://seaborn.pydata.org/examples/index.html) for ideas for your next plot!"
   ]
  },
  {
   "cell_type": "code",
   "execution_count": null,
   "metadata": {},
   "outputs": [],
   "source": [
    "#import numpy as np\n",
    "import seaborn as sns"
   ]
  },
  {
   "cell_type": "markdown",
   "metadata": {},
   "source": [
    "For relational plots between two or more numeric variables the following plotting functions exist:\n",
    "* scatterplot (`relplot` with `kind='scatter'`, the default)\n",
    "* lineplot (`relplot` with `kind='line'`)\n"
   ]
  },
  {
   "cell_type": "code",
   "execution_count": null,
   "metadata": {},
   "outputs": [],
   "source": [
    "# Load one of the datasets included with Seaborn  \n",
    "mpg = sns.load_dataset(\"mpg\")\n",
    "mpg.head()"
   ]
  },
  {
   "cell_type": "markdown",
   "metadata": {},
   "source": [
    "For relational plotting of two or more variables use `relplot`.\n",
    "This is equivalent to `scatterplot`."
   ]
  },
  {
   "cell_type": "code",
   "execution_count": null,
   "metadata": {},
   "outputs": [],
   "source": [
    "sns.relplot(x='horsepower', y='mpg', data=mpg)\n",
    "sns.set_style('ticks')"
   ]
  },
  {
   "cell_type": "markdown",
   "metadata": {},
   "source": [
    "This is also very similar to linear regression plot `lmplot` with `fit_reg=False`"
   ]
  },
  {
   "cell_type": "code",
   "execution_count": null,
   "metadata": {},
   "outputs": [],
   "source": [
    "sns.lmplot(x='horsepower', y='mpg', data=mpg, fit_reg=False)"
   ]
  },
  {
   "cell_type": "markdown",
   "metadata": {},
   "source": [
    "The `hue=` parameter can be used to plot a third variable."
   ]
  },
  {
   "cell_type": "code",
   "execution_count": null,
   "metadata": {},
   "outputs": [],
   "source": [
    "sns.lmplot(x='horsepower', y='mpg', data=mpg, hue='origin',fit_reg=False)\n",
    "\n",
    "# Or use this....\n",
    "#sns.relplot(x='horsepower', y='mpg', data=mpg, hue='origin')\n"
   ]
  },
  {
   "cell_type": "markdown",
   "metadata": {},
   "source": [
    "`replot` can use marker `size` to show yet another variable"
   ]
  },
  {
   "cell_type": "code",
   "execution_count": null,
   "metadata": {},
   "outputs": [],
   "source": [
    "# Plotting 4 dimensions using hue and marker size \n",
    "sns.relplot(x=\"horsepower\", y=\"mpg\", hue=\"origin\", size=\"weight\",\n",
    "            sizes=(40, 400), alpha=.5, data=mpg)"
   ]
  },
  {
   "cell_type": "markdown",
   "metadata": {},
   "source": [
    "Joint plots are comonly used in exploratory data analysis."
   ]
  },
  {
   "cell_type": "code",
   "execution_count": null,
   "metadata": {},
   "outputs": [],
   "source": [
    "# Jointplot have the following kinds: scatter, kde, hex, reg and resid\n",
    "sns.jointplot(x='weight', y='mpg', kind='kde', data=mpg)\n",
    "sns.jointplot(x='weight', y='mpg', kind='resid', data=mpg)"
   ]
  },
  {
   "cell_type": "markdown",
   "metadata": {},
   "source": [
    "## Plotting a regression"
   ]
  },
  {
   "cell_type": "markdown",
   "metadata": {},
   "source": [
    "Let's create a new variable in the dataframe with will improve these residuals."
   ]
  },
  {
   "cell_type": "code",
   "execution_count": null,
   "metadata": {},
   "outputs": [],
   "source": [
    "# Unlike mpg, litre/100 km is proportional to energy consumption\n",
    "\n",
    "mpg['lp100km'] = (3.785*100)/(mpg['mpg']*1.602)"
   ]
  },
  {
   "cell_type": "code",
   "execution_count": null,
   "metadata": {},
   "outputs": [],
   "source": [
    "g = sns.lmplot(x='horsepower', y='lp100km', data=mpg,x_ci='sd')"
   ]
  },
  {
   "cell_type": "code",
   "execution_count": null,
   "metadata": {},
   "outputs": [],
   "source": [
    "# If hue is added, the same variable is used to group data point for regressiona analysis\n",
    "# Also, local regression method `lowess` was chosen\n",
    "g = sns.lmplot(x='horsepower', y='lp100km', data=mpg,hue='origin',truncate=True, x_ci='sd',height=6)\n",
    "g.set(ylim=(4, 25))\n",
    "g.set(ylabel=\"l/100 km\")"
   ]
  },
  {
   "cell_type": "markdown",
   "metadata": {},
   "source": [
    "## FacetGrid \n",
    "\n",
    "Tis useful facet function creates a grid of matplotlib or seaborn plot ir rows and/or columns"
   ]
  },
  {
   "cell_type": "code",
   "execution_count": null,
   "metadata": {},
   "outputs": [],
   "source": [
    "# Start by creating the empty grid\n",
    "g = sns.FacetGrid(mpg, col=\"origin\")"
   ]
  },
  {
   "cell_type": "code",
   "execution_count": null,
   "metadata": {},
   "outputs": [],
   "source": [
    "# Here we will use the matplotlib standard histogram\n",
    "\n",
    "import matplotlib.pyplot as plt\n",
    "\n",
    "g = sns.FacetGrid(mpg, col=\"origin\")\n",
    "g = g.map(plt.hist, \"horsepower\")"
   ]
  },
  {
   "cell_type": "code",
   "execution_count": null,
   "metadata": {},
   "outputs": [],
   "source": [
    "# Or a Seaborn plot type\n",
    "g = sns.FacetGrid(mpg, col='origin',col_wrap=5)\n",
    "g = g.map(sns.regplot, \"horsepower\", \"lp100km\")\n",
    "g.set(ylabel=\"l/100km\")"
   ]
  },
  {
   "cell_type": "markdown",
   "metadata": {},
   "source": [
    "## Predefined styles\n",
    "\n",
    "There are 5 prefdefined styles: `darkgrid`, `whitegrid`, `dark`, `white` and` ticks`.\n",
    "These can be set with function `set_style`. \n",
    "\n",
    "See [examples](https://python-graph-gallery.com/104-seaborn-themes/) or try out below."
   ]
  },
  {
   "cell_type": "code",
   "execution_count": null,
   "metadata": {},
   "outputs": [],
   "source": [
    "sns.relplot(x='horsepower', y='mpg', data=mpg)\n",
    "sns.set_style('whitegrid')\n"
   ]
  },
  {
   "cell_type": "code",
   "execution_count": null,
   "metadata": {},
   "outputs": [],
   "source": []
  }
 ],
 "metadata": {
  "kernelspec": {
   "display_name": "Python 3",
   "language": "python",
   "name": "python3"
  },
  "language_info": {
   "codemirror_mode": {
    "name": "ipython",
    "version": 3
   },
   "file_extension": ".py",
   "mimetype": "text/x-python",
   "name": "python",
   "nbconvert_exporter": "python",
   "pygments_lexer": "ipython3",
   "version": "3.7.3"
  }
 },
 "nbformat": 4,
 "nbformat_minor": 2
}
