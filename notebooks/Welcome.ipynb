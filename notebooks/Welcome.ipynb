{
 "cells": [
  {
   "cell_type": "markdown",
   "metadata": {},
   "source": [
    "# Welcome to the 2021   Python Course! \n",
    "\n",
    "## EnvEast and Cefas\n",
    "\n",
    "[Course website](https://ueapy.github.io/pythoncourse2021-website/programme/)\n",
    "\n",
    "[Course material on github](https://github.com/ueapy/pythoncourse2021-materials)"
   ]
  },
  {
   "cell_type": "markdown",
   "metadata": {},
   "source": [
    "## EnvEast / ARIES\n",
    "\n",
    "<http://www.enveast.ac.uk/> <br>\n",
    "<https://www.aries-dtp.ac.uk/>\n",
    "\n",
    "## Cefas\n",
    "\n",
    "<https://www.cefas.co.uk/>\n",
    "\n",
    "\n",
    "## Your teachers for this course:\n",
    "                \n",
    "    Dr. Tiago Silva - Cefas\n",
    "        Dr. Jenny Graham - Cefas\n",
    "            Will Hodder - UEA-ENV\n",
    "                Beth Siddle - UEA-ENV\n",
    "                    Eliza Karlowska - UEA-ENV\n",
    "                        Nele Reyniers - UEA-ENV\n",
    "    "
   ]
  },
  {
   "cell_type": "markdown",
   "metadata": {},
   "source": [
    "[//]: # (### WiFi: * eduroam - for uea accounts * The_Cloud - sign up for a free Sky account) \n",
    "\n",
    "### Lunch\n",
    "\n",
    "Times will vary each day, but are generally 13:00-14:00 for those taking part in the afternoon guided practice sessions.\n",
    "\n",
    "[//]: # (It will consist of a selection of wraps, sandwiches, fruit, and falafel, and will be labelled to their specific meat and allergen content where appropriate. If you have any questions about any of the food, please don't hesitate to ask at lunchtime.)\n",
    "\n"
   ]
  },
  {
   "cell_type": "code",
   "execution_count": null,
   "metadata": {},
   "outputs": [],
   "source": []
  }
 ],
 "metadata": {
  "kernelspec": {
   "display_name": "Python 3",
   "language": "python",
   "name": "python3"
  },
  "language_info": {
   "codemirror_mode": {
    "name": "ipython",
    "version": 3
   },
   "file_extension": ".py",
   "mimetype": "text/x-python",
   "name": "python",
   "nbconvert_exporter": "python",
   "pygments_lexer": "ipython3",
   "version": "3.8.10"
  }
 },
 "nbformat": 4,
 "nbformat_minor": 2
}
