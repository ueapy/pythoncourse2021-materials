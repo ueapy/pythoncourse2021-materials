{
 "cells": [
  {
   "cell_type": "markdown",
   "metadata": {},
   "source": [
    "# Welcome to the 2019   Python Course! \n",
    "\n",
    "## EnvEast and Cefas\n",
    "\n",
    "[Course website](https://ueapy.github.io/pythoncourse2019/programme)\n",
    "\n",
    "[Course material on github](https://github.com/ueapy/pythoncourse2019-materials)"
   ]
  },
  {
   "cell_type": "markdown",
   "metadata": {},
   "source": [
    "## EnvEast\n",
    "\n",
    "<http://www.enveast.ac.uk/>\n",
    "\n",
    "## Cefas\n",
    "\n",
    "<https://www.cefas.co.uk/>\n",
    "\n",
    "\n",
    "\n",
    "                Will Hodder - UEA-ENV\n",
    "            Dr. Tiago Silva - Cefas\n",
    "        Dr. Luz Garcia - Cefas\n",
    "    Callum Rollo - UEA-ENV\n",
    "    "
   ]
  },
  {
   "cell_type": "markdown",
   "metadata": {},
   "source": [
    "### WiFi\n",
    "\n",
    "* eduroam (for uea accounts)\n",
    "\n",
    "* The_Cloud (sign up for a free Sky account)\n",
    "    "
   ]
  },
  {
   "cell_type": "markdown",
   "metadata": {},
   "source": [
    "### Lunch\n",
    "\n",
    "Times will vary each day, but are generally 12:00-12:30.\n",
    "\n",
    "It will consist of a selection of wraps, sandwiches, fruit, and falafel, and will be labelled to their specific meat and allergen content where appropriate. If you have any questions about any of the food, please don't hesitate to ask at lunchtime.\n",
    "\n"
   ]
  }
 ],
 "metadata": {
  "kernelspec": {
   "display_name": "Python 3",
   "language": "python",
   "name": "python3"
  },
  "language_info": {
   "codemirror_mode": {
    "name": "ipython",
    "version": 3
   },
   "file_extension": ".py",
   "mimetype": "text/x-python",
   "name": "python",
   "nbconvert_exporter": "python",
   "pygments_lexer": "ipython3",
   "version": "3.7.3"
  }
 },
 "nbformat": 4,
 "nbformat_minor": 2
}
