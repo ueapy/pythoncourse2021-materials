{
 "cells": [
  {
   "cell_type": "markdown",
   "metadata": {},
   "source": [
    "# Final Micro Project"
   ]
  },
  {
   "cell_type": "markdown",
   "metadata": {},
   "source": [
    "The time has come to apply what you have learned throughout the course by doing a mini project. "
   ]
  },
  {
   "cell_type": "markdown",
   "metadata": {},
   "source": [
    "You have two options now.\n",
    "\n",
    "1. Choose from our list of projects\n",
    "    - [Meteorite Landings](#Meteorite-Landings)\n",
    "    - [Significant Earthquakes](#Significant-Earthquakes)\n",
    "    - [World Ocean Atlas](#World-Ocean-Atlas)\n",
    "    - [Arctic Sea Ice](#Arctic-Sea-Ice)\n",
    "    - [Other](#Other-Data)\n",
    "\n",
    "2. Use your own data\n",
    "\n",
    "    - If you find our ideas terrible or you are eager to start using Python in your work, you can use your own data.\n",
    "    - The only requirement is that data should be in a format that we have used in this course, preferably **CSV/ASCII** or **netCDF** file.\n",
    "    - We might not be very helpful, but at least we can help you get started and/or point you to a relevant resource."
   ]
  },
  {
   "cell_type": "markdown",
   "metadata": {},
   "source": [
    "## Meteorite Landings"
   ]
  },
  {
   "cell_type": "markdown",
   "metadata": {},
   "source": [
    "NASA has a great [archive of open data](https://data.nasa.gov/browse) that you can use to master your data analysis skills. Moreover, there is even a small Python library to fetch some of the datasets: [pyNASA](https://bmtgoncalves.github.io/pyNASA/)."
   ]
  },
  {
   "cell_type": "markdown",
   "metadata": {},
   "source": [
    "For example, Meteorite Landings dataset can be either downloaded manually from https://data.nasa.gov/Space-Science/Meteorite-Landings/gh4g-9sfh or fetched as a `pandas.DataFrame` using `pyNASA.meteorite()` method. Some further ideas:\n",
    "* `pandas` package will be most useful to read in the data, as well as analyse them\n",
    "* Use `cartopy` to plot the data using longitude and latitude columns\n",
    "* Use scatter plot to show meteorites' mass in colour\n",
    "* Create a histogram of earthquakes magnitude"
   ]
  },
  {
   "cell_type": "markdown",
   "metadata": {},
   "source": [
    "## Significant Earthquakes"
   ]
  },
  {
   "cell_type": "markdown",
   "metadata": {},
   "source": [
    "US Geological Survey (USGS) provides various [earthquakes data](https://earthquake.usgs.gov/data/data.php#eq) on a global scale. Its Earthquake Catalog contains earthquake source parameters (e.g. hypocenters, magnitudes, phase picks and amplitudes) and other products (e.g. moment tensor solutions, macroseismic information, tectonic summaries, maps) produced by contributing seismic networks."
   ]
  },
  {
   "cell_type": "markdown",
   "metadata": {},
   "source": [
    "If you follow this [link](http://earthquake.usgs.gov/earthquakes/search/), you can search throught the catalog and filter data by the magnitude, time and geographic region. In the `data/` folder, we provide an [example dataset](../data/earthquakes_2015_2016_gt45.csv) of earthquakes with magnitude >4.5 that occurred around the world throughout the last year."
   ]
  },
  {
   "cell_type": "markdown",
   "metadata": {
    "collapsed": true
   },
   "source": [
    "So if you want to build your project on these data, some possible ideas are:\n",
    "* `pandas` package will be most useful to read in the data, as well as analyse them\n",
    "* Use `cartopy` to plot the data using longitude and latitude columns\n",
    "* Explore `pandas`' `groupby()` method, which you can use to aggregate data by time or other parameter\n",
    "* Create a histogram of earthquakes magnitude"
   ]
  },
  {
   "cell_type": "markdown",
   "metadata": {},
   "source": [
    "To get you started, we provided the minimal code to load the data."
   ]
  },
  {
   "cell_type": "code",
   "execution_count": 1,
   "metadata": {
    "collapsed": true
   },
   "outputs": [],
   "source": [
    "# import pandas as pd\n",
    "# df = pd.read_csv('../data/earthquakes_2015_2016_gt45.csv', parse_dates = ['time',], index_col='time')\n",
    "# df.head()"
   ]
  },
  {
   "cell_type": "markdown",
   "metadata": {},
   "source": [
    "## World Ocean Atlas"
   ]
  },
  {
   "cell_type": "markdown",
   "metadata": {},
   "source": [
    "NOAA's [World Ocean Atlas](https://www.nodc.noaa.gov/OC5/WOA09/netcdf_data.html) (WOA) provides open-access gridded data of temperature, salinity and other ocean parameters.  \n",
    "It is a set of objectively analyzed climatological fields at standard depth levels for annual, seasonal, and monthly compositing periods. It also includes associated statistical fields of observed oceanographic profile data."
   ]
  },
  {
   "cell_type": "markdown",
   "metadata": {},
   "source": [
    "WOA is available over a variety of resolutions (5$^\\circ$, 1$^\\circ$ or 1/4$^\\circ$grid). It is also available in different data formats.  \n",
    "If you choose to analyse these data, we suggest that you follow these initial steps:\n",
    "\n",
    "* download 5$^\\circ$ data of temperature and oxygen, in NetCDF format. \n",
    "* plot the sea surface data (or depth of choice) on a global map \n",
    "    * do not use jet/rainbow colormap!\n",
    "* calculate an average depth profile and plot it beside the map\n",
    "\n",
    "Bonus step: \n",
    "* Rather than creating two sections of code for each variable, can you create a function that will produce plots for either the temperature or oxygen variables?  "
   ]
  },
  {
   "cell_type": "code",
   "execution_count": null,
   "metadata": {},
   "outputs": [],
   "source": [
    "# Hint: \n",
    "# To download temperature data into xarray, you can use the following e.g. \n",
    "# WOA_temp = xr.open_dataset('https://data.nodc.noaa.gov/thredds/dodsC/ncei/woa/temperature/decav/5deg/woa18_decav_t00_5d.nc', decode_times=False)\n",
    "# decode_times=False is needed when xarray cannot process dates on import (you will see an error if use without). \n",
    "# To access oxygen, you can use the following URL:\n",
    "# https://data.nodc.noaa.gov/thredds/dodsC/ncei/woa/oxygen/all/1.00/woa18_all_o00_01.nc\n",
    "\n"
   ]
  },
  {
   "cell_type": "markdown",
   "metadata": {},
   "source": [
    "## Arctic Sea Ice"
   ]
  },
  {
   "cell_type": "markdown",
   "metadata": {},
   "source": [
    "### Data\n",
    "* In this project you are offered to use NOAA/NSIDC Climate Data Record of Passive Microwave Sea Ice Concentration.\n",
    "* In the `../data/` directory, there are 2 netCDF files `seaice_conc_monthly*` that correspond to September 1991 ([original FTP link](ftp://sidads.colorado.edu/pub/DATASETS/NOAA/G02202_v2/north/monthly/seaice_conc_monthly_nh_f08_199109_v02r00.nc)) and September 2012 ([original FTP link](ftp://sidads.colorado.edu/pub/DATASETS/NOAA/G02202_v2/north/monthly/seaice_conc_monthly_nh_f17_201209_v02r00.nc)).\n",
    "* If you want to download data for other months, visit the [NSIDC's data portal](https://nsidc.org/data/search/#keywords=sea+ice/sortKeys=score,,desc/facetFilters=%257B%257D/pageNumber=1/itemsPerPage=25)."
   ]
  },
  {
   "cell_type": "markdown",
   "metadata": {},
   "source": [
    "### Ideas for the project\n",
    "* Plot one of the time slices on a map with North Polar Stereographic projection\n",
    "* Create a figure with 3 subplots\n",
    "* Plot the 1991 sea ice concentration in the 1st subplot, 2012 sea ice in the 2nd, and the difference in the 3rd."
   ]
  },
  {
   "cell_type": "markdown",
   "metadata": {},
   "source": [
    "### Getting started"
   ]
  },
  {
   "cell_type": "markdown",
   "metadata": {},
   "source": [
    "For this project, we recommend that you:\n",
    "* use `xarray` for opening and reading the netCDF files\n",
    "* may use `xarray.open_mf_dataset()` to load both files at once\n",
    "* use `cartopy` for creating a plot with a correct map projection\n",
    "* use appropriate colormaps for the sea ice concentration and difference"
   ]
  },
  {
   "cell_type": "markdown",
   "metadata": {},
   "source": [
    "To get started, copy the following cell into your **Project** notebook."
   ]
  },
  {
   "cell_type": "code",
   "execution_count": 2,
   "metadata": {
    "collapsed": true
   },
   "outputs": [],
   "source": [
    "# import cartopy.crs as ccrs\n",
    "# import matplotlib.pyplot as plt\n",
    "# import xarray as xr"
   ]
  },
  {
   "cell_type": "code",
   "execution_count": 3,
   "metadata": {},
   "outputs": [],
   "source": [
    "# ds = xr.open_mfdataset('../data/seaice_conc_monthly_*.nc')\n",
    "## or\n",
    "# ds1 = xr.open_dataset('../data/seaice_conc_monthly_nh_f08_199109_v02r00.nc')\n",
    "# ds2 = xr.open_dataset('../data/seaice_conc_monthly_nh_f17_201209_v02r00.nc')"
   ]
  },
  {
   "cell_type": "code",
   "execution_count": 4,
   "metadata": {
    "collapsed": true
   },
   "outputs": [],
   "source": [
    "## Extract longitude and latitude values, then the sea ice concentration itself"
   ]
  },
  {
   "cell_type": "code",
   "execution_count": 5,
   "metadata": {
    "collapsed": true
   },
   "outputs": [],
   "source": [
    "## Code for creating a map\n",
    "# fig = plt.figure()\n",
    "# ax = fig.add_subplot(111, projection=ccrs.???(central_longitude=0))\n",
    "# ax.coastlines(resolution='110m', linewidth=0.5)\n",
    "\n",
    "# ax.gridlines()\n",
    "# ax.set_extent([-180, 180, 40, 90], crs=ccrs.PlateCarree())"
   ]
  },
  {
   "cell_type": "markdown",
   "metadata": {},
   "source": [
    "## Other Data"
   ]
  },
  {
   "cell_type": "markdown",
   "metadata": {},
   "source": [
    "* In the `../data/` directory, there are several files that haven't been used in the course:\n",
    "    - `met_brw_insitu_1_obop_hour_2015.txt` with accompanying `met_brw_readme.txt` - hourly meteorological observations in Barrow, Alaska (BRW)\n",
    "    - `plot_extent_n_v2.csv` - daily total sea ice extent in the Arctic\n",
    "    - `north_sea_data.csv` - ship observations from several cruises in the North Sea (data provided by Matt Bone)\n",
    "* You can use any of them: open, plot, calculate statistics, etc."
   ]
  },
  {
   "cell_type": "markdown",
   "metadata": {},
   "source": [
    "### Advanced: geospatial data on Amazon"
   ]
  },
  {
   "cell_type": "markdown",
   "metadata": {},
   "source": [
    "* Amazon Web Services (AWS) host a number of open datasets of geospatial data: satellite, radar, DEM, weather forecast data, etc.: https://aws.amazon.com/earth/\n",
    "* You can try to use the AWS API to download data and plot it with cartopy."
   ]
  }
 ],
 "metadata": {
  "anaconda-cloud": {},
  "kernelspec": {
   "display_name": "Python 3",
   "language": "python",
   "name": "python3"
  },
  "language_info": {
   "codemirror_mode": {
    "name": "ipython",
    "version": 3
   },
   "file_extension": ".py",
   "mimetype": "text/x-python",
   "name": "python",
   "nbconvert_exporter": "python",
   "pygments_lexer": "ipython3",
   "version": "3.8.3"
  }
 },
 "nbformat": 4,
 "nbformat_minor": 1
}
