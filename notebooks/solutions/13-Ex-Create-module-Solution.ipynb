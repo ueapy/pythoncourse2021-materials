{
 "cells": [
  {
   "cell_type": "markdown",
   "metadata": {},
   "source": [
    "# Solution: create a module and reuse code from it (1 h)"
   ]
  },
  {
   "cell_type": "markdown",
   "metadata": {},
   "source": [
    "Extend the exercise from today by applying what you've just learned about packages and code reusability."
   ]
  },
  {
   "cell_type": "markdown",
   "metadata": {},
   "source": [
    "## Outline"
   ]
  },
  {
   "cell_type": "markdown",
   "metadata": {},
   "source": [
    "1. Put your `calc_co2e` function into a separate .py file\n",
    "2. Create yet another function that calculates the distance between two cities\n",
    "3. Use `import` to access these functions from another file or a notebook"
   ]
  },
  {
   "cell_type": "markdown",
   "metadata": {},
   "source": [
    "**1 Copy your `calc_co2e` function to a new file, called mymod.py for \"my module\" ***\n",
    "\n",
    "You can use Jupyter notebook master page to create a New->Text File in the same directory as this notebook.\n",
    "\n",
    "The file can then be renamed from untitled.txt to mymod.txt in the page's File menu."
   ]
  },
  {
   "cell_type": "code",
   "execution_count": 1,
   "metadata": {},
   "outputs": [],
   "source": [
    "def calc_co2e(dist,\n",
    "              returnf=False,\n",
    "              firstclass=False,\n",
    "              radforc=2.0,\n",
    "              ):\n",
    "    \"\"\"\n",
    "    calculate equivalent carbon emissions from flights\n",
    "    \n",
    "    Parameters\n",
    "    ==========\n",
    "    dist - flight distance in km\n",
    "    \n",
    "    Optional inputs\n",
    "    ---------------\n",
    "    returnf - Return flight (default=False)\n",
    "    firstclass - First class flight (default=False)\n",
    "    radforc - radiative forcing factor (default=2.0)\n",
    "    \n",
    "    Returns\n",
    "    =======\n",
    "    CO2 equivalent emissions in kg\n",
    "\n",
    "    Emission factors (kg CO2e/pkm)\n",
    "    https://flygrn.com/blog/carbon-emission-factors-used-by-flygrn\n",
    "    \n",
    "    0.26744  < 700 km \n",
    "    0.15845  700 – 2500\n",
    "    0.15119  > 2500 km \n",
    "    \"\"\"\n",
    "\n",
    "    if dist < 700:\n",
    "        emm_factor = 0.26744\n",
    "    elif dist > 2500:\n",
    "        emm_factor = 0.15119\n",
    "    else:\n",
    "        emm_factor = 0.15845\n",
    "        \n",
    "    co2e = emm_factor * dist\n",
    "\n",
    "    if returnf:\n",
    "        co2e = co2e * 2\n",
    "    if firstclass:\n",
    "        co2e = co2e * 2\n",
    "    \n",
    "    co2e = co2e / 2.0 * radforc\n",
    "    \n",
    "    return co2e"
   ]
  },
  {
   "cell_type": "markdown",
   "metadata": {},
   "source": [
    "**2.Create another function to calculate the distance between two locations**"
   ]
  },
  {
   "cell_type": "markdown",
   "metadata": {},
   "source": [
    "* The function `get_latlon` is being provided to obtain the latitude and logitude for a given location from the openstreetmap.org API.\n",
    "* Test this function for several locations"
   ]
  },
  {
   "cell_type": "code",
   "execution_count": 2,
   "metadata": {},
   "outputs": [],
   "source": [
    "import requests\n",
    "import urllib.parse\n",
    "\n",
    "def get_latlon(location):\n",
    "    \n",
    "    url = 'https://nominatim.openstreetmap.org/search/' + urllib.parse.quote(location) +'?format=json'\n",
    "\n",
    "    response = requests.get(url).json()\n",
    "\n",
    "    if not response:\n",
    "        print('Location not found:',location)\n",
    "    \n",
    "    lat = float( response[0][\"lat\"] )\n",
    "    lon = float( response[0][\"lon\"] )\n",
    "    \n",
    "    return (lat,lon)"
   ]
  },
  {
   "cell_type": "code",
   "execution_count": 3,
   "metadata": {},
   "outputs": [],
   "source": [
    "# get_latlon(location)"
   ]
  },
  {
   "cell_type": "markdown",
   "metadata": {},
   "source": [
    "* Write function `calc_dist` to calculate the distance between an origin and destination. The coodinates are obtained from `get_latlon()`."
   ]
  },
  {
   "cell_type": "code",
   "execution_count": 4,
   "metadata": {},
   "outputs": [],
   "source": [
    "from math import cos, sin, acos, pi\n",
    "\n",
    "def calc_dist(origin, destination):\n",
    "    \"\"\"\n",
    "    Calculate distances for a given itenerary\n",
    "    \n",
    "    Inputs\n",
    "    ------\n",
    "    origin, destination - names of the cities\n",
    "        \n",
    "    Returns\n",
    "    -------\n",
    "    distance in km\n",
    "    \n",
    "    Uses Great circle approximation for spherical earth\n",
    "    dist = 6378.388 * acos(sin(lat1) * sin(lat2) + cos(lat1) * cos(lat2) * cos(lon2 - lon1))\n",
    "    where lat and lon are in radians (rad=deg/180*pi)\n",
    "    \"\"\"\n",
    "\n",
    "    (lat1,lon1) = get_latlon(origin)\n",
    "    (lat2,lon2) = get_latlon(destination)\n",
    "    lat1 = lat1/180*pi\n",
    "    lon1 = lon1/180*pi\n",
    "    lat2 = lat2/180*pi\n",
    "    lon2 = lon2/180*pi\n",
    "    \n",
    "    dist = 6378.388 * acos(sin(lat1) * sin(lat2) + cos(lat1) * cos(lat2) * cos(lon2 - lon1))\n",
    "        \n",
    "    return dist"
   ]
  },
  {
   "cell_type": "markdown",
   "metadata": {},
   "source": [
    "Check that your function is working"
   ]
  },
  {
   "cell_type": "code",
   "execution_count": 5,
   "metadata": {},
   "outputs": [
    {
     "data": {
      "text/plain": [
       "18357.656353623242"
      ]
     },
     "execution_count": 5,
     "metadata": {},
     "output_type": "execute_result"
    }
   ],
   "source": [
    "calc_dist('London', 'Auckland')"
   ]
  },
  {
   "cell_type": "markdown",
   "metadata": {},
   "source": [
    "**3. Copy the three functions `get_latlon`,`calc_dist` and `calc_co2e` to a file mymod.py**\n",
    "* Use import to access these functions from another file or a notebook\n",
    "* Call `calc_dist` followed by `calc_co2e` to calculate carbon emissions between two locations"
   ]
  },
  {
   "cell_type": "code",
   "execution_count": 6,
   "metadata": {},
   "outputs": [
    {
     "name": "stdout",
     "output_type": "stream",
     "text": [
      "Carbon emissions for flight London->Ibiza: 222kg\n"
     ]
    }
   ],
   "source": [
    "import mymod \n",
    "\"\"\"\n",
    "Note: This is only done once, any changes to \n",
    "      the kernel will be ignored until the kernel\n",
    "      is restarted\n",
    "\"\"\"\n",
    "\n",
    "origin='London'\n",
    "destination = 'Ibiza'\n",
    "dist = mymod.calc_dist(origin,destination)\n",
    "co2e = mymod.calc_co2e(dist)\n",
    "\n",
    "print( f'Carbon emissions for flight {origin}->{destination}: {co2e:.0f}kg') "
   ]
  }
 ],
 "metadata": {
  "anaconda-cloud": {},
  "kernelspec": {
   "display_name": "Python 3",
   "language": "python",
   "name": "python3"
  },
  "language_info": {
   "codemirror_mode": {
    "name": "ipython",
    "version": 3
   },
   "file_extension": ".py",
   "mimetype": "text/x-python",
   "name": "python",
   "nbconvert_exporter": "python",
   "pygments_lexer": "ipython3",
   "version": "3.8.3"
  }
 },
 "nbformat": 4,
 "nbformat_minor": 1
}
