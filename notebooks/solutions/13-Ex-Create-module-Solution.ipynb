{
 "cells": [
  {
   "cell_type": "markdown",
   "metadata": {},
   "source": [
    "# Solution: create a module and reuse code from it (1 h)"
   ]
  },
  {
   "cell_type": "markdown",
   "metadata": {},
   "source": [
    "Extend the exercise from today by applying what you've just learned about packages and code reusability."
   ]
  },
  {
   "cell_type": "markdown",
   "metadata": {},
   "source": [
    "## Outline"
   ]
  },
  {
   "cell_type": "markdown",
   "metadata": {},
   "source": [
    "1. Put the function into a separate .py file\n",
    "2. Create yet another function that takes the name of the region as an input and returns SST values for the corresponding region\n",
    "3. Use `import` to access these functions from another file or a notebook\n",
    "4. Create the wind speed data\n",
    "5. Create a dictionary of data, whose keys are names of regions and values are lists of heat fluxes data\n",
    "6. Save the dictionary to text file (bonus: to a json file), both keys and values"
   ]
  },
  {
   "cell_type": "markdown",
   "metadata": {},
   "source": [
    "**1 Copy your calc_heat_flux() function to a new file, called mymod.py for \"my module\" ***\n",
    "\n",
    "You can use Jupyter notebook master page to create a New->Text File in the same directory as this notebook.\n",
    "\n",
    "The file can then be renamed from untitled.txt to mymod.txt in the page's File menu."
   ]
  },
  {
   "cell_type": "code",
   "execution_count": null,
   "metadata": {},
   "outputs": [],
   "source": [
    "def calc_heat_flux(\n",
    "    u_atm, t_sea, \n",
    "    rho=1.2, \n",
    "    c_p=1004.5, \n",
    "    c_h=1.2e-3, \n",
    "    u_sea=1, \n",
    "    t_atm=17,\n",
    "):\n",
    "    \n",
    "    q = rho * c_p * c_h * (u_atm - u_sea) * (t_sea - t_atm)\n",
    "    return q"
   ]
  },
  {
   "cell_type": "markdown",
   "metadata": {},
   "source": [
    "**2. Create yet another function that takes the name of the region as an input and returns SST values for the corresponding region**"
   ]
  },
  {
   "cell_type": "markdown",
   "metadata": {},
   "source": [
    "* This function can look something like the one below\n",
    "* Feel free to modify or extend it\n",
    "* You can replace `region_name` by `experiment_name` or whatever you prefer\n",
    "* For convenience, make sure the length of the returned list is the same"
   ]
  },
  {
   "cell_type": "code",
   "execution_count": null,
   "metadata": {},
   "outputs": [],
   "source": [
    "def create_sst(region_name):\n",
    "    \"\"\"\n",
    "    Create fake SST data (degC) for a given region\n",
    "    \n",
    "    Inputs\n",
    "    ------\n",
    "    region_name: ...continue the docstring...\n",
    "    \n",
    "    n: integer, optional. Length of the returned data list      \n",
    "    \n",
    "    Returns\n",
    "    -------\n",
    "    ...continue the docstring...\n",
    "    \"\"\"\n",
    "    \n",
    "    if region_name == 'NS':\n",
    "        # North Sea\n",
    "        sst = list(range(5, 15, 1))\n",
    "    elif region_name == 'WS':\n",
    "        # White Sea\n",
    "        sst = list(range(0, 10, 1))\n",
    "    elif region_name == 'BS':\n",
    "        # Black Sea\n",
    "        sst = list(range(15, 25, 1))\n",
    "    else:\n",
    "        raise ValueError('Input value of {region_name} is not recognised')\n",
    "        \n",
    "    return sst"
   ]
  },
  {
   "cell_type": "markdown",
   "metadata": {},
   "source": [
    "Check that your function is working"
   ]
  },
  {
   "cell_type": "code",
   "execution_count": null,
   "metadata": {},
   "outputs": [],
   "source": [
    "create_sst('WS')"
   ]
  },
  {
   "cell_type": "markdown",
   "metadata": {},
   "source": [
    "And then copy it to the mymod.py file."
   ]
  },
  {
   "cell_type": "markdown",
   "metadata": {},
   "source": [
    "**3. Use import to access these functions from another file or a notebook**"
   ]
  },
  {
   "cell_type": "code",
   "execution_count": null,
   "metadata": {},
   "outputs": [],
   "source": [
    "import mymod \n",
    "\"\"\"\n",
    "Note: This is only done once, any changes to \n",
    "      the kernel will be ignored until the kernel\n",
    "      is restarted\n",
    "\"\"\"\n",
    "\n",
    "\n",
    "print( 'SST from mymod.py: ',mymod.create_sst('WS') ) \n",
    "\n",
    "print( 'heat flux from mymod.py:', mymod.calc_heat_flux(0.5,298) )"
   ]
  },
  {
   "cell_type": "markdown",
   "metadata": {
    "collapsed": true
   },
   "source": [
    "**4. Create the wind speed data**"
   ]
  },
  {
   "cell_type": "code",
   "execution_count": null,
   "metadata": {},
   "outputs": [],
   "source": [
    "wind_speed = list(range(0,20,2))"
   ]
  },
  {
   "cell_type": "markdown",
   "metadata": {},
   "source": [
    "**5. Create a dictionary of data, whose keys are names of regions and values are lists of heat fluxes data**"
   ]
  },
  {
   "cell_type": "markdown",
   "metadata": {},
   "source": [
    "* Create a list of names of the regions/experiments\n",
    "* Create an empty dictionary, named `hf_dict` or whatever sounds better to you\n",
    "* Loop over the names, call the `create_sst()` function and assign it to a variable, e.g. `fake_sst`\n",
    "* Still inside the name-loop, write **another loop** to iterate over SST and wind values, just as you did in the previous exercise, and calculate the **heat flux**.\n",
    "* Assign the result to the corresponding key of `hf_dict`"
   ]
  },
  {
   "cell_type": "code",
   "execution_count": null,
   "metadata": {},
   "outputs": [],
   "source": [
    "regions = ['WS', 'BS']\n",
    "hf_dict = dict()\n",
    "\n",
    "for reg in regions:\n",
    "    fake_sst = mymod.create_sst(reg)\n",
    "    heat_flux = []\n",
    "    \n",
    "    for u, t in zip(wind_speed, fake_sst):\n",
    "        q = mymod.calc_heat_flux(u, t)\n",
    "        heat_flux.append(q)\n",
    "    hf_dict[reg] = heat_flux"
   ]
  },
  {
   "cell_type": "markdown",
   "metadata": {},
   "source": [
    "Print the result to test yourself."
   ]
  },
  {
   "cell_type": "code",
   "execution_count": null,
   "metadata": {},
   "outputs": [],
   "source": [
    "hf_dict"
   ]
  },
  {
   "cell_type": "markdown",
   "metadata": {},
   "source": [
    "**6. Save the dictionary to text file, both keys and values**"
   ]
  },
  {
   "cell_type": "markdown",
   "metadata": {},
   "source": [
    "* You can copy the code for writing data to a text file from the previous exercise\n",
    "* Modify it so that the output file would include `hf_dict`'s keys as row (column) names"
   ]
  },
  {
   "cell_type": "code",
   "execution_count": null,
   "metadata": {},
   "outputs": [],
   "source": [
    "with open('heat_flux_var_sst_bycol.txt', 'w') as f:\n",
    "    \n",
    "    column_names = sorted(hf_dict.keys())\n",
    "    f.write(','.join(column_names)+'\\n')\n",
    "\n",
    "    for tup in zip(*[hf_dict[i] for i in column_names]):\n",
    "        f.write(','.join([str(i) for i in tup])+'\\n')"
   ]
  },
  {
   "cell_type": "code",
   "execution_count": null,
   "metadata": {},
   "outputs": [],
   "source": [
    "with open('heat_flux_var_sst_byrow.txt', 'w') as f:\n",
    "    \n",
    "    for k, v in hf_dict.items():\n",
    "\n",
    "        line = k + ','\n",
    "\n",
    "        for i in v:\n",
    "            line += str(i) + ','\n",
    "        line = line[:-1]+ '\\n'\n",
    "\n",
    "        f.write(line)"
   ]
  },
  {
   "cell_type": "code",
   "execution_count": null,
   "metadata": {},
   "outputs": [],
   "source": [
    "!more {'heat_flux_var_sst_byrow.txt'}"
   ]
  },
  {
   "cell_type": "markdown",
   "metadata": {},
   "source": [
    "**Bonus**"
   ]
  },
  {
   "cell_type": "code",
   "execution_count": null,
   "metadata": {},
   "outputs": [],
   "source": [
    "import json"
   ]
  },
  {
   "cell_type": "markdown",
   "metadata": {},
   "source": [
    "Explore what json.dump() does."
   ]
  }
 ],
 "metadata": {
  "anaconda-cloud": {},
  "kernelspec": {
   "display_name": "Python 3",
   "language": "python",
   "name": "python3"
  },
  "language_info": {
   "codemirror_mode": {
    "name": "ipython",
    "version": 3
   },
   "file_extension": ".py",
   "mimetype": "text/x-python",
   "name": "python",
   "nbconvert_exporter": "python",
   "pygments_lexer": "ipython3",
   "version": "3.8.3"
  }
 },
 "nbformat": 4,
 "nbformat_minor": 1
}
