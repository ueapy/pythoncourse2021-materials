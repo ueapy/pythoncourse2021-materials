{
 "cells": [
  {
   "cell_type": "markdown",
   "metadata": {},
   "source": [
    "# Solutions for the exercises in the notebook: Introduction to numpy"
   ]
  },
  {
   "cell_type": "markdown",
   "metadata": {},
   "source": [
    "# Exercise 1"
   ]
  },
  {
   "cell_type": "code",
   "execution_count": null,
   "metadata": {},
   "outputs": [],
   "source": [
    "# a) Create array with units of seconds through the day, from 00:00 to 24:00, inclusive \n",
    "# b) Change the length of your array, to have either 1 second, 1 minute, or 1 hour intervals.\n",
    "# (enter your code below)"
   ]
  },
  {
   "cell_type": "code",
   "execution_count": null,
   "metadata": {},
   "outputs": [],
   "source": [
    "# a)\n",
    "import numpy as np\n",
    "np.linspace(0,86400,86401)\n",
    "# or: np.arange(0,86401)"
   ]
  },
  {
   "cell_type": "code",
   "execution_count": null,
   "metadata": {},
   "outputs": [],
   "source": [
    "# b)\n",
    "np.linspace(0,86400,24*60+1) # minutes\n",
    "np.linspace(0,86400,24+1) # hours"
   ]
  },
  {
   "cell_type": "markdown",
   "metadata": {},
   "source": [
    "---\n",
    "\n",
    "# Exercise 2"
   ]
  },
  {
   "cell_type": "markdown",
   "metadata": {},
   "source": [
    "Create a 2D NumPy array from the following list and assign it to the variable \"a\":"
   ]
  },
  {
   "cell_type": "code",
   "execution_count": null,
   "metadata": {},
   "outputs": [],
   "source": [
    "# [[2, 3.2, 5.5, -6.4, -2.2, 2.4],\n",
    "#  [1, 22, 4, 0.1, 5.3, -9],\n",
    "#  [3, 1, 2.1, 21, 1.1, -2]]"
   ]
  },
  {
   "cell_type": "code",
   "execution_count": null,
   "metadata": {},
   "outputs": [],
   "source": [
    "# Solution\n",
    "a=np.array([[2, 3.2, 5.5, -6.4, -2.2, 2.4],\n",
    "  [1, 22, 4, 0.1, 5.3, -9],\n",
    "  [3, 1, 2.1, 21, 1.1, -2]])\n",
    "\n",
    "print(a)"
   ]
  },
  {
   "cell_type": "markdown",
   "metadata": {},
   "source": [
    "a) Can you guess what the following slices are equal to? Print them to check your understanding."
   ]
  },
  {
   "cell_type": "code",
   "execution_count": null,
   "metadata": {},
   "outputs": [],
   "source": [
    "a[:, 3]\n",
    "# This is the 4th column of a (recall that we start indexing with 0)"
   ]
  },
  {
   "cell_type": "code",
   "execution_count": null,
   "metadata": {},
   "outputs": [],
   "source": [
    "a[1:4, 0:4]\n",
    "# rows 1 to 4 (second to last) and columns first to fourth"
   ]
  },
  {
   "cell_type": "code",
   "execution_count": null,
   "metadata": {},
   "outputs": [],
   "source": [
    "a[1:, 2]\n",
    "# All raws starting from the second and the third column"
   ]
  },
  {
   "cell_type": "markdown",
   "metadata": {},
   "source": [
    "b) How would you extract: i) the last column; ii) the row before last?"
   ]
  },
  {
   "cell_type": "code",
   "execution_count": null,
   "metadata": {},
   "outputs": [],
   "source": [
    "# i)\n",
    "a[:,-1] # This is the last column"
   ]
  },
  {
   "cell_type": "code",
   "execution_count": null,
   "metadata": {},
   "outputs": [],
   "source": [
    "# ii)\n",
    "a[-2,:] # This is the row before last"
   ]
  },
  {
   "cell_type": "markdown",
   "metadata": {},
   "source": [
    "---\n",
    "\n",
    "# Exercise 3"
   ]
  },
  {
   "cell_type": "markdown",
   "metadata": {
    "nbpresent": {
     "id": "5e485850-9bbe-419f-82bb-d7fcd39be095"
    }
   },
   "source": [
    "Consider a 4 x 5 2D array of negative integers:"
   ]
  },
  {
   "cell_type": "code",
   "execution_count": null,
   "metadata": {
    "nbpresent": {
     "id": "e4b78e95-ad9a-4a6d-a54b-68d7d4a72eab"
    }
   },
   "outputs": [],
   "source": [
    "a = np.arange(-100, 0, 5).reshape(4, 5)\n",
    "a"
   ]
  },
  {
   "cell_type": "markdown",
   "metadata": {
    "nbpresent": {
     "id": "ccf808ae-2412-4e53-bb29-d3101eccc925"
    }
   },
   "source": [
    "Suppose you want to return an array `result`, which has the squared value when an element in array `a` is greater than `-90` and less than `-40`, and is 1 otherwise."
   ]
  },
  {
   "cell_type": "markdown",
   "metadata": {
    "nbpresent": {
     "id": "29981bec-1784-4ca7-b609-749858503e45"
    },
    "slideshow": {
     "slide_type": "subslide"
    }
   },
   "source": [
    "Using a `for` loop, the result could look like this:"
   ]
  },
  {
   "cell_type": "code",
   "execution_count": null,
   "metadata": {
    "nbpresent": {
     "id": "a508de6d-2d13-4938-a145-d1159600a619"
    }
   },
   "outputs": [],
   "source": [
    "result = np.zeros(a.shape, dtype=a.dtype)    # pre-allocate a result array\n",
    "\n",
    "for i in range(a.shape[0]):                  # loop over rows\n",
    "    for j in range(a.shape[1]):              # loop over columns\n",
    "        if a[i, j] > -90 and a[i, j] < -40:  # only square the number if within the chosen limits\n",
    "            result[i, j] = a[i, j]**2\n",
    "        else:                                # set to 1 otherwise\n",
    "            result[i, j] = 1\n",
    "            \n",
    "result"
   ]
  },
  {
   "cell_type": "markdown",
   "metadata": {
    "nbpresent": {
     "id": "29981bec-1784-4ca7-b609-749858503e45"
    },
    "slideshow": {
     "slide_type": "subslide"
    }
   },
   "source": [
    "**Can you write a vectorised solution?**\n",
    "\n",
    "Hint: use np.logical_and() and/or np.logical_not() to create a condition\n"
   ]
  },
  {
   "cell_type": "code",
   "execution_count": null,
   "metadata": {},
   "outputs": [],
   "source": [
    "# Example solution 1: \n",
    "\n",
    "result = np.ones(a.shape,dtype=a.dtype)              # set all values to 1 at start\n",
    "square_values = np.logical_and(a>-90,a<-40)          # create a boolean array -> true within set limits\n",
    "result[square_values] = np.square(a[square_values])  # only square values where square_values==true.\n",
    "print(result)"
   ]
  },
  {
   "cell_type": "code",
   "execution_count": null,
   "metadata": {},
   "outputs": [],
   "source": [
    "# Example solution 2 - A one-liner using `np.where`:\n",
    "\n",
    "result = np.where(np.logical_and(a>-90,a<-40), a**2, 1)\n",
    "print(result)"
   ]
  },
  {
   "cell_type": "code",
   "execution_count": null,
   "metadata": {},
   "outputs": [],
   "source": [
    "# help(np.where)\n"
   ]
  },
  {
   "cell_type": "markdown",
   "metadata": {},
   "source": [
    "---\n",
    "\n",
    "# Exercise 4"
   ]
  },
  {
   "cell_type": "markdown",
   "metadata": {
    "nbpresent": {
     "id": "8b2e92c7-13c0-4a2c-9efa-b034914c63d2"
    }
   },
   "source": [
    "1. Create a \"data\" array of evenly spaced numbers, in the interval (-10, 20) spaced by 0.5\n",
    "2. Calculate the (natural) logarithm of the data\n",
    "3. Create a condition i.e. a True/False (boolean) array, that you can use to mask these results\n",
    "    - The resulting array should be masked when either of the following conditions apply\n",
    "        - larger or equal than 10\n",
    "        - larger than -1 and smaller than 1 \n",
    "        - data is not a real number\n",
    "4. Mask the array depending on these conditions\n"
   ]
  },
  {
   "cell_type": "code",
   "execution_count": null,
   "metadata": {
    "nbpresent": {
     "id": "ef21490b-e603-4991-a0df-0ebdccef705b"
    },
    "slideshow": {
     "slide_type": "subslide"
    }
   },
   "outputs": [],
   "source": [
    "# Your code:\n",
    "# Hint: use `np.linspace` or `np.arange` functions\n",
    "\n",
    "# 1. \n",
    "data = np.arange(-10,20.1,0.5)\n",
    "print(data)"
   ]
  },
  {
   "cell_type": "code",
   "execution_count": null,
   "metadata": {},
   "outputs": [],
   "source": [
    "# 2.\n",
    "logdata = np.log(data)\n",
    "print(logdata)"
   ]
  },
  {
   "cell_type": "code",
   "execution_count": null,
   "metadata": {
    "nbpresent": {
     "id": "24ca4668-8118-4652-bc6a-3fc80dd52b2c"
    }
   },
   "outputs": [],
   "source": [
    "# 3. Hint: use np.isfinite\n",
    "condition = np.logical_or(~np.isfinite(logdata), np.logical_or(logdata>=10, np.logical_and(logdata>-1,logdata<1)))\n",
    "print(condition)\n",
    "\n",
    "#Another possible condition giving the same result would be:\n",
    "condition = np.logical_or(np.logical_not(np.isfinite(arr)), np.logical_or(abs(arr)<1,arr>=10))\n",
    "print(condition)\n"
   ]
  },
  {
   "cell_type": "code",
   "execution_count": null,
   "metadata": {
    "nbpresent": {
     "id": "8e131b42-9337-499d-9192-e8250ca8ae6c"
    }
   },
   "outputs": [],
   "source": [
    "# 4. Hint: use np.ma.masked_where(condition,arr)\n",
    "\n",
    "masked_arr= np.ma.masked_where(condition, logdata)\n",
    "print(masked_arr)"
   ]
  },
  {
   "cell_type": "markdown",
   "metadata": {},
   "source": [
    "---\n",
    "\n",
    "# Exercise 5"
   ]
  },
  {
   "cell_type": "markdown",
   "metadata": {},
   "source": [
    "Generate a 2d array with 5x5. The first value is 0 and it grows left to right and top to bottom in increments on 0.1."
   ]
  },
  {
   "cell_type": "code",
   "execution_count": null,
   "metadata": {},
   "outputs": [],
   "source": [
    "e4 = np.arange(0.,2.5,.1)\n",
    "e4"
   ]
  },
  {
   "cell_type": "code",
   "execution_count": null,
   "metadata": {},
   "outputs": [],
   "source": [
    "#Another possibility\n",
    "e4=np.linspace(0.,2.4,25)\n",
    "e4"
   ]
  },
  {
   "cell_type": "code",
   "execution_count": null,
   "metadata": {},
   "outputs": [],
   "source": [
    "e4.reshape([5,5])"
   ]
  }
 ],
 "metadata": {
  "kernelspec": {
   "display_name": "Python 3",
   "language": "python",
   "name": "python3"
  },
  "language_info": {
   "codemirror_mode": {
    "name": "ipython",
    "version": 3
   },
   "file_extension": ".py",
   "mimetype": "text/x-python",
   "name": "python",
   "nbconvert_exporter": "python",
   "pygments_lexer": "ipython3",
   "version": "3.8.3"
  }
 },
 "nbformat": 4,
 "nbformat_minor": 2
}
