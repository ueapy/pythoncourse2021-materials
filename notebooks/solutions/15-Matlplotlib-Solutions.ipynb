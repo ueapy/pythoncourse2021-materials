{
 "cells": [
  {
   "cell_type": "markdown",
   "metadata": {
    "nbpresent": {
     "id": "80243624-0a24-4f0c-a5b2-aa3598627698"
    }
   },
   "source": [
    "# Matplotlib - Intro"
   ]
  },
  {
   "cell_type": "markdown",
   "metadata": {},
   "source": [
    "* **matplotlib** is a Python plotting library for producing publication quality figures\n",
    "    * allows for interactive, cross-platform control of plots\n",
    "    * makes it easy to produce static raster or vector graphics\n",
    "        * gives the developer complete control over the appearance of their plots, while still being usable through a powerful defaults system\n",
    "* standard scientific plotting library\n",
    "* online documentnation is on [matplotlib.org](https://matplotlib.org/index.html), with lots of examples in the [gallery](https://matplotlib.org/gallery.html)\n",
    "\n",
    "* behaves similarly to Matlab"
   ]
  },
  {
   "cell_type": "code",
   "execution_count": null,
   "metadata": {},
   "outputs": [],
   "source": [
    "import matplotlib.pyplot as plt\n",
    "import numpy as np"
   ]
  },
  {
   "cell_type": "markdown",
   "metadata": {},
   "source": [
    "To be efficient with **matplotlib**, you first need to understand its termonology."
   ]
  },
  {
   "cell_type": "markdown",
   "metadata": {},
   "source": [
    "## Parts of a Figure"
   ]
  },
  {
   "cell_type": "markdown",
   "metadata": {},
   "source": [
    "<img src=\"../../figures/matplotlib_figure_parts.png\" style=\"height:60%; width:60%;\">"
   ]
  },
  {
   "cell_type": "markdown",
   "metadata": {},
   "source": [
    "### Figure, Axes, Axis"
   ]
  },
  {
   "cell_type": "markdown",
   "metadata": {},
   "source": [
    "* **Figure** is the whole image, the top-level 'container' that holds all objects of an image.\n",
    "* **Axes** is the region of a **Figure** that displays your data. Most plotting occurs here! Very similar to a subplot\n",
    "* **Axes** contains **Axis** objects (x axis,y axis) which control the data limits.\n",
    "* **Figure** can have any number of **Axes**, but to be useful should have at least one."
   ]
  },
  {
   "cell_type": "code",
   "execution_count": null,
   "metadata": {},
   "outputs": [],
   "source": [
    "fig = plt.figure() # Create a figure\n",
    "axes = fig.add_subplot(111) # add one Axes to Figure"
   ]
  },
  {
   "cell_type": "markdown",
   "metadata": {},
   "source": [
    "Usually an **Axes** is set up with a call to `fig.add_subplot()`, `plt.subplot()`, or `plt.subplots()` \n",
    "\n",
    "The most flexible option is `plt.subplots()`"
   ]
  },
  {
   "cell_type": "code",
   "execution_count": null,
   "metadata": {},
   "outputs": [],
   "source": [
    "fig,axes = plt.subplots(2,3,figsize=(12,6))\n",
    "# This will create a figure and 6 axes arranged in 2 rows, 3 columns"
   ]
  },
  {
   "cell_type": "markdown",
   "metadata": {},
   "source": [
    "### Line plots"
   ]
  },
  {
   "cell_type": "markdown",
   "metadata": {},
   "source": [
    "Lets draw two cosine functions of different amplitude on the same **Axes**."
   ]
  },
  {
   "cell_type": "code",
   "execution_count": null,
   "metadata": {},
   "outputs": [],
   "source": [
    "# Create data\n",
    "X = np.linspace(-np.pi, np.pi, 100, endpoint=True)\n",
    "Y1 = np.cos(X)\n",
    "Y2 = 2*np.cos(X)"
   ]
  },
  {
   "cell_type": "code",
   "execution_count": null,
   "metadata": {},
   "outputs": [],
   "source": [
    "# Plot data\n",
    "fig, axes = plt.subplots()\n",
    "axes.plot(X, Y1)\n",
    "axes.plot(X, Y2);"
   ]
  },
  {
   "cell_type": "markdown",
   "metadata": {},
   "source": [
    "** Tip: by adding a semicolon at the end of a function, the output is suppressed."
   ]
  },
  {
   "cell_type": "markdown",
   "metadata": {},
   "source": [
    "### Default and named colors"
   ]
  },
  {
   "cell_type": "markdown",
   "metadata": {},
   "source": [
    "![](../figures/dflt_style_changes-1.png)"
   ]
  },
  {
   "cell_type": "markdown",
   "metadata": {},
   "source": [
    "**Exercise 0 (10 mins)**. The figure before is generated using the default settings. The code below shows these settings explicitly. Play with the values to explore their effect. For details on changing properties see [line plots on the matplotlib website](https://matplotlib.org/api/_as_gen/matplotlib.pyplot.plot.html)"
   ]
  },
  {
   "cell_type": "code",
   "execution_count": null,
   "metadata": {},
   "outputs": [],
   "source": [
    "# Plot data (with explicit plotting settings)\n",
    "fig, axes = plt.subplots(nrows=1, ncols=1, figsize=(6,4))\n",
    "axes.plot(X, Y1, color='C0', linewidth=5.0, linestyle='-',alpha=0.5)\n",
    "axes.plot(X, Y2, color='r', linewidth=3.0, linestyle='--')"
   ]
  },
  {
   "cell_type": "code",
   "execution_count": null,
   "metadata": {},
   "outputs": [],
   "source": [
    "# Your code here"
   ]
  },
  {
   "cell_type": "code",
   "execution_count": null,
   "metadata": {},
   "outputs": [],
   "source": [
    "# Sample solution\n",
    "# Plot data (with explicit plotting settings)\n",
    "fig, axes = plt.subplots(nrows=1, ncols=1, figsize=(8,4))\n",
    "axes.plot(X, Y1, color='r', linewidth=4, linestyle='--')\n",
    "axes.plot(X, Y2, color='b', linewidth=2, linestyle='-.')\n",
    "axes.set_xlim(-8, 8)\n",
    "axes.set_ylim(-3, 3)\n",
    "axes.set_xticks(np.linspace(-4,4,9,endpoint=True))\n",
    "axes.set_yticks(np.linspace(-3,3,11,endpoint=True));"
   ]
  },
  {
   "cell_type": "markdown",
   "metadata": {},
   "source": [
    "**Exercise 1 (10 mins)**. Having integer numbers on the x axis here might divert reader's attention from the critical points of the graph.\n",
    "\n",
    "1. Change **xticks** and **xticklabels** into multiples of $\\pi$. Use `axes.set_xticks()` and `axes.set_xticklabels()`.\n",
    "\n",
    "\\*\\* Tip: use `np.pi` for **xticks** and '\\$\\pi$' for **xticklabels**. format strings in LaTeX by prepending 'r'ie `axes.set_xticklabels([r'$\\pi$'])`"
   ]
  },
  {
   "cell_type": "code",
   "execution_count": null,
   "metadata": {},
   "outputs": [],
   "source": [
    "# Your code here"
   ]
  },
  {
   "cell_type": "code",
   "execution_count": null,
   "metadata": {},
   "outputs": [],
   "source": [
    "# Solution\n",
    "# Change xticks, yticks and xticklabels\n",
    "fig, axes = plt.subplots()\n",
    "axes.plot(X, Y1);\n",
    "axes.plot(X, Y2);\n",
    "\n",
    "axes.set_xticks([-np.pi, -np.pi/2, 0, np.pi/2, np.pi]);\n",
    "axes.set_yticks([-2, -1, 0, 1, 2]);\n",
    "axes.set_xticklabels(['$-\\pi$', '$-\\pi/2$', '$0$', '$+\\pi/2$', '$+\\pi$']);"
   ]
  },
  {
   "cell_type": "markdown",
   "metadata": {},
   "source": [
    "**Exersise 2 (5 mins)**. Add a legend.\n",
    "1. Give both cosine functions a name by adding an extra keyword argument, a label, to `axes.plot()`.\n",
    "2. Add a legend object to **Axes**. "
   ]
  },
  {
   "cell_type": "code",
   "execution_count": null,
   "metadata": {},
   "outputs": [],
   "source": [
    "# Your code here"
   ]
  },
  {
   "cell_type": "code",
   "execution_count": null,
   "metadata": {},
   "outputs": [],
   "source": [
    "# Solution\n",
    "# Add a legend\n",
    "fig, axes = plt.subplots()\n",
    "axes.plot(X, Y1, label='cos(x)');\n",
    "axes.plot(X, Y2, label='2cos(x)');\n",
    "\n",
    "axes.set_xticks([-np.pi, -np.pi/2, 0, np.pi/2, np.pi]);\n",
    "axes.set_yticks([-2, -1, 0, 1, 2]);\n",
    "axes.set_xticklabels(['$-\\pi$', '$-\\pi/2$', '$0$', '$+\\pi/2$', '$+\\pi$']);\n",
    "axes.legend(loc='upper left', frameon=False);\n"
   ]
  },
  {
   "cell_type": "markdown",
   "metadata": {},
   "source": [
    "**Exercise 3 (10 mins)**. Annotate an interesting point on a graph, for example, $2\\cos(\\frac{\\pi}{4})$.\n",
    "1. Add a single point to the graph by using `axes.plot(..., marker='o')`.\n",
    "2. Use `axes.annotate(s, xy=..., xytext=...)` to add annotation.\n",
    "\n",
    "** Tip: visit [annotations](https://matplotlib.org/users/annotations_intro.html)."
   ]
  },
  {
   "cell_type": "code",
   "execution_count": null,
   "metadata": {},
   "outputs": [],
   "source": [
    "# Your code here"
   ]
  },
  {
   "cell_type": "code",
   "execution_count": null,
   "metadata": {},
   "outputs": [],
   "source": [
    "fig, axes = plt.subplots()\n",
    "axes.plot(X, Y1, label='cos(x)');\n",
    "axes.plot(X, Y2, label='2cos(x)');\n",
    "\n",
    "axes.set_xticks([-np.pi, -np.pi/2, 0, np.pi/2, np.pi]);\n",
    "axes.set_yticks([-2, -1, 0, 1, 2]);\n",
    "axes.set_xticklabels(['$-\\pi$', '$-\\pi/2$', '$0$', '$+\\pi/2$', '$+\\pi$']);\n",
    "axes.legend(loc='upper left', frameon=False);\n",
    "point = np.pi/4\n",
    "axes.plot(point, 2*np.cos(point), marker='o');\n",
    "axes.annotate(r'$2\\cos(\\frac{\\pi}{4})=\\sqrt{2}$', xy=(point, 2*np.cos(point)), xytext=(1, 1.5), fontsize=16);"
   ]
  },
  {
   "cell_type": "markdown",
   "metadata": {},
   "source": [
    "### Multiple subplots"
   ]
  },
  {
   "cell_type": "markdown",
   "metadata": {},
   "source": [
    "`plt.subplots()` is a function that creates a figure and a grid of subplots with a single call, while providing reasonable control over how the individual plots are created. "
   ]
  },
  {
   "cell_type": "code",
   "execution_count": null,
   "metadata": {},
   "outputs": [],
   "source": [
    "fig, axes = plt.subplots(nrows=2, ncols=3, figsize=(15,5)) # or plt.subplots(2,3,figsize=(15,5))\n",
    "axes[0,0].set_title('subplot[0,0]', fontsize=18);\n",
    "axes[0,1].set_title('subplot[0,1]', fontsize=18);\n",
    "axes[0,2].set_title('subplot[0,2]', fontsize=18);\n",
    "axes[1,0].set_title('subplot[1,0]', fontsize=18);\n",
    "axes[1,1].set_title('subplot[1,1]', fontsize=18);\n",
    "axes[1,2].set_title('subplot[1,2]', fontsize=18);\n",
    "\n",
    "for ax in axes.flat: # you can loop over axes\n",
    "    ax.set_xticks([]);\n",
    "    ax.set_yticks([]);"
   ]
  },
  {
   "cell_type": "markdown",
   "metadata": {},
   "source": [
    "### Subplots with real data"
   ]
  },
  {
   "cell_type": "markdown",
   "metadata": {},
   "source": [
    "To practice our plotting we are going to work with data from the NOAA ESRL Carbon Cycle Cooperative Global Air Sampling Network.\n",
    "\n",
    "Source: https://www.esrl.noaa.gov/gmd/dv/data/\n",
    "\n",
    "Monthly averages of atmospheric carbon dioxide ($CO_2$) and methane ($CH_4$) \n",
    "\n",
    "Stations: \n",
    "* CGO = Cape Grim, Tasmania, Australia\n",
    "* MHD = Mace Head, County Galway, Ireland\n",
    "\n",
    "Units:\n",
    "* $CO_2$ - ppm\n",
    "* $CH_4$ - ppb\n",
    "\n",
    "Data stored in a text file. The top row states the number of header lines in the file. No title headers. The actual data is ogranized as following:\n",
    "\n",
    "|Station code | Year | Month | Measurement|\n",
    "| :------------- | :----------: | :----------|  :---------- |\n",
    "|CGO       |     1984   |  4  |     341.63  |"
   ]
  },
  {
   "cell_type": "markdown",
   "metadata": {},
   "source": [
    "#### Read data from a text file"
   ]
  },
  {
   "cell_type": "markdown",
   "metadata": {},
   "source": [
    "The simplest way to load data from a text file in `numpy` is to use `np.loadtxt()` function."
   ]
  },
  {
   "cell_type": "code",
   "execution_count": null,
   "metadata": {},
   "outputs": [],
   "source": [
    "# np.loadtxt() # hit Shift+Tab+Tab"
   ]
  },
  {
   "cell_type": "markdown",
   "metadata": {},
   "source": [
    "This function has a lot parameters that you can adjuct to fit  your data format. Here we use only:\n",
    "\n",
    "`np.loadtxt(fname, skiprows=..., usecols=..., unpack=...)`"
   ]
  },
  {
   "cell_type": "code",
   "execution_count": null,
   "metadata": {},
   "outputs": [],
   "source": [
    "data = np.loadtxt('../../data/co2_cgo_surface-flask_1_ccgg_month.txt', skiprows=68, usecols=(1, 2, 3))\n",
    "data"
   ]
  },
  {
   "cell_type": "markdown",
   "metadata": {},
   "source": [
    "If we want to have three separate arrays for year, month and value, we can set `unpack=True` and store the output from `np.loadtxt()` function in three separate arrays."
   ]
  },
  {
   "cell_type": "code",
   "execution_count": null,
   "metadata": {},
   "outputs": [],
   "source": [
    "year, month, value = np.loadtxt('../../data/co2_cgo_surface-flask_1_ccgg_month.txt', skiprows=68, usecols=(1, 2, 3), unpack=True)"
   ]
  },
  {
   "cell_type": "code",
   "execution_count": null,
   "metadata": {},
   "outputs": [],
   "source": [
    "year[0:8]"
   ]
  },
  {
   "cell_type": "code",
   "execution_count": null,
   "metadata": {},
   "outputs": [],
   "source": [
    "month[0:8]"
   ]
  },
  {
   "cell_type": "code",
   "execution_count": null,
   "metadata": {},
   "outputs": [],
   "source": [
    "value[0:8]"
   ]
  },
  {
   "cell_type": "markdown",
   "metadata": {},
   "source": [
    "#### Kwargs"
   ]
  },
  {
   "cell_type": "markdown",
   "metadata": {},
   "source": [
    "* remember from yesterday, you can store any number of keyword arguments in a dictionary, and later unpack it when calling a function"
   ]
  },
  {
   "cell_type": "code",
   "execution_count": null,
   "metadata": {},
   "outputs": [],
   "source": [
    "# Kwargs\n",
    "read_data_kwargs = dict(skiprows=68, usecols=(1, 2, 3), unpack=True)"
   ]
  },
  {
   "cell_type": "code",
   "execution_count": null,
   "metadata": {},
   "outputs": [],
   "source": [
    "# Read data\n",
    "# CO2 \n",
    "cgo_co2_yr, cgo_co2_mn, cgo_co2_val = np.loadtxt('../../data/co2_cgo_surface-flask_1_ccgg_month.txt', **read_data_kwargs)\n",
    "mhd_co2_yr, mhd_co2_mn, mhd_co2_val = np.loadtxt('../../data/co2_mhd_surface-flask_1_ccgg_month.txt', **read_data_kwargs)\n",
    "# CH4\n",
    "cgo_ch4_yr, cgo_ch4_mn, cgo_ch4_val = np.loadtxt('../../data/ch4_cgo_surface-flask_1_ccgg_month.txt', **read_data_kwargs)\n",
    "mhd_ch4_yr, mhd_ch4_mn, mhd_ch4_val = np.loadtxt('../../data/ch4_mhd_surface-flask_1_ccgg_month.txt', **read_data_kwargs)\n"
   ]
  },
  {
   "cell_type": "markdown",
   "metadata": {},
   "source": [
    "#### Datetime\n",
    "\n",
    "* `datetime` module helps to work with time arrays"
   ]
  },
  {
   "cell_type": "code",
   "execution_count": null,
   "metadata": {},
   "outputs": [],
   "source": [
    "from datetime import datetime"
   ]
  },
  {
   "cell_type": "code",
   "execution_count": null,
   "metadata": {},
   "outputs": [],
   "source": [
    "datetime.now()"
   ]
  },
  {
   "cell_type": "code",
   "execution_count": null,
   "metadata": {},
   "outputs": [],
   "source": [
    "a_date = datetime(2019, 5, 23)"
   ]
  },
  {
   "cell_type": "code",
   "execution_count": null,
   "metadata": {},
   "outputs": [],
   "source": [
    "a_date"
   ]
  },
  {
   "cell_type": "code",
   "execution_count": null,
   "metadata": {},
   "outputs": [],
   "source": [
    "python_course_dates = [datetime(2019, 5, i) for i in [22, 23, 24]]"
   ]
  },
  {
   "cell_type": "code",
   "execution_count": null,
   "metadata": {},
   "outputs": [],
   "source": [
    "python_course_dates"
   ]
  },
  {
   "cell_type": "markdown",
   "metadata": {},
   "source": [
    "Let's apply it to our arrays."
   ]
  },
  {
   "cell_type": "code",
   "execution_count": null,
   "metadata": {},
   "outputs": [],
   "source": [
    "# Using list comprehension\n",
    "cgo_co2_time = [datetime(int(i), int(j), 1) for i, j in zip(cgo_co2_yr, cgo_co2_mn)]"
   ]
  },
  {
   "cell_type": "code",
   "execution_count": null,
   "metadata": {},
   "outputs": [],
   "source": [
    "# Same as in previous cell but using a for loop\n",
    "cgo_co2_time = []\n",
    "for i, j in zip(cgo_co2_yr, cgo_co2_mn):\n",
    "    cgo_co2_time.append(datetime(int(i), int(j), 1))"
   ]
  },
  {
   "cell_type": "code",
   "execution_count": null,
   "metadata": {},
   "outputs": [],
   "source": [
    "mhd_co2_time = [datetime(int(i), int(j), 1) for i, j in zip(mhd_co2_yr, mhd_co2_mn)]\n",
    "\n",
    "\n",
    "\n",
    "cgo_ch4_time = [datetime(int(i), int(j), 1) for i, j in zip(cgo_ch4_yr, cgo_ch4_mn)]\n",
    "mhd_ch4_time = [datetime(int(i), int(j), 1) for i, j in zip(mhd_ch4_yr, mhd_ch4_mn)]\n"
   ]
  },
  {
   "cell_type": "markdown",
   "metadata": {},
   "source": [
    "**Exercise 4 (30 mins)**. Construct four subplots using the arrays created above. Add titles, x and y labels, legend. Play with optional arguments of `plot()` and try to use **kwargs**."
   ]
  },
  {
   "cell_type": "code",
   "execution_count": null,
   "metadata": {},
   "outputs": [],
   "source": [
    "# Your code here"
   ]
  },
  {
   "cell_type": "code",
   "execution_count": null,
   "metadata": {},
   "outputs": [],
   "source": [
    "# Solution\n",
    "# plt.rcParams['mathtext.default'] = 'regular'\n",
    "\n",
    "cgo_kwargs = dict(label='Cape Grim', color='C3', linestyle='-')\n",
    "mhd_kwargs = dict(label='Mace Head', color='C7', linestyle='-')\n",
    "\n",
    "fig, axes = plt.subplots(nrows=2, figsize=(9,9), sharex=True)\n",
    "\n",
    "axes[0].plot(cgo_co2_time, cgo_co2_val, **cgo_kwargs)\n",
    "axes[1].plot(cgo_ch4_time, cgo_ch4_val, **cgo_kwargs)\n",
    "\n",
    "axes[0].plot(mhd_co2_time, mhd_co2_val, **mhd_kwargs)\n",
    "axes[1].plot(mhd_ch4_time, mhd_ch4_val, **mhd_kwargs)\n",
    "\n",
    "axes[0].set_title('$CO_{2}$')\n",
    "axes[1].set_title('$CH_{4}$')\n",
    "\n",
    "axes[0].set_ylabel('ppm')\n",
    "axes[1].set_ylabel('ppb')\n",
    "\n",
    "axes[0].legend();\n",
    "#fig.savefig('../../figures/subplots_example.png',bbox_inches='tight')"
   ]
  },
  {
   "cell_type": "markdown",
   "metadata": {},
   "source": [
    "### Demonstration of bar() on NAO index data"
   ]
  },
  {
   "cell_type": "markdown",
   "metadata": {},
   "source": [
    "Bar plots are created in much the same way as line plots, with two arrays of equal size.\n",
    "\n",
    "Here we use `bar()` to plot the data on North Atlantic oscillation from the NWS Climate Prediction Center. \n",
    "\n",
    "Data source: http://www.cpc.ncep.noaa.gov/products/precip/CWlink/pna/nao.shtml\n",
    "\n",
    "Variable: monthly mean NAO index since January 1950 til March 2019.\n",
    "\n",
    "Data stored in text file in the following way:\n",
    "\n",
    "Year | Month | Value\n",
    "\n",
    "1950 1 0.92000E+00\n",
    "\n",
    "# Read NAO data\n"
   ]
  },
  {
   "cell_type": "code",
   "execution_count": null,
   "metadata": {},
   "outputs": [],
   "source": [
    "nao_yr, nao_mn, nao_val = np.loadtxt('../../data/nao_monthly.txt', unpack=True)"
   ]
  },
  {
   "cell_type": "code",
   "execution_count": null,
   "metadata": {},
   "outputs": [],
   "source": [
    "# Quick look at the data\n",
    "fig, ax = plt.subplots(figsize=(25, 5))\n",
    "ax.plot(nao_val);"
   ]
  },
  {
   "cell_type": "markdown",
   "metadata": {},
   "source": [
    "Let's focus on the last 5 years and slice `nao_yr`, `nao_mn`, `nao_val` arrays accordingly."
   ]
  },
  {
   "cell_type": "code",
   "execution_count": null,
   "metadata": {},
   "outputs": [],
   "source": [
    "# Slicing\n",
    "nao_yr_sub = nao_yr[-12*5:]\n",
    "nao_mn_sub = nao_mn[-12*5:]\n",
    "nao_val_sub = nao_val[-12*5:]"
   ]
  },
  {
   "cell_type": "code",
   "execution_count": null,
   "metadata": {},
   "outputs": [],
   "source": [
    "# Create an array of month numbers\n",
    "nao_time = np.arange(len(nao_val_sub))\n",
    "nao_time"
   ]
  },
  {
   "cell_type": "code",
   "execution_count": null,
   "metadata": {},
   "outputs": [],
   "source": [
    "# Plot bar\n",
    "fig, ax = plt.subplots(figsize=(15,4))\n",
    "ax.bar(nao_time, nao_val_sub)\n",
    "ax.set_title('NAO index')\n",
    "ax.grid(True)"
   ]
  },
  {
   "cell_type": "markdown",
   "metadata": {},
   "source": [
    "### Scatter plots"
   ]
  },
  {
   "cell_type": "markdown",
   "metadata": {},
   "source": [
    "* display data as a collection of points, each having the value of one variable determining the position on the horizontal axis and the value of the other variable determining the position on the vertical axis\n",
    "* colorcode the data points to display an additional variable\n",
    "* good for non-gridded data"
   ]
  },
  {
   "cell_type": "markdown",
   "metadata": {},
   "source": [
    "`scatter(x, y, s=None, c=None, marker=None, cmap=None, norm=None, vmin=None, vmax=None, alpha=None, edgecolors=None, **kwargs)`"
   ]
  },
  {
   "cell_type": "code",
   "execution_count": null,
   "metadata": {},
   "outputs": [],
   "source": [
    "# Generate some data (circles of random diameter)\n",
    "N = 50\n",
    "x = np.random.rand(N)\n",
    "y = np.random.rand(N)\n",
    "area = np.pi*(15*np.random.rand(N))**2  # 0 to 15 point radii\n",
    "colors = np.random.rand(N)"
   ]
  },
  {
   "cell_type": "code",
   "execution_count": null,
   "metadata": {},
   "outputs": [],
   "source": [
    "# Plot scatter\n",
    "plt.scatter(x, y, s=area, c=colors);"
   ]
  },
  {
   "cell_type": "markdown",
   "metadata": {},
   "source": [
    "### Default sequantial and diverging colormaps"
   ]
  },
  {
   "cell_type": "markdown",
   "metadata": {},
   "source": [
    "More info here, [colormaps reference](https://matplotlib.org/examples/color/colormaps_reference.html)."
   ]
  },
  {
   "cell_type": "markdown",
   "metadata": {},
   "source": [
    "<img src=\"../../figures/colormaps_reference_00.png\" style=\"height:50%; width:50%;\">\n",
    "<img src=\"../../figures/colormaps_reference_03.png\" style=\"height:50%; width:50%;\">"
   ]
  },
  {
   "cell_type": "markdown",
   "metadata": {},
   "source": [
    "### Countour and countourf plots"
   ]
  },
  {
   "cell_type": "markdown",
   "metadata": {},
   "source": [
    "* `contour()` and `contourf()` draw contour lines and filled contours, respectively\n",
    "* good for 2D gridded data\n",
    "\n",
    "** Note: `contourf()` differs from the Matlab version in that it does not draw the polygon edges. To draw edges, add line contours with calls to `contour()`."
   ]
  },
  {
   "cell_type": "markdown",
   "metadata": {},
   "source": [
    "`contour(Z)` - make a contour plot of an array Z. The level values are chosen automatically.\n",
    "\n",
    "`contour(X, Y, Z)` - X, Y specify the (x, y) coordinates of the surface\n",
    "\n",
    "`contour(X, Y, Z, N)` - contour up to N automatically-chosen levels"
   ]
  },
  {
   "cell_type": "code",
   "execution_count": null,
   "metadata": {},
   "outputs": [],
   "source": [
    "# Generate some data\n",
    "def f(x,y):\n",
    "    return (1-x/2+x**5+y**3)*np.exp(-x**2-y**2)\n",
    "# Create a (x,y) grid\n",
    "n = 256\n",
    "x = np.linspace(-3,3,n)\n",
    "y = np.linspace(-3,3,n)\n",
    "X,Y = np.meshgrid(x,y) # repeat x y times and y x times"
   ]
  },
  {
   "cell_type": "code",
   "execution_count": null,
   "metadata": {},
   "outputs": [],
   "source": [
    "# Plot contour and contourf\n",
    "fig, (ax1, ax2, ax3) = plt.subplots(1, 3, figsize=(15, 4))\n",
    "ax1.contour(X, Y, f(X,Y), 10);\n",
    "# ax2.contourf(X, Y, f(X,Y), 10);\n",
    "# ax3.contour(X, Y, f(X,Y), 10, colors='k');\n",
    "# ax3.contourf(X, Y, f(X,Y), 10);"
   ]
  },
  {
   "cell_type": "markdown",
   "metadata": {},
   "source": [
    "#### How to add a colorbar?"
   ]
  },
  {
   "cell_type": "markdown",
   "metadata": {},
   "source": [
    "The **colorbar** has to have its own **Axes**!\n",
    "\n",
    "This is created by adding a colorbar to the figure, telling matplotlib which plotted values to use for the colorbar content with `fig.colorbar(mappable, ax=ax_no)`"
   ]
  },
  {
   "cell_type": "code",
   "execution_count": null,
   "metadata": {},
   "outputs": [],
   "source": [
    "# Plot contour and contourf with colorbars\n",
    "# By default matplotlib contours negative values with a dashed line. This behavious can be changed with rcparams:\n",
    "#plt.rcParams['contour.negative_linestyle']= 'solid' # Reset to default with `= 'dashed'`\n",
    "\n",
    "fig, (ax1, ax2, ax3) = plt.subplots(1, 3, figsize=(15, 4))\n",
    "ax1.contour(X, Y, f(X,Y), 10)\n",
    "mappable2 = ax2.contourf(X, Y, f(X,Y), 10)\n",
    "mappable3 = ax3.contour(X, Y, f(X,Y), 10, colors='k')\n",
    "mappable3 = ax3.contourf(X, Y, f(X,Y), 10)\n",
    "fig.colorbar(mappable2, ax=ax2)\n",
    "fig.colorbar(mappable3, ax=ax3);\n"
   ]
  },
  {
   "cell_type": "markdown",
   "metadata": {},
   "source": [
    "#### How to save a figure?"
   ]
  },
  {
   "cell_type": "markdown",
   "metadata": {},
   "source": [
    "Use `fig.savefig(fname, dpi=, facecolor=, bbox_inches='tight', **kwargs)`."
   ]
  },
  {
   "cell_type": "code",
   "execution_count": null,
   "metadata": {},
   "outputs": [],
   "source": [
    "# Save contour and contourf with colorbars\n",
    "fig, (ax1, ax2, ax3) = plt.subplots(1, 3, figsize=(15, 4))\n",
    "ax1.contour(X, Y, f(X,Y), 10)\n",
    "mappable2 = ax2.contourf(X, Y, f(X,Y), 10)\n",
    "mappable3 = ax3.contour(X, Y, f(X,Y), 10, colors='k')\n",
    "mappable3 = ax3.contourf(X, Y, f(X,Y), 10)\n",
    "fig.colorbar(mappable2, ax=ax2)\n",
    "fig.colorbar(mappable3, ax=ax3);\n",
    "\n",
    "#fig.savefig('../../figures/MY_AWESOME_FIGURE.png', dpi=300, facecolor='moccasin', bbox_inches='tight')"
   ]
  },
  {
   "cell_type": "markdown",
   "metadata": {},
   "source": [
    "## Combined figures \n",
    "In this final example we will produce a compact, combined figure useful for data comparison and for journals with tight figure limits"
   ]
  },
  {
   "cell_type": "code",
   "execution_count": null,
   "metadata": {},
   "outputs": [],
   "source": [
    "# Making a grid of temperature data with meshgrid\n",
    "\n",
    "delta1 = 0.025\n",
    "x1 = np.sin(np.arange(np.pi / 4, 3 * np.pi / 4, delta1))\n",
    "y1 = 10**np.arange(0, 1, delta1/10)-1\n",
    "X1, Y1 = np.meshgrid(x1, y1)\n",
    "temp = X1 * Y1\n",
    "distance = np.linspace(0, 90, len(x1))\n",
    "depth = np.linspace(100,1,len(y1))"
   ]
  },
  {
   "cell_type": "code",
   "execution_count": null,
   "metadata": {},
   "outputs": [],
   "source": [
    "# Make a 2X2 set of Axes with shared x axis and y axis\n",
    "fig, axs = plt.subplots(2,2,figsize=(8, 8),sharex=\"col\",sharey=\"row\",\n",
    "    gridspec_kw={\"height_ratios\": [1, 4], \"width_ratios\": [4, 1]})\n",
    "# gridspec_kw makes Axes with different height and width ratios\n",
    "\n",
    "# Remove all whitepace between Axes\n",
    "fig.subplots_adjust(hspace=0, wspace=0)\n",
    "\n",
    "# Makes axs into a flat array, easier to call\n",
    "axs = axs.ravel()\n",
    "\n",
    "\n",
    "# Plotting the surface temperature and mean temp depth profile alongside the contour plot of temp\n",
    "axs[0].plot(distance, temp[-1, :], label=\"surface temp\")\n",
    "axs[2].contourf(distance, depth, temp,10)\n",
    "axs[3].plot(np.nanmean(temp, 1), depth)\n",
    "\n",
    "# Setting limits to make the plot tight\n",
    "axs[2].set(xlim=[distance[0], distance[-1]], ylim=[depth[0], depth[-1]])\n",
    "axs[3].set(xlim=[np.min(temp), np.max(temp)]);"
   ]
  },
  {
   "cell_type": "code",
   "execution_count": null,
   "metadata": {},
   "outputs": [],
   "source": [
    "# Increasing the font size to improve readability\n",
    "plt.rcParams.update({\"font.size\": 20})\n",
    "\n",
    "fig, axs = plt.subplots(2, 2, figsize=(8, 8), sharex=\"col\", sharey=\"row\",\n",
    "                        gridspec_kw={\"height_ratios\": [1, 4], \"width_ratios\": [4, 1]})\n",
    "fig.subplots_adjust(hspace=0, wspace=0)\n",
    "axs = axs.ravel()\n",
    "\n",
    "axs[0].plot(distance, temp[-1, :])\n",
    "p1 = axs[2].contourf(distance, depth, temp,10)\n",
    "axs[3].plot(np.nanmean(temp, 1), depth)\n",
    "\n",
    "# Add a colorbar to the right of the bottom right plot\n",
    "fig.colorbar(ax=axs[3], mappable=p1, label=r\"Temperature $\\mathrm{^{\\circ}C}$\")\n",
    "\n",
    "# Remove the lines and ticks from the unused top right axis\n",
    "axs[1].axis(\"off\")\n",
    "\n",
    "# Addding labels and limits\n",
    "axs[0].set(ylabel='Surface\\n temp')\n",
    "axs[2].set(\n",
    "    xlim=[distance[0], distance[-1]],\n",
    "    ylim=[depth[0], depth[-1]],\n",
    "    ylabel=\"Depth (m)\",\n",
    "    xlabel=\"Distance (km)\")\n",
    "axs[3].set(xlim=[np.min(temp), np.max(temp)], xlabel=\"mean temp\");"
   ]
  },
  {
   "cell_type": "markdown",
   "metadata": {},
   "source": [
    "## Final matplotlib exercise (40 mins)"
   ]
  },
  {
   "cell_type": "markdown",
   "metadata": {},
   "source": [
    "Reproduce the figure below by using `contourf()` for modelled sea surface temperature and `scatter()` for randomly generated 'observed' sea surface temperature. The 'observational dataset' is given below. The code for loading and reshaping modelling data is written for you (using `np.genfromtxt()`)"
   ]
  },
  {
   "cell_type": "markdown",
   "metadata": {},
   "source": [
    "![](../figures/FINAL_MATPLOTLIB_FIGURE.png)"
   ]
  },
  {
   "cell_type": "markdown",
   "metadata": {},
   "source": [
    "Data source: https://podaac-tools.jpl.nasa.gov/las/UI.vm\n",
    "\n",
    "Dataset: AMSR-E Level 3 Sea Surface Temperature for Climate Model Comparison.\n",
    "\n",
    "Variable: Sea Surface Temperature (K).\n",
    "\n",
    "Time : 16-JUN-2002 00:00.\n",
    "\n",
    "Spacial resolution: 1$^{\\circ}$x1$^{\\circ}$, 361 by 180 points (logitude by latitude).\n",
    "\n",
    "Total Number of Records: 64980."
   ]
  },
  {
   "cell_type": "code",
   "execution_count": null,
   "metadata": {},
   "outputs": [],
   "source": [
    "# Read modelling sst data\n",
    "lon_raw, lat_raw, sst_raw = np.genfromtxt('../../data/AMSR-E_Level_3_Sea_Surface_Temperature_for_Climate_Model_Comparison.csv', delimiter=',', \n",
    "                              skip_header=10, missing_values='-1.E+34', usemask=True, usecols=(2, 3, 4), unpack=True)\n",
    "# Reshape into a grid of sst with corresponding lat and lon coordinates\n",
    "lon = np.unique(lon_raw)\n",
    "lat = np.unique(lat_raw)\n",
    "sst = np.reshape(sst_raw,(len(lat),len(lon)));"
   ]
  },
  {
   "cell_type": "code",
   "execution_count": null,
   "metadata": {},
   "outputs": [],
   "source": [
    "# Average the temperature zonally here\n",
    "temp_merid_mean = np.nanmean(sst,1);"
   ]
  },
  {
   "cell_type": "code",
   "execution_count": null,
   "metadata": {},
   "outputs": [],
   "source": [
    "# Solution\n",
    "fig, ax = plt.subplots(1,2,figsize=(12,8),gridspec_kw={ \"width_ratios\": [8, 1]},sharey = True)\n",
    "fig.subplots_adjust(wspace=0.05)\n",
    "\n",
    "p = ax[0].contourf(lon, lat, sst, cmap='inferno')\n",
    "ax[0].set_title('Sea surface temperature 16 June 2002')\n",
    "ax[0].set(xlabel='lon',ylabel='lat',ylim = [-80,80])\n",
    "ax[1].set(xlabel='Mean temp')\n",
    "\n",
    "\n",
    "ax[1].plot(temp_merid_mean,lat)\n",
    "\n",
    "\n",
    "fig.subplots_adjust(bottom=0.2)\n",
    "cbar_ax = fig.add_axes([0.1, 0.08, 0.8, 0.03])\n",
    "fig.colorbar(p, cax=cbar_ax, label=r\"Temperature (K)\", orientation='horizontal');\n",
    "\n",
    "#fig.savefig('../../figures/matplotlib_map.png', dpi=300, bbox_inches='tight')"
   ]
  },
  {
   "cell_type": "markdown",
   "metadata": {},
   "source": [
    "## References: \n",
    "* https://matplotlib.org/faq/usage_faq.html\n",
    "* http://www.labri.fr/perso/nrougier/teaching/matplotlib/matplotlib.html"
   ]
  }
 ],
 "metadata": {
  "anaconda-cloud": {},
  "kernelspec": {
   "display_name": "Python 3",
   "language": "python",
   "name": "python3"
  },
  "language_info": {
   "codemirror_mode": {
    "name": "ipython",
    "version": 3
   },
   "file_extension": ".py",
   "mimetype": "text/x-python",
   "name": "python",
   "nbconvert_exporter": "python",
   "pygments_lexer": "ipython3",
   "version": "3.7.3"
  },
  "nbpresent": {
   "slides": {
    "0def8933-36ce-4083-b26a-0661a1a2a116": {
     "id": "0def8933-36ce-4083-b26a-0661a1a2a116",
     "prev": "53ab1610-6f1a-4fc8-b24b-e40d920d7ceb",
     "regions": {
      "68eabbe8-3887-4c46-b94d-c0148183e603": {
       "attrs": {
        "height": 0.8,
        "width": 0.8,
        "x": 0.1,
        "y": 0.1
       },
       "content": {
        "cell": "4c52f1ce-98fc-4a38-8569-1e79f67bf0ee",
        "part": "whole"
       },
       "id": "68eabbe8-3887-4c46-b94d-c0148183e603"
      }
     }
    },
    "0e1bdc0f-c5f8-4d00-9657-4f3a78f0030c": {
     "id": "0e1bdc0f-c5f8-4d00-9657-4f3a78f0030c",
     "prev": "3bc5be16-2d36-4005-a40b-c023d27300d8",
     "regions": {
      "ce3cf658-98cf-4aa9-8875-3566578ccb6f": {
       "attrs": {
        "height": 0.8,
        "width": 0.8,
        "x": 0.1,
        "y": 0.1
       },
       "content": {
        "cell": "6100aaac-1c13-4cbb-83ee-5d1545171b7d",
        "part": "whole"
       },
       "id": "ce3cf658-98cf-4aa9-8875-3566578ccb6f"
      }
     }
    },
    "28fc96fd-5798-41c0-9388-8651637bd860": {
     "id": "28fc96fd-5798-41c0-9388-8651637bd860",
     "prev": "ee5b6ba5-0721-40fe-b5c7-598aed364a84",
     "regions": {
      "5bb62edc-0090-463a-8b20-26b2f7f4d966": {
       "attrs": {
        "height": 0.8,
        "width": 0.8,
        "x": 0.1,
        "y": 0.1
       },
       "content": {
        "cell": "823bdc5d-e1e5-4971-9b3a-f9e7d3cfad06",
        "part": "whole"
       },
       "id": "5bb62edc-0090-463a-8b20-26b2f7f4d966"
      }
     }
    },
    "2f2b80c2-7e7c-4cd6-9fca-054736469df5": {
     "id": "2f2b80c2-7e7c-4cd6-9fca-054736469df5",
     "prev": "41f4272e-776a-4897-8902-f52bd11f2403",
     "regions": {
      "b64992d5-9ed3-4d72-8048-be22ca112400": {
       "attrs": {
        "height": 0.8,
        "width": 0.8,
        "x": 0.1,
        "y": 0.1
       },
       "content": {
        "cell": "a4be4e23-a94d-4b7d-881f-de656124dcfd",
        "part": "whole"
       },
       "id": "b64992d5-9ed3-4d72-8048-be22ca112400"
      }
     }
    },
    "3bc5be16-2d36-4005-a40b-c023d27300d8": {
     "id": "3bc5be16-2d36-4005-a40b-c023d27300d8",
     "prev": "0def8933-36ce-4083-b26a-0661a1a2a116",
     "regions": {
      "80781489-c8b0-49cf-8da0-5c40f03eebf3": {
       "attrs": {
        "height": 0.8,
        "width": 0.8,
        "x": 0.1,
        "y": 0.1
       },
       "content": {
        "cell": "443f46bb-4d88-4218-8b57-0ce1deb8dac0",
        "part": "whole"
       },
       "id": "80781489-c8b0-49cf-8da0-5c40f03eebf3"
      }
     }
    },
    "41f4272e-776a-4897-8902-f52bd11f2403": {
     "id": "41f4272e-776a-4897-8902-f52bd11f2403",
     "prev": "e1c59565-6cdd-4ae4-97ff-29bf8096a690",
     "regions": {
      "d41986ab-fc7c-4a15-ba0e-d87c64905574": {
       "attrs": {
        "height": 0.8,
        "width": 0.8,
        "x": 0.1,
        "y": 0.1
       },
       "content": {
        "cell": "6cb85cbd-6350-46c2-a60f-da7ba4272b78",
        "part": "whole"
       },
       "id": "d41986ab-fc7c-4a15-ba0e-d87c64905574"
      }
     }
    },
    "53ab1610-6f1a-4fc8-b24b-e40d920d7ceb": {
     "id": "53ab1610-6f1a-4fc8-b24b-e40d920d7ceb",
     "prev": "7185aeb2-0ef0-4273-8e9f-bfb1bf65d603",
     "regions": {
      "346969fd-7bab-463e-b642-181a205b30b3": {
       "attrs": {
        "height": 0.8,
        "width": 0.8,
        "x": 0.1,
        "y": 0.1
       },
       "content": {
        "cell": "14bf700e-8c92-4ade-bb3a-658446ba831e",
        "part": "whole"
       },
       "id": "346969fd-7bab-463e-b642-181a205b30b3"
      }
     }
    },
    "7185aeb2-0ef0-4273-8e9f-bfb1bf65d603": {
     "id": "7185aeb2-0ef0-4273-8e9f-bfb1bf65d603",
     "prev": "75aad04f-fd31-4562-8a88-948385acf4d6",
     "regions": {
      "e32f853b-eaaf-4436-9d53-04c8e5b84a39": {
       "attrs": {
        "height": 0.8,
        "width": 0.8,
        "x": 0.1,
        "y": 0.1
       },
       "content": {
        "cell": "8ab1965a-5c3c-4d8c-84bb-0dc078abfdfd",
        "part": "whole"
       },
       "id": "e32f853b-eaaf-4436-9d53-04c8e5b84a39"
      }
     }
    },
    "75aad04f-fd31-4562-8a88-948385acf4d6": {
     "id": "75aad04f-fd31-4562-8a88-948385acf4d6",
     "prev": "e12a200a-d4bd-4598-acfc-6bcfac7f6144",
     "regions": {
      "e728912b-5975-4726-868c-19692a1bdaa3": {
       "attrs": {
        "height": 0.8,
        "width": 0.8,
        "x": 0.1,
        "y": 0.1
       },
       "content": {
        "cell": "c973a0ad-f5b1-430c-9dca-81a7bddf7b34",
        "part": "whole"
       },
       "id": "e728912b-5975-4726-868c-19692a1bdaa3"
      }
     }
    },
    "9d5a78f0-8f8c-48a6-80f1-b0e5de5d1f58": {
     "id": "9d5a78f0-8f8c-48a6-80f1-b0e5de5d1f58",
     "prev": null,
     "regions": {
      "fbb3ef4a-6e8d-4f4e-89ef-0d0d1d1d4dce": {
       "attrs": {
        "height": 0.8,
        "width": 0.8,
        "x": 0.1,
        "y": 0.1
       },
       "content": {
        "cell": "80243624-0a24-4f0c-a5b2-aa3598627698",
        "part": "whole"
       },
       "id": "fbb3ef4a-6e8d-4f4e-89ef-0d0d1d1d4dce"
      }
     }
    },
    "d1d8c39f-0da5-4c80-8841-2fa1020900a2": {
     "id": "d1d8c39f-0da5-4c80-8841-2fa1020900a2",
     "prev": "0e1bdc0f-c5f8-4d00-9657-4f3a78f0030c",
     "regions": {
      "21e351f5-dc13-4b5f-a8a8-1af11190f04e": {
       "attrs": {
        "height": 0.8,
        "width": 0.8,
        "x": 0.1,
        "y": 0.1
       },
       "content": {
        "cell": "f1cd1110-2114-4693-835c-88a7c8e02cf9",
        "part": "whole"
       },
       "id": "21e351f5-dc13-4b5f-a8a8-1af11190f04e"
      }
     }
    },
    "e12a200a-d4bd-4598-acfc-6bcfac7f6144": {
     "id": "e12a200a-d4bd-4598-acfc-6bcfac7f6144",
     "prev": "9d5a78f0-8f8c-48a6-80f1-b0e5de5d1f58",
     "regions": {
      "92b58e7b-bf92-46bf-8020-34346d7c99c2": {
       "attrs": {
        "height": 0.8,
        "width": 0.8,
        "x": 0.1,
        "y": 0.1
       },
       "content": {
        "cell": "e4c90f27-1165-4bd4-bcea-8ede519f39ee",
        "part": "whole"
       },
       "id": "92b58e7b-bf92-46bf-8020-34346d7c99c2"
      }
     }
    },
    "e1c59565-6cdd-4ae4-97ff-29bf8096a690": {
     "id": "e1c59565-6cdd-4ae4-97ff-29bf8096a690",
     "prev": "28fc96fd-5798-41c0-9388-8651637bd860",
     "regions": {
      "198fd109-8ab1-41cc-9561-ee457745dfb8": {
       "attrs": {
        "height": 0.8,
        "width": 0.8,
        "x": 0.1,
        "y": 0.1
       },
       "content": {
        "cell": "adcfc172-a4b1-4d58-bf93-e75c8743c6d0",
        "part": "whole"
       },
       "id": "198fd109-8ab1-41cc-9561-ee457745dfb8"
      }
     }
    },
    "ee5b6ba5-0721-40fe-b5c7-598aed364a84": {
     "id": "ee5b6ba5-0721-40fe-b5c7-598aed364a84",
     "prev": "d1d8c39f-0da5-4c80-8841-2fa1020900a2",
     "regions": {
      "15f43350-433e-458a-b0eb-f469b372c2c2": {
       "attrs": {
        "height": 0.8,
        "width": 0.8,
        "x": 0.1,
        "y": 0.1
       },
       "content": {
        "cell": "e007a07f-0f59-4564-9504-10914ba806b0",
        "part": "whole"
       },
       "id": "15f43350-433e-458a-b0eb-f469b372c2c2"
      }
     }
    }
   },
   "themes": {}
  }
 },
 "nbformat": 4,
 "nbformat_minor": 1
}
