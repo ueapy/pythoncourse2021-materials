{
 "cells": [
  {
   "cell_type": "code",
   "execution_count": null,
   "metadata": {},
   "outputs": [],
   "source": [
    "# We import the relevant modules\n",
    "import xarray as xr\n",
    "import numpy as np\n",
    "import matplotlib.pyplot as plt\n",
    "\n",
    "#Open the netcdf file\n",
    "GETM = xr.open_dataset('../../data/cefas_GETM_nwes.nc4')"
   ]
  },
  {
   "cell_type": "markdown",
   "metadata": {},
   "source": [
    "---\n",
    "\n",
    "# Exercise 1"
   ]
  },
  {
   "cell_type": "markdown",
   "metadata": {},
   "source": [
    "From our GETM dataset (loaded above), can you find the following information for the ocean conditions off Great Yarmouth?  \n",
    "The coordinates here are 52.6 deg N, 1.75 deg E.\n",
    "\n",
    "a) the bathymetry (ocean depth)  \n",
    "\n",
    "b) the temperature profile (i.e. all levels) at the same location, on 1st February 1996? "
   ]
  },
  {
   "cell_type": "code",
   "execution_count": null,
   "metadata": {},
   "outputs": [],
   "source": [
    "# Your code here:\n",
    "# Hint: can you match the latitude and longitude exactly, or do you need to find the nearest value? \n",
    "#a)\n",
    "GETM['bathymetry'].sel(lonc=1.75, latc=52.6, method='nearest')\n"
   ]
  },
  {
   "cell_type": "code",
   "execution_count": null,
   "metadata": {
    "scrolled": true
   },
   "outputs": [],
   "source": [
    "# b)\n",
    "GETM['temp'].sel(lonc=1.75, latc=52.6, time='1996-02-01', method='nearest')"
   ]
  },
  {
   "cell_type": "markdown",
   "metadata": {},
   "source": [
    "Note that since time understands the various formats of datetime strings, we could also use: "
   ]
  },
  {
   "cell_type": "code",
   "execution_count": null,
   "metadata": {},
   "outputs": [],
   "source": [
    "GETM['temp'].sel(lonc=1.75, latc=52.6, time='1st February 1996', method='nearest')"
   ]
  },
  {
   "cell_type": "markdown",
   "metadata": {},
   "source": [
    "---\n",
    "\n",
    "# Exercise 2\n"
   ]
  },
  {
   "cell_type": "markdown",
   "metadata": {},
   "source": [
    "From our GETM dataset again, we want to investigate the variability of temperature with depth across the seabed.  \n",
    "\n",
    "a) Extract bathymetry from the dataset. \n",
    "\n",
    "b) Extract temperature at the seabed (level index = 0), and average over time. \n",
    "\n",
    "c) Produce a scatter plot of depth (bathymetry) vs. seabed temperature. "
   ]
  },
  {
   "cell_type": "code",
   "execution_count": null,
   "metadata": {},
   "outputs": [],
   "source": [
    "# Your code here: \n",
    "# a)\n",
    "bathy = GETM['bathymetry']\n",
    "bathy.plot()"
   ]
  },
  {
   "cell_type": "code",
   "execution_count": null,
   "metadata": {},
   "outputs": [],
   "source": [
    "# b)\n",
    "seabed_temp_mean = GETM['temp'].isel(level=0).mean('time')\n",
    "seabed_temp_mean.plot()"
   ]
  },
  {
   "cell_type": "code",
   "execution_count": null,
   "metadata": {},
   "outputs": [],
   "source": [
    "# c)\n",
    "fig = plt.figure(figsize=(6,6))\n",
    "ax = fig.add_subplot(111)\n",
    "ax.scatter(bathy,seabed_temp_mean,marker='.',s=1.0)\n",
    "\n",
    "# add labels: \n",
    "ax.set_xlabel('bathymetry [m]')\n",
    "ax.set_ylabel('seabed temperature [deg. C]')\n",
    "\n",
    "# make the figure easier to read?\n",
    "ax.grid('on')\n"
   ]
  },
  {
   "cell_type": "markdown",
   "metadata": {},
   "source": [
    "---\n",
    "\n",
    "# Bonus Exercise\n",
    "\n",
    "For those who have finished the exercises above, and want more... "
   ]
  },
  {
   "cell_type": "markdown",
   "metadata": {},
   "source": [
    "Earlier we mentioned that you can also access remote data sets online. e.g."
   ]
  },
  {
   "cell_type": "code",
   "execution_count": null,
   "metadata": {},
   "outputs": [],
   "source": [
    "remote_data = xr.open_dataset(\n",
    "      'https://oceandata.sci.gsfc.nasa.gov:443/opendap/MODISA/L3SMI/2020/176/A2020176.L3m_DAY_CHL_chlor_a_9km.nc')"
   ]
  },
  {
   "cell_type": "markdown",
   "metadata": {},
   "source": [
    "From this remote dataset: \n",
    "    \n",
    "a) Extract the chlorophyll concentration, covering just the North Sea (or another region of your choice).\n",
    "   \n",
    "b) Plot a map to show your result - check you've made a subset of the right region!"
   ]
  },
  {
   "cell_type": "code",
   "execution_count": null,
   "metadata": {},
   "outputs": [],
   "source": [
    "# a) \n",
    "# Hint: You will need to extract the relevant variable over a range of latitude and londitude values.\n",
    "#  * Find the relevant variable name to extract from the data set. \n",
    "#  * Extract coordinate values if needed?\n",
    "#  * Subset over your chose range of latitude and longitude. \n",
    "\n",
    "# check variable names (and note coordinate names)\n",
    "print(remote_data.data_vars)\n",
    "\n",
    "# extract coordinate values, to use boolean indexing\n",
    "lats = remote_data.coords['lat']\n",
    "lons = remote_data.coords['lon']\n",
    "\n",
    "# use slice to pick out the range of lon and lat needed. \n",
    "# NB. latitude needs to be ordered correctly for the array - not necessarily ascending\n",
    "chl_northsea = remote_data['chlor_a'].sel(lon=slice(-4,10), lat=slice(60,50))\n",
    "chl_northsea"
   ]
  },
  {
   "cell_type": "code",
   "execution_count": null,
   "metadata": {},
   "outputs": [],
   "source": [
    "# b)  \n",
    "# Note: data is only downloaded when you make the plot\n",
    "\n",
    "# just a simple plot is needed to check the data extent here:\n",
    "chl_northsea.plot()"
   ]
  },
  {
   "cell_type": "markdown",
   "metadata": {},
   "source": [
    "NB. If you want to try something \"prettier\", you can always refer back to the methods used in matplotlib and cartopy (notebooks 15 and 17).\n"
   ]
  },
  {
   "cell_type": "markdown",
   "metadata": {},
   "source": [
    "### References\n",
    "\n",
    "* http://xarray.pydata.org/en/stable/"
   ]
  }
 ],
 "metadata": {
  "kernelspec": {
   "display_name": "Python 3",
   "language": "python",
   "name": "python3"
  },
  "language_info": {
   "codemirror_mode": {
    "name": "ipython",
    "version": 3
   },
   "file_extension": ".py",
   "mimetype": "text/x-python",
   "name": "python",
   "nbconvert_exporter": "python",
   "pygments_lexer": "ipython3",
   "version": "3.8.10"
  }
 },
 "nbformat": 4,
 "nbformat_minor": 2
}
