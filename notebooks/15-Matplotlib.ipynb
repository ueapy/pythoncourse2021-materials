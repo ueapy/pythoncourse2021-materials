{
 "cells": [
  {
   "cell_type": "markdown",
   "metadata": {
    "nbpresent": {
     "id": "80243624-0a24-4f0c-a5b2-aa3598627698"
    }
   },
   "source": [
    "# Matplotlib - Intro"
   ]
  },
  {
   "cell_type": "markdown",
   "metadata": {},
   "source": [
    "* **matplotlib** is a Python plotting library for producing publication quality figures\n",
    "    * allows for interactive, cross-platform control of plots\n",
    "    * makes it easy to produce static raster or vector graphics\n",
    "        * gives the developer complete control over the appearance of their plots, while still being usable through a powerful defaults system\n",
    "* standard scientific plotting library\n",
    "* online documentnation is on [matplotlib.org](https://matplotlib.org/index.html), with lots of examples in the [gallery](https://matplotlib.org/gallery.html)\n",
    "\n",
    "* behaves similarly to Matlab"
   ]
  },
  {
   "cell_type": "code",
   "execution_count": null,
   "metadata": {},
   "outputs": [],
   "source": [
    "import matplotlib.pyplot as plt\n",
    "import numpy as np"
   ]
  },
  {
   "cell_type": "markdown",
   "metadata": {},
   "source": [
    "To be efficient with **matplotlib**, you first need to understand its terminology."
   ]
  },
  {
   "cell_type": "markdown",
   "metadata": {},
   "source": [
    "## Parts of a Figure"
   ]
  },
  {
   "cell_type": "markdown",
   "metadata": {},
   "source": [
    "<img src=\"../figures/matplotlib_figure_parts.png\" style=\"height:90%; width:90%;\">"
   ]
  },
  {
   "cell_type": "markdown",
   "metadata": {},
   "source": [
    "### Figure, Axes, Axis"
   ]
  },
  {
   "cell_type": "markdown",
   "metadata": {},
   "source": [
    "* **Figure** is the whole image, the top-level 'container' that holds all objects of an image.\n",
    "* **Axes** is the region of a **Figure** that displays your data. Most plotting occurs here! Very similar to a subplot\n",
    "* **Axes** contains **Axis** objects (x axis,y axis) which control the data limits.\n",
    "* **Figure** can have any number of **Axes**, but to be useful should have at least one."
   ]
  },
  {
   "cell_type": "code",
   "execution_count": null,
   "metadata": {},
   "outputs": [],
   "source": [
    "fig = plt.figure() # Create a figure\n",
    "# axes = fig.add_subplot(111) # add one Axes to Figure"
   ]
  },
  {
   "cell_type": "markdown",
   "metadata": {},
   "source": [
    "Usually an **Axes** is set up with a call to `fig.add_subplot()`, `plt.subplot()`, or `plt.subplots()` \n",
    "\n",
    "The most flexible option is `plt.subplots()`"
   ]
  },
  {
   "cell_type": "code",
   "execution_count": null,
   "metadata": {},
   "outputs": [],
   "source": [
    "fig,axes = plt.subplots(2, 3, figsize=(12,6))\n",
    "# This will create a figure and 6 axes arranged in 2 rows, 3 columns"
   ]
  },
  {
   "cell_type": "markdown",
   "metadata": {},
   "source": [
    "---\n",
    "\n",
    "## Line plots"
   ]
  },
  {
   "cell_type": "markdown",
   "metadata": {},
   "source": [
    "Lets draw two cosine functions of different amplitude on the same **Axes**."
   ]
  },
  {
   "cell_type": "code",
   "execution_count": null,
   "metadata": {},
   "outputs": [],
   "source": [
    "# Create data\n",
    "X = np.linspace(-np.pi, np.pi, 100, endpoint=True) # NB. endpoint=True is default option\n",
    "Y1 = np.cos(X)\n",
    "Y2 = 2*np.cos(X)"
   ]
  },
  {
   "cell_type": "code",
   "execution_count": null,
   "metadata": {},
   "outputs": [],
   "source": [
    "# Plot data\n",
    "fig, axes = plt.subplots() # calling subplots without any arguments creates a one axes by default\n",
    "axes.plot(X, Y1)\n",
    "axes.plot(X, Y2);"
   ]
  },
  {
   "cell_type": "markdown",
   "metadata": {},
   "source": [
    "** Tip: by adding a semicolon at the end of a function, the output is suppressed."
   ]
  },
  {
   "cell_type": "markdown",
   "metadata": {},
   "source": [
    "### Default and named colors"
   ]
  },
  {
   "cell_type": "markdown",
   "metadata": {},
   "source": [
    "![](../figures/dflt_style_changes-1.png)"
   ]
  },
  {
   "cell_type": "markdown",
   "metadata": {},
   "source": [
    "**Exercise 0 (10 mins)**. The figure before is generated using the default settings. The code below shows these settings explicitly. Play with the values to explore their effect. For details on changing properties see [line plots on the matplotlib website](https://matplotlib.org/api/_as_gen/matplotlib.pyplot.plot.html)"
   ]
  },
  {
   "cell_type": "code",
   "execution_count": null,
   "metadata": {},
   "outputs": [],
   "source": [
    "# Plot data (with explicit plotting settings)\n",
    "fig, axes = plt.subplots(nrows=1, ncols=1, figsize=(6,4))\n",
    "axes.plot(X, Y1, color='C0', linewidth=1.5, linestyle='-',alpha=1.)\n",
    "axes.plot(X, Y2, color='C1', linewidth=1.5, linestyle='-',alpha=1.);"
   ]
  },
  {
   "cell_type": "code",
   "execution_count": null,
   "metadata": {},
   "outputs": [],
   "source": [
    "# Your code here"
   ]
  },
  {
   "cell_type": "markdown",
   "metadata": {},
   "source": [
    "**Exercise 1 (10 mins)**. Having integer numbers on the x axis here might divert reader's attention from the critical points of the graph.\n",
    "\n",
    "1. Change **xticks** and **xticklabels** into multiples of $\\pi$. Use `axes.set_xticks()` and `axes.set_xticklabels()`.\n",
    "\n",
    "\\*\\* Tip: use `np.pi` for **xticks** and '\\$\\pi$' for **xticklabels**. format strings in LaTeX by prepending 'r'ie `axes.set_xticklabels([r'$\\pi$'])`"
   ]
  },
  {
   "cell_type": "code",
   "execution_count": null,
   "metadata": {},
   "outputs": [],
   "source": [
    "# Youd code here"
   ]
  },
  {
   "cell_type": "markdown",
   "metadata": {},
   "source": [
    "**Exersise 2 (5 mins)**. Add a legend.\n",
    "1. Give both cosine functions a name by adding an extra keyword argument, a label, to `axes.plot()`.\n",
    "2. Add a legend object to **Axes**."
   ]
  },
  {
   "cell_type": "code",
   "execution_count": null,
   "metadata": {},
   "outputs": [],
   "source": [
    "# Your code here"
   ]
  },
  {
   "cell_type": "markdown",
   "metadata": {},
   "source": [
    "**Exercise 3 (10 mins)**. Annotate an interesting point on a graph, for example, $2\\cos(\\frac{\\pi}{4})$.\n",
    "1. Add a single point to the graph by using `axes.plot(..., marker='o')`.\n",
    "2. Use `axes.annotate(s, xy=..., xytext=...)` to add annotation.\n",
    "\n",
    "** Tip: visit [annotations](https://matplotlib.org/users/annotations_intro.html)."
   ]
  },
  {
   "cell_type": "code",
   "execution_count": null,
   "metadata": {},
   "outputs": [],
   "source": [
    "# Your code here"
   ]
  },
  {
   "cell_type": "markdown",
   "metadata": {},
   "source": [
    "---\n",
    "\n",
    "## Bar plots"
   ]
  },
  {
   "cell_type": "markdown",
   "metadata": {},
   "source": [
    "Bar plots are created in much the same way as line plots, with two arrays of equal size.\n",
    "\n",
    "Here we use `bar()` to plot the data on North Atlantic oscillation from the NWS Climate Prediction Center. \n",
    "\n",
    "Data source: http://www.cpc.ncep.noaa.gov/products/precip/CWlink/pna/nao.shtml\n",
    "\n",
    "Variable: **monthly mean** NAO index since January 1950 til March 2019.\n",
    "\n",
    "Data stored in text file in the following way:\n",
    "\n",
    "Year | Month | Value\n",
    "\n",
    "1950 1 0.92000E+00"
   ]
  },
  {
   "cell_type": "markdown",
   "metadata": {},
   "source": [
    "### Read NAO data from a text file"
   ]
  },
  {
   "cell_type": "markdown",
   "metadata": {},
   "source": [
    "The simplest way to load data from a text file in `numpy` is to use `np.loadtxt()` function. "
   ]
  },
  {
   "cell_type": "code",
   "execution_count": null,
   "metadata": {},
   "outputs": [],
   "source": [
    "#np.loadtxt() # To see options, hit Shift+Tab+Tab within the brackets"
   ]
  },
  {
   "cell_type": "markdown",
   "metadata": {},
   "source": [
    "This function has a lot parameters that you can adjuct to fit  your data format. Here we use only:\n",
    "\n",
    "`np.loadtxt(fname, skiprows=..., usecols=..., unpack=...)`"
   ]
  },
  {
   "cell_type": "code",
   "execution_count": null,
   "metadata": {},
   "outputs": [],
   "source": [
    "nao_yr, nao_mn, nao_val = np.loadtxt('../data/nao_monthly.txt', unpack=True) # read year, month, values"
   ]
  },
  {
   "cell_type": "markdown",
   "metadata": {},
   "source": [
    "`unpack = True` allows us to assign a different variable for each column. \n",
    "\n",
    "NB. Alternative ways to load/read text files will be covered in the pandas section later..."
   ]
  },
  {
   "cell_type": "code",
   "execution_count": null,
   "metadata": {},
   "outputs": [],
   "source": [
    "# Quick look at the NAO values\n",
    "fig, ax = plt.subplots(figsize=(25, 5))\n",
    "ax.plot(nao_val);"
   ]
  },
  {
   "cell_type": "markdown",
   "metadata": {},
   "source": [
    "Let's focus on the last 5 years and slice the `nao_val` array accordingly."
   ]
  },
  {
   "cell_type": "code",
   "execution_count": null,
   "metadata": {},
   "outputs": [],
   "source": [
    "# Slicing\n",
    "nao_val_sub = nao_val[-12*5:] # extract last 12 months * 5 years"
   ]
  },
  {
   "cell_type": "code",
   "execution_count": null,
   "metadata": {},
   "outputs": [],
   "source": [
    "# Create an array of month numbers\n",
    "nao_time = np.arange(len(nao_val_sub))\n",
    "nao_time"
   ]
  },
  {
   "cell_type": "markdown",
   "metadata": {},
   "source": [
    "NB. More on how to create actual date labels later... "
   ]
  },
  {
   "cell_type": "code",
   "execution_count": null,
   "metadata": {},
   "outputs": [],
   "source": [
    "# Plot bar\n",
    "fig, ax = plt.subplots(figsize=(15,4))\n",
    "ax.bar(nao_time,nao_val_sub) # NB. different to plot() in that time/position variable is needed. \n",
    "ax.set_title('NAO index')\n",
    "ax.grid(True)"
   ]
  },
  {
   "cell_type": "markdown",
   "metadata": {},
   "source": [
    "---\n",
    "\n",
    "## Scatter plots"
   ]
  },
  {
   "cell_type": "markdown",
   "metadata": {},
   "source": [
    "* Display data as a collection of points, each having the value of one variable determining the position on the horizontal axis and the value of the other variable determining the position on the vertical axis\n",
    "  * Useful for non-gridded or irregularly sampled data\n",
    "\n",
    "* Option to colorcode or size the data points to display an additional variable"
   ]
  },
  {
   "cell_type": "markdown",
   "metadata": {},
   "source": [
    "`scatter(x, y, s=None, c=None, marker=None, cmap=None, norm=None, vmin=None, vmax=None, alpha=None, edgecolors=None, **kwargs)`"
   ]
  },
  {
   "cell_type": "code",
   "execution_count": null,
   "metadata": {},
   "outputs": [],
   "source": [
    "# Generate some data (circles of random diameter)\n",
    "N = 50\n",
    "x = np.random.rand(N)\n",
    "y = np.random.rand(N)\n",
    "area = np.pi*(15*np.random.rand(N))**2  # 0 to 15 point radii\n",
    "colors = np.random.rand(N)"
   ]
  },
  {
   "cell_type": "code",
   "execution_count": null,
   "metadata": {
    "scrolled": false
   },
   "outputs": [],
   "source": [
    "# Plot simple scatter\n",
    "plt.scatter(x, y);"
   ]
  },
  {
   "cell_type": "code",
   "execution_count": null,
   "metadata": {
    "scrolled": false
   },
   "outputs": [],
   "source": [
    "# scatter showing different area and color\n",
    "plt.scatter(x, y, s=area, c=colors);"
   ]
  },
  {
   "cell_type": "markdown",
   "metadata": {},
   "source": [
    "---\n",
    "\n",
    "## Multiple subplots"
   ]
  },
  {
   "cell_type": "markdown",
   "metadata": {},
   "source": [
    "`plt.subplots()` is a function that creates a figure and a grid of subplots with a single call, while providing reasonable control over how the individual plots are created. "
   ]
  },
  {
   "cell_type": "code",
   "execution_count": null,
   "metadata": {
    "scrolled": true
   },
   "outputs": [],
   "source": [
    "fig, axes = plt.subplots(nrows=2, ncols=3, figsize=(15,5)) # or plt.subplots(2,3,figsize=(15,5))\n",
    "axes[0,0].set_title('subplot[0,0]', fontsize=18);\n",
    "axes[0,1].set_title('subplot[0,1]', fontsize=18);\n",
    "axes[0,2].set_title('subplot[0,2]', fontsize=18);\n",
    "axes[1,0].set_title('subplot[1,0]', fontsize=18);\n",
    "axes[1,1].set_title('subplot[1,1]', fontsize=18);\n",
    "axes[1,2].set_title('subplot[1,2]', fontsize=18);\n",
    "\n",
    "for ax in axes.flat: # you can loop over axes\n",
    "    ax.set_xticks([]);\n",
    "    ax.set_yticks([]);"
   ]
  },
  {
   "cell_type": "markdown",
   "metadata": {},
   "source": [
    "### Subplots with real data"
   ]
  },
  {
   "cell_type": "markdown",
   "metadata": {},
   "source": [
    "To practice our plotting we are going to work with data from the NOAA ESRL Carbon Cycle Cooperative Global Air Sampling Network.\n",
    "\n",
    "Source: https://www.esrl.noaa.gov/gmd/dv/data/\n",
    "\n",
    "Monthly averages of atmospheric carbon dioxide ($CO_2$) and methane ($CH_4$) \n",
    "\n",
    "Stations: \n",
    "* CGO = Cape Grim, Tasmania, Australia\n",
    "* MHD = Mace Head, County Galway, Ireland\n",
    "\n",
    "Units:\n",
    "* $CO_2$ - ppm\n",
    "* $CH_4$ - ppb\n",
    "\n",
    "Data stored in a text file. The top row states the number of header lines in the file. No title headers. The actual data is ogranized as following:\n",
    "\n",
    "|Station code | Year | Month | Measurement|\n",
    "| :------------- | :----------: | :----------|  :---------- |\n",
    "|CGO       |     1984   |  4  |     341.63  |"
   ]
  },
  {
   "cell_type": "markdown",
   "metadata": {},
   "source": [
    "#### Read data from a text file"
   ]
  },
  {
   "cell_type": "code",
   "execution_count": null,
   "metadata": {},
   "outputs": [],
   "source": [
    "data = np.loadtxt('../data/co2_cgo_surface-flask_1_ccgg_month.txt', skiprows=68, usecols=(1, 2, 3))\n",
    "data"
   ]
  },
  {
   "cell_type": "markdown",
   "metadata": {},
   "source": [
    "If we want to have three separate arrays for year, month and value, we can set `unpack=True` and store the output from `np.loadtxt()` function in three separate arrays."
   ]
  },
  {
   "cell_type": "code",
   "execution_count": null,
   "metadata": {},
   "outputs": [],
   "source": [
    "year, month, value = np.loadtxt('../data/co2_cgo_surface-flask_1_ccgg_month.txt', skiprows=68, usecols=(1, 2, 3), unpack=True)"
   ]
  },
  {
   "cell_type": "markdown",
   "metadata": {},
   "source": [
    "#### Kwargs"
   ]
  },
  {
   "cell_type": "markdown",
   "metadata": {},
   "source": [
    "* remember from earlier, you can store any number of keyword arguments in a dictionary, and later unpack it when calling a function"
   ]
  },
  {
   "cell_type": "code",
   "execution_count": null,
   "metadata": {},
   "outputs": [],
   "source": [
    "# Kwargs\n",
    "read_data_kwargs = dict(skiprows=68, usecols=(1, 2, 3), unpack=True)"
   ]
  },
  {
   "cell_type": "code",
   "execution_count": null,
   "metadata": {},
   "outputs": [],
   "source": [
    "# Read data\n",
    "# CO2 \n",
    "cgo_co2_yr, cgo_co2_mn, cgo_co2_val = np.loadtxt('../data/co2_cgo_surface-flask_1_ccgg_month.txt', **read_data_kwargs)\n",
    "mhd_co2_yr, mhd_co2_mn, mhd_co2_val = np.loadtxt('../data/co2_mhd_surface-flask_1_ccgg_month.txt', **read_data_kwargs)\n",
    "# CH4\n",
    "cgo_ch4_yr, cgo_ch4_mn, cgo_ch4_val = np.loadtxt('../data/ch4_cgo_surface-flask_1_ccgg_month.txt', **read_data_kwargs)\n",
    "mhd_ch4_yr, mhd_ch4_mn, mhd_ch4_val = np.loadtxt('../data/ch4_mhd_surface-flask_1_ccgg_month.txt', **read_data_kwargs)\n"
   ]
  },
  {
   "cell_type": "markdown",
   "metadata": {},
   "source": [
    "We'll find out how to properly plot on a time axis soon! For now, create dummy time arrays by some arithmetic to numpy arrays."
   ]
  },
  {
   "cell_type": "code",
   "execution_count": null,
   "metadata": {},
   "outputs": [],
   "source": [
    "cgo_co2_time_dummy = cgo_co2_yr*12 + cgo_co2_mn\n",
    "mhd_co2_time_dummy = mhd_co2_yr*12 + mhd_co2_mn\n",
    "cgo_ch4_time_dummy = cgo_ch4_yr*12 + cgo_ch4_mn\n",
    "mhd_ch4_time_dummy = mhd_ch4_yr*12 + mhd_ch4_mn"
   ]
  },
  {
   "cell_type": "markdown",
   "metadata": {},
   "source": [
    "**Exercise 4a (20 mins)**. Construct two subplots using the arrays created above. One for $CO_2$, one for $CH_4$. Add titles, x and y labels, legend. If you have time left, play with optional arguments of `plot()`. "
   ]
  },
  {
   "cell_type": "markdown",
   "metadata": {},
   "source": [
    "The desired outcome is something like this (time on x axis will follow in part b):\n",
    "\n",
    "<img src=\"../figures/subplots_example.png\">"
   ]
  },
  {
   "cell_type": "code",
   "execution_count": null,
   "metadata": {},
   "outputs": [],
   "source": [
    "# Your code here"
   ]
  },
  {
   "cell_type": "markdown",
   "metadata": {},
   "source": [
    "**Hint:** You can run the following cell for a partial solution to start from: "
   ]
  },
  {
   "cell_type": "code",
   "execution_count": null,
   "metadata": {},
   "outputs": [],
   "source": [
    "# create the figure and desired subplot axes arrangement:\n",
    "fig, axes = plt.subplots(nrows=2, ncols=1, figsize=(9,9), sharex=True)\n",
    "\n",
    "# plot data on the first subplot:\n",
    "axes[0].plot(cgo_co2_time_dummy, cgo_co2_val, label='CGO')\n",
    "\n",
    "# add a label for the Y axis:\n",
    "axes[0].set_ylabel('ppm')\n",
    "\n",
    "# add a legend (this uses the \"label\" specified when plotting)\n",
    "axes[0].legend();"
   ]
  },
  {
   "cell_type": "markdown",
   "metadata": {},
   "source": [
    "#### Datetime\n",
    "\n",
    "* `datetime` module helps to work with time arrays"
   ]
  },
  {
   "cell_type": "code",
   "execution_count": null,
   "metadata": {},
   "outputs": [],
   "source": [
    "from datetime import datetime"
   ]
  },
  {
   "cell_type": "code",
   "execution_count": null,
   "metadata": {
    "scrolled": true
   },
   "outputs": [],
   "source": [
    "datetime.now()"
   ]
  },
  {
   "cell_type": "code",
   "execution_count": null,
   "metadata": {},
   "outputs": [],
   "source": [
    "a_date = datetime(2019, 5, 23)\n",
    "a_date"
   ]
  },
  {
   "cell_type": "code",
   "execution_count": null,
   "metadata": {},
   "outputs": [],
   "source": [
    "python_course_dates = [datetime(2021, 6, i) for i in [7,8,9,10,11]]\n",
    "python_course_dates"
   ]
  },
  {
   "cell_type": "markdown",
   "metadata": {},
   "source": [
    "**More on datetime in notebook 16**"
   ]
  },
  {
   "cell_type": "markdown",
   "metadata": {},
   "source": [
    "Let's apply it to our year and month arrays."
   ]
  },
  {
   "cell_type": "code",
   "execution_count": null,
   "metadata": {},
   "outputs": [],
   "source": [
    "# Using list comprehension\n",
    "cgo_co2_time = [datetime(int(i), int(j), 1) for i, j in zip(cgo_co2_yr, cgo_co2_mn)]"
   ]
  },
  {
   "cell_type": "code",
   "execution_count": null,
   "metadata": {},
   "outputs": [],
   "source": [
    "# Same as in previous cell but using a for loop\n",
    "cgo_co2_time = []\n",
    "for i, j in zip(cgo_co2_yr, cgo_co2_mn):\n",
    "    cgo_co2_time.append(datetime(int(i), int(j), 1))"
   ]
  },
  {
   "cell_type": "code",
   "execution_count": null,
   "metadata": {},
   "outputs": [],
   "source": [
    "cgo_co2_time = [datetime(int(i), int(j), 1) for i, j in zip(cgo_co2_yr, cgo_co2_mn)]\n",
    "mhd_co2_time = [datetime(int(i), int(j), 1) for i, j in zip(mhd_co2_yr, mhd_co2_mn)]\n",
    "\n",
    "cgo_ch4_time = [datetime(int(i), int(j), 1) for i, j in zip(cgo_ch4_yr, cgo_ch4_mn)]\n",
    "mhd_ch4_time = [datetime(int(i), int(j), 1) for i, j in zip(mhd_ch4_yr, mhd_ch4_mn)]"
   ]
  },
  {
   "cell_type": "markdown",
   "metadata": {},
   "source": [
    "<b>Exercise 4b (5 min).</b> Improve your solution to exercise 4a by using the newly constructed datetime lists. Note how matplotlib understands the datetime format!"
   ]
  },
  {
   "cell_type": "code",
   "execution_count": null,
   "metadata": {},
   "outputs": [],
   "source": [
    "# your code here"
   ]
  },
  {
   "cell_type": "markdown",
   "metadata": {},
   "source": [
    "---\n",
    "---\n",
    "\n",
    "## Plotting 2D data: contour (and contourf) plots"
   ]
  },
  {
   "cell_type": "code",
   "execution_count": null,
   "metadata": {},
   "outputs": [],
   "source": [
    "import matplotlib.pyplot as plt\n",
    "import numpy as np"
   ]
  },
  {
   "cell_type": "markdown",
   "metadata": {},
   "source": [
    "* `contour()` and `contourf()` draw contour lines and filled contours, respectively\n",
    "* good for 2D gridded data\n",
    "\n",
    "** Note: `contourf()` differs from the Matlab version in that it does not draw the polygon edges. To draw edges, add line contours with calls to `contour()`."
   ]
  },
  {
   "cell_type": "markdown",
   "metadata": {},
   "source": [
    "`contour(Z)` - make a contour plot of an array Z. The level values are chosen automatically, axes will refer to indices in the array.\n",
    "\n",
    "`contour(X, Y, Z)` - X, Y specify the (x, y) coordinates of the surface\n",
    "\n",
    "`contour(X, Y, Z, N)` - contour up to N automatically-chosen levels\n",
    "\n",
    "`contour(X, Y, Z, [level1, level2])` - contour on specific levels, e.g. level1, level2. "
   ]
  },
  {
   "cell_type": "code",
   "execution_count": null,
   "metadata": {},
   "outputs": [],
   "source": [
    "# Let's create a function to generate some data\n",
    "def fun(x,y):\n",
    "    return (1-x/2+x**5+y**3)*np.exp(-x**2-y**2) "
   ]
  },
  {
   "cell_type": "code",
   "execution_count": null,
   "metadata": {},
   "outputs": [],
   "source": [
    "# Create a regular (x,y) grid\n",
    "n = 200\n",
    "x1d = np.linspace(-3,3,n)\n",
    "y1d = np.linspace(-3,3,n)\n",
    "X, Y = np.meshgrid(x1d, y1d) # repeat x y times and y x times"
   ]
  },
  {
   "cell_type": "code",
   "execution_count": null,
   "metadata": {},
   "outputs": [],
   "source": [
    "# Calculate the data\n",
    "data = fun(X,Y)"
   ]
  },
  {
   "cell_type": "code",
   "execution_count": null,
   "metadata": {
    "scrolled": true
   },
   "outputs": [],
   "source": [
    "# A simple example first: \n",
    "plt.contour(data);\n",
    "#plt.contour(X, Y, data);"
   ]
  },
  {
   "cell_type": "code",
   "execution_count": null,
   "metadata": {},
   "outputs": [],
   "source": [
    "# Plot subplots using contour and contourf\n",
    "fig, (ax1, ax2, ax3) = plt.subplots(1, 3, figsize=(15, 4))\n",
    "ax1.contour(X, Y, data, 10);\n",
    "ax2.contourf(X, Y, data, 10);\n",
    "#ax3.contour(X, Y, data, 10, colors='k');\n",
    "#ax3.contourf(X, Y, data, 10);"
   ]
  },
  {
   "cell_type": "markdown",
   "metadata": {},
   "source": [
    "### How to add a colorbar?"
   ]
  },
  {
   "cell_type": "markdown",
   "metadata": {},
   "source": [
    "When adding a **colorbar**, it needs to know the relevant *axes* and *mappable* content - especially when working with subplots or layered figures. \n",
    "\n",
    "Note that a colorbar will also have its own axes properties...  \n",
    "\n",
    "We tell matplotlib which plotted values to use for the colorbar content with: `fig.colorbar(mappable, ax=ax_no)`"
   ]
  },
  {
   "cell_type": "code",
   "execution_count": null,
   "metadata": {},
   "outputs": [],
   "source": [
    "# Plot contour and contourf with colorbars\n",
    "# By default matplotlib contours negative values with a dashed line. This behaviour can be changed with rcparams:\n",
    "#plt.rcParams['contour.negative_linestyle']= 'solid' # Reset to default with `= 'dashed'`\n",
    "\n",
    "fig, (ax1, ax2, ax3) = plt.subplots(1, 3, figsize=(15, 4))\n",
    "ax1.contour(X, Y, data, 10)\n",
    "mappable2 = ax2.contourf(X, Y, data, 10)\n",
    "#mappable2.set_clim(0,1)\n",
    "\n",
    "ax3.contour(X, Y, data, 10, colors='k')\n",
    "mappable3 = ax3.contourf(X, Y, data, 10)\n",
    "\n",
    "fig.colorbar(mappable2, ax=ax2)\n",
    "fig.colorbar(mappable3, ax=ax3);"
   ]
  },
  {
   "cell_type": "markdown",
   "metadata": {},
   "source": [
    "#### Mini exercise: 10 min\n",
    "\n",
    "Play around with the lines of code in the cell above, and see how the figure changes, e.g. \n",
    "\n",
    "* What happens if you try to add a colorbar to ax1? \n",
    "\n",
    "* Try plotting chosen contour levels for ax2 or ax3, and see what happens to the colorbar? \n",
    "\n"
   ]
  },
  {
   "cell_type": "markdown",
   "metadata": {},
   "source": [
    "---\n",
    "\n",
    "### Aside: Choose your colormap wisely \n",
    "\n",
    "The \"default\" colormap in python is viridis. However, colormaps can (and should) be varied to suit the data being shown.  \n",
    "For example, you would likely prefer a *sequential* scale for bathymetry, as opposed to a *diverging* scale for temperature anomalies? \n",
    "\n",
    "There is a large variety of maps to choose from in matplotlib, as shown [here](https://matplotlib.org/2.0.1/users/colormaps.html). "
   ]
  },
  {
   "cell_type": "markdown",
   "metadata": {},
   "source": [
    "<img src=\"../figures/colormaps_reference_00.png\">  \n",
    "<img src=\"../figures/colormaps_reference_03.png\">"
   ]
  },
  {
   "cell_type": "markdown",
   "metadata": {},
   "source": [
    "**Don't let a bad colormap mess with your science!** \n",
    "\n",
    "You should always choose ***perceptually uniform*** shading to ensure that data is not misrepresented.\n",
    "\n",
    "**Jet has no place in the 21st century**. Also referred to as **rainbow**, it is an [awful colormap](http://medvis.org/2012/08/21/rainbow-colormaps-what-are-they-good-for-absolutely-nothing/) that promotes [bad science](https://blogs.egu.eu/divisions/gd/2017/08/23/the-rainbow-colour-map/). \n",
    "\n",
    "There are many articles explaing the distortions created, and why you should therefore avoid using rainbow/jet e.g.    \n",
    "* [The end of the rainbow](http://www.climate-lab-book.ac.uk/2014/end-of-the-rainbow/)\n",
    "* [A dangerous rainbow: Why colormaps matter](https://blogs.mathworks.com/headlines/2018/10/10/a-dangerous-rainbow-why-colormaps-matter/)\n",
    "* [Colour maps for Fisheries/Echosounders](https://academic.oup.com/icesjms/article/77/2/826/5684813). \n",
    "\n",
    "Matplotlib comes with great perceptually uniform default colormaps (as shown above). However, if they're not quite what you want, there are many others out there to check out, e.g. these custom colormaps crafted for [oceanography](https://matplotlib.org/cmocean/) and [general scientific visualisation/geophysics](http://www.fabiocrameri.ch/colourmaps.php). \n",
    "\n",
    "To make sure everyone can appreciate your beautiful figures, you could also use a colour blindness simulator, such as [this one](https://www.color-blindness.com/coblis-color-blindness-simulator/). \n",
    "\n"
   ]
  },
  {
   "cell_type": "markdown",
   "metadata": {},
   "source": [
    "---\n",
    "\n",
    "## Other ways to plot 2D data?"
   ]
  },
  {
   "cell_type": "markdown",
   "metadata": {},
   "source": [
    "In addition to contourf, you can also use `plt.pcolormesh`. \n",
    "\n",
    "This can be especially useful to plot gridded data \"as is\", without any smoothing or interpolation (although smoothing is an option for pcolormesh).  \n",
    "\n",
    "The colour interval is set automatically based on the chosen colormap, no specification of contour levels.  "
   ]
  },
  {
   "cell_type": "code",
   "execution_count": null,
   "metadata": {},
   "outputs": [],
   "source": [
    "# Useful to sanity-check data, e.g.\n",
    "fig, (ax1, ax2) = plt.subplots(1, 2, figsize=(10, 4))\n",
    "ax1.contourf(data[100:110,100:110], 10)\n",
    "ax2.pcolormesh(data[100:110,100:110]);"
   ]
  },
  {
   "cell_type": "markdown",
   "metadata": {},
   "source": [
    "---\n",
    "\n",
    "## How to save a figure?"
   ]
  },
  {
   "cell_type": "markdown",
   "metadata": {},
   "source": [
    "Matplotlib supports exporting to a large range of vector and raster image formats:"
   ]
  },
  {
   "cell_type": "code",
   "execution_count": null,
   "metadata": {},
   "outputs": [],
   "source": [
    "fig.canvas.get_supported_filetypes()"
   ]
  },
  {
   "cell_type": "markdown",
   "metadata": {},
   "source": [
    "Use `fig.savefig(fname, dpi=, facecolor=, bbox_inches='tight', **kwargs)` to save your figure:"
   ]
  },
  {
   "cell_type": "code",
   "execution_count": null,
   "metadata": {},
   "outputs": [],
   "source": [
    "# Save contour and contourf with colorbars\n",
    "fig, (ax1, ax2, ax3) = plt.subplots(1, 3, figsize=(15, 4))\n",
    "ax1.contour(X, Y, data, 10)\n",
    "mappable2 = ax2.contourf(X, Y, data, 10)\n",
    "mappable3 = ax3.contour(X, Y, data, 10, colors='k')\n",
    "mappable3 = ax3.contourf(X, Y, data, 10)\n",
    "fig.colorbar(mappable2, ax=ax2)\n",
    "fig.colorbar(mappable3, ax=ax3);\n",
    "\n",
    "# fig.savefig('../figures/MY_AWESOME_FIGURE.png', dpi=300, facecolor='moccasin', bbox_inches='tight')"
   ]
  },
  {
   "cell_type": "markdown",
   "metadata": {},
   "source": [
    "---\n",
    "---\n",
    "\n",
    "## Combined figures \n",
    "\n",
    "In this final example we demonstrate how you can produce a compact, combined figure: useful for data comparison or for journals with tight figure limits."
   ]
  },
  {
   "cell_type": "markdown",
   "metadata": {},
   "source": [
    "We'll make a \"dummy\" temperature cross-section, using meshgrid"
   ]
  },
  {
   "cell_type": "code",
   "execution_count": null,
   "metadata": {},
   "outputs": [],
   "source": [
    "dx = 0.025\n",
    "x1d = np.sin(np.arange(np.pi / 4, 3 * np.pi / 4, dx))\n",
    "y1d = 10**np.arange(0, 1, dx/10)-1\n",
    "X2d, Y2d = np.meshgrid(x1, y1)\n",
    "\n",
    "temp = X2d * Y2d\n",
    "\n",
    "distance = np.linspace(0, 90, len(x1d))\n",
    "\n",
    "depth = np.linspace(100, 1, len(y1d))"
   ]
  },
  {
   "cell_type": "markdown",
   "metadata": {},
   "source": [
    "Present the data on a 2 X 2 set of axes, with a shared x axis and y axis. "
   ]
  },
  {
   "cell_type": "code",
   "execution_count": null,
   "metadata": {},
   "outputs": [],
   "source": [
    "# == Increasing the font size to improve readability ==\n",
    "plt.rcParams.update({\"font.size\": 20})\n",
    "\n",
    "fig, axs = plt.subplots(2, 2, figsize=(8, 8), sharex=\"col\", sharey=\"row\",\n",
    "                        gridspec_kw={\"height_ratios\": [1, 4], \"width_ratios\": [4, 1]})\n",
    "axs = axs.ravel()\n",
    "# == Remove white space between subplots ==\n",
    "fig.subplots_adjust(hspace=0, wspace=0)\n",
    "\n",
    "axs[0].plot(distance, temp[-1, :])\n",
    "# == Set colormap of choice ==\n",
    "cb = axs[2].contourf(distance, depth, temp, 10, cmap='magma') \n",
    "axs[3].plot(np.nanmean(temp, 1), depth)\n",
    "\n",
    "# == Add a colorbar to the right of the bottom right plot ==\n",
    "fig.colorbar(ax=axs[3], mappable=cb, label=r\"Temperature $\\mathrm{^{\\circ}C}$\")\n",
    "\n",
    "# == Remove the lines and ticks from the unused top right axis ==\n",
    "axs[1].axis(\"off\")\n",
    "\n",
    "# == Addding labels and limits ==\n",
    "axs[0].set(ylabel='Surface\\n temp')\n",
    "axs[2].set(\n",
    "    xlim=[distance[0], distance[-1]],\n",
    "    ylim=[depth[0], depth[-1]],\n",
    "    ylabel=\"Depth (m)\",\n",
    "    xlabel=\"Distance (km)\")\n",
    "axs[3].set(xlim=[np.min(temp), np.max(temp)], xlabel=\"mean temp\");"
   ]
  },
  {
   "cell_type": "markdown",
   "metadata": {},
   "source": [
    "### This is a lot to remember though!\n",
    "\n",
    "There are many options you can play around with, to improve presentation for your target audience or journal. \n",
    "\n",
    "Don't try to memorise everything - instead, you can always refer to: \n",
    "* [The documentation](https://matplotlib.org/stable/index.html) \n",
    "  * e.g. [Gallery for inspiration](https://matplotlib.org/stable/gallery/index.html)\n",
    "* [matplotlib cheatsheets](https://github.com/matplotlib/cheatsheets)\n"
   ]
  },
  {
   "cell_type": "markdown",
   "metadata": {},
   "source": [
    "## Final matplotlib exercise (20 mins)"
   ]
  },
  {
   "cell_type": "markdown",
   "metadata": {},
   "source": [
    "Reproduce the figure below by using `contourf()` to show a map of sea surface temperature, and `plot()` for a zonally averaged temperature curve. \n",
    "\n",
    "The code for loading and processing the data is provided below, so you can focus on producing the figure...\n"
   ]
  },
  {
   "cell_type": "markdown",
   "metadata": {},
   "source": [
    "![](../figures/matplotlib_map.png)"
   ]
  },
  {
   "cell_type": "markdown",
   "metadata": {},
   "source": [
    "Data source: https://podaac-tools.jpl.nasa.gov/las/UI.vm\n",
    "\n",
    "Dataset: AMSR-E Level 3 Sea Surface Temperature for Climate Model Comparison.\n",
    "\n",
    "Variable: Sea Surface Temperature (K).\n",
    "\n",
    "Time : 16-JUN-2002 00:00.\n",
    "\n",
    "Spacial resolution: 1$^{\\circ}$x1$^{\\circ}$, 361 by 180 points (longitude by latitude).\n",
    "\n",
    "Total Number of Records: 64980."
   ]
  },
  {
   "cell_type": "markdown",
   "metadata": {},
   "source": [
    "All the data processing is handled for you here, with the following steps: \n",
    "* Read the data using `np.genfromtxt` (very similar to `np.loadtxt`, but can handle missing values). \n",
    "* Reshape the 1D data into a 2D lat-lon grid. \n",
    "* Calculate the zonal-mean temperature. "
   ]
  },
  {
   "cell_type": "code",
   "execution_count": null,
   "metadata": {},
   "outputs": [],
   "source": [
    "# Read modelling sst data\n",
    "lon_raw, lat_raw, sst_raw = np.genfromtxt('../data/AMSR-E_Level_3_Sea_Surface_Temperature_for_Climate_Model_Comparison.csv', \n",
    "                                          delimiter=',', skip_header=10, missing_values='-1.E+34', \n",
    "                                          usemask=True, usecols=(2, 3, 4), unpack=True)\n",
    "\n",
    "# Reshape into a grid of sst with corresponding lat and lon coordinates\n",
    "lon = np.unique(lon_raw)\n",
    "lat = np.unique(lat_raw)\n",
    "sst = np.reshape(sst_raw,(len(lat),len(lon)))\n",
    "\n",
    "# Calculate the zonal-mean temperature here\n",
    "temp_zonal_mean = np.nanmean(sst,1);"
   ]
  },
  {
   "cell_type": "markdown",
   "metadata": {},
   "source": [
    "Now, plot the data..."
   ]
  },
  {
   "cell_type": "code",
   "execution_count": null,
   "metadata": {},
   "outputs": [],
   "source": [
    "# Your code here\n"
   ]
  },
  {
   "cell_type": "markdown",
   "metadata": {},
   "source": [
    "---------------------\n",
    "### Bonus: styles with matplotlib\n",
    "\n",
    "Matplotlib has a number of predefined styles that affect default colours, backgrounds, linewidths, font sizes etc.\n",
    "\n",
    "You can display all available default styles with the following code"
   ]
  },
  {
   "cell_type": "code",
   "execution_count": null,
   "metadata": {},
   "outputs": [],
   "source": [
    "plt.rcParams.update(plt.rcParamsDefault)\n",
    "fig = plt.figure(dpi=100, figsize=(10, 20), tight_layout=True)\n",
    "available = ['default'] + plt.style.available\n",
    "for i, style in enumerate(available):\n",
    "    with plt.style.context(style):\n",
    "        ax = fig.add_subplot(10, 3, i + 1)\n",
    "        ax.plot(x, y)\n",
    "    ax.set_title(style)"
   ]
  },
  {
   "cell_type": "markdown",
   "metadata": {},
   "source": [
    "You can use these styles individually, using the context manager `with plt.style.context('desired-style'):` then indenting your plotting code"
   ]
  },
  {
   "cell_type": "code",
   "execution_count": null,
   "metadata": {},
   "outputs": [],
   "source": [
    "X = np.linspace(-np.pi, np.pi, 100, endpoint=True)\n",
    "Y1 = np.cos(X)\n",
    "Y2 = 2*np.cos(X)"
   ]
  },
  {
   "cell_type": "code",
   "execution_count": null,
   "metadata": {},
   "outputs": [],
   "source": [
    "with plt.style.context('fivethirtyeight'):\n",
    "    fig, axes = plt.subplots()\n",
    "    axes.plot(X, Y1, label='cos(x)');\n",
    "    axes.plot(X, Y2, label='2cos(x)');\n",
    "\n",
    "    axes.set_xticks([-np.pi, -np.pi/2, 0, np.pi/2, np.pi]);\n",
    "    axes.set_yticks([-2, -1, 0, 1, 2]);\n",
    "    axes.set_xticklabels(['$-\\pi$', '$-\\pi/2$', '$0$', '$+\\pi/2$', '$+\\pi$']);\n",
    "    axes.legend(loc='upper left', frameon=False);\n",
    "    point = np.pi/4\n",
    "    axes.plot(point, 2*np.cos(point), marker='o');\n",
    "    axes.annotate(r'$2\\cos(\\frac{\\pi}{4})=\\sqrt{2}$', xy=(point, 2*np.cos(point)), xytext=(1, 1.5), fontsize=16);"
   ]
  },
  {
   "cell_type": "markdown",
   "metadata": {},
   "source": [
    "One of these style is based on the inimitable xkcd comics "
   ]
  },
  {
   "cell_type": "code",
   "execution_count": null,
   "metadata": {},
   "outputs": [],
   "source": [
    "with plt.xkcd():\n",
    "    # Based on \"Stove Ownership\" from XKCD by Randall Munroe\n",
    "    # https://xkcd.com/418/\n",
    "\n",
    "    fig = plt.figure()\n",
    "    ax = fig.add_axes((0.1, 0.2, 0.8, 0.7))\n",
    "    ax.spines['right'].set_color('none')\n",
    "    ax.spines['top'].set_color('none')\n",
    "    ax.set_xticks([])\n",
    "    ax.set_yticks([])\n",
    "    ax.set_ylim([-30, 10])\n",
    "\n",
    "    data = np.ones(100)\n",
    "    data[70:] -= np.arange(30)\n",
    "\n",
    "    ax.annotate(\n",
    "        'THE DAY I REALIZED\\nI COULD COOK BACON\\nWHENEVER I WANTED',\n",
    "        xy=(70, 1), arrowprops=dict(arrowstyle='->'), xytext=(15, -10))\n",
    "\n",
    "    ax.plot(data)\n",
    "\n",
    "    ax.set_xlabel('time')\n",
    "    ax.set_ylabel('my overall health')\n",
    "    fig.text(\n",
    "        0.5, 0.05,\n",
    "        '\"Stove Ownership\" from xkcd by Randall Munroe',\n",
    "        ha='center')"
   ]
  },
  {
   "cell_type": "markdown",
   "metadata": {},
   "source": [
    "## References: \n",
    "General matplotlib\n",
    "* https://matplotlib.org/faq/usage_faq.html\n",
    "* http://www.labri.fr/perso/nrougier/teaching/matplotlib/matplotlib.html\n",
    "* https://matplotlib.org/gallery/showcase/xkcd.html#sphx-glr-gallery-showcase-xkcd-py\n",
    "\n",
    "\n",
    "Colormaps \n",
    "* http://medvis.org/2012/08/21/rainbow-colormaps-what-are-they-good-for-absolutely-nothing/\n",
    "* https://blogs.egu.eu/divisions/gd/2017/08/23/the-rainbow-colour-map/\n",
    "* www.fabiocrameri.ch/resources/PosterScientificColourMaps_Crameri.pdf) \n",
    "* https://academic.oup.com/icesjms/article/77/2/826/5684813\n",
    "* cmocean colourmaps for Python (https://matplotlib.org/cmocean/) \n",
    "* cmcrameri colourmaps for Python https://github.com/callumrollo/cmcrameri"
   ]
  }
 ],
 "metadata": {
  "anaconda-cloud": {},
  "kernelspec": {
   "display_name": "Python 3",
   "language": "python",
   "name": "python3"
  },
  "language_info": {
   "codemirror_mode": {
    "name": "ipython",
    "version": 3
   },
   "file_extension": ".py",
   "mimetype": "text/x-python",
   "name": "python",
   "nbconvert_exporter": "python",
   "pygments_lexer": "ipython3",
   "version": "3.8.10"
  },
  "nbpresent": {
   "slides": {
    "0def8933-36ce-4083-b26a-0661a1a2a116": {
     "id": "0def8933-36ce-4083-b26a-0661a1a2a116",
     "prev": "53ab1610-6f1a-4fc8-b24b-e40d920d7ceb",
     "regions": {
      "68eabbe8-3887-4c46-b94d-c0148183e603": {
       "attrs": {
        "height": 0.8,
        "width": 0.8,
        "x": 0.1,
        "y": 0.1
       },
       "content": {
        "cell": "4c52f1ce-98fc-4a38-8569-1e79f67bf0ee",
        "part": "whole"
       },
       "id": "68eabbe8-3887-4c46-b94d-c0148183e603"
      }
     }
    },
    "0e1bdc0f-c5f8-4d00-9657-4f3a78f0030c": {
     "id": "0e1bdc0f-c5f8-4d00-9657-4f3a78f0030c",
     "prev": "3bc5be16-2d36-4005-a40b-c023d27300d8",
     "regions": {
      "ce3cf658-98cf-4aa9-8875-3566578ccb6f": {
       "attrs": {
        "height": 0.8,
        "width": 0.8,
        "x": 0.1,
        "y": 0.1
       },
       "content": {
        "cell": "6100aaac-1c13-4cbb-83ee-5d1545171b7d",
        "part": "whole"
       },
       "id": "ce3cf658-98cf-4aa9-8875-3566578ccb6f"
      }
     }
    },
    "28fc96fd-5798-41c0-9388-8651637bd860": {
     "id": "28fc96fd-5798-41c0-9388-8651637bd860",
     "prev": "ee5b6ba5-0721-40fe-b5c7-598aed364a84",
     "regions": {
      "5bb62edc-0090-463a-8b20-26b2f7f4d966": {
       "attrs": {
        "height": 0.8,
        "width": 0.8,
        "x": 0.1,
        "y": 0.1
       },
       "content": {
        "cell": "823bdc5d-e1e5-4971-9b3a-f9e7d3cfad06",
        "part": "whole"
       },
       "id": "5bb62edc-0090-463a-8b20-26b2f7f4d966"
      }
     }
    },
    "2f2b80c2-7e7c-4cd6-9fca-054736469df5": {
     "id": "2f2b80c2-7e7c-4cd6-9fca-054736469df5",
     "prev": "41f4272e-776a-4897-8902-f52bd11f2403",
     "regions": {
      "b64992d5-9ed3-4d72-8048-be22ca112400": {
       "attrs": {
        "height": 0.8,
        "width": 0.8,
        "x": 0.1,
        "y": 0.1
       },
       "content": {
        "cell": "a4be4e23-a94d-4b7d-881f-de656124dcfd",
        "part": "whole"
       },
       "id": "b64992d5-9ed3-4d72-8048-be22ca112400"
      }
     }
    },
    "3bc5be16-2d36-4005-a40b-c023d27300d8": {
     "id": "3bc5be16-2d36-4005-a40b-c023d27300d8",
     "prev": "0def8933-36ce-4083-b26a-0661a1a2a116",
     "regions": {
      "80781489-c8b0-49cf-8da0-5c40f03eebf3": {
       "attrs": {
        "height": 0.8,
        "width": 0.8,
        "x": 0.1,
        "y": 0.1
       },
       "content": {
        "cell": "443f46bb-4d88-4218-8b57-0ce1deb8dac0",
        "part": "whole"
       },
       "id": "80781489-c8b0-49cf-8da0-5c40f03eebf3"
      }
     }
    },
    "41f4272e-776a-4897-8902-f52bd11f2403": {
     "id": "41f4272e-776a-4897-8902-f52bd11f2403",
     "prev": "e1c59565-6cdd-4ae4-97ff-29bf8096a690",
     "regions": {
      "d41986ab-fc7c-4a15-ba0e-d87c64905574": {
       "attrs": {
        "height": 0.8,
        "width": 0.8,
        "x": 0.1,
        "y": 0.1
       },
       "content": {
        "cell": "6cb85cbd-6350-46c2-a60f-da7ba4272b78",
        "part": "whole"
       },
       "id": "d41986ab-fc7c-4a15-ba0e-d87c64905574"
      }
     }
    },
    "53ab1610-6f1a-4fc8-b24b-e40d920d7ceb": {
     "id": "53ab1610-6f1a-4fc8-b24b-e40d920d7ceb",
     "prev": "7185aeb2-0ef0-4273-8e9f-bfb1bf65d603",
     "regions": {
      "346969fd-7bab-463e-b642-181a205b30b3": {
       "attrs": {
        "height": 0.8,
        "width": 0.8,
        "x": 0.1,
        "y": 0.1
       },
       "content": {
        "cell": "14bf700e-8c92-4ade-bb3a-658446ba831e",
        "part": "whole"
       },
       "id": "346969fd-7bab-463e-b642-181a205b30b3"
      }
     }
    },
    "7185aeb2-0ef0-4273-8e9f-bfb1bf65d603": {
     "id": "7185aeb2-0ef0-4273-8e9f-bfb1bf65d603",
     "prev": "75aad04f-fd31-4562-8a88-948385acf4d6",
     "regions": {
      "e32f853b-eaaf-4436-9d53-04c8e5b84a39": {
       "attrs": {
        "height": 0.8,
        "width": 0.8,
        "x": 0.1,
        "y": 0.1
       },
       "content": {
        "cell": "8ab1965a-5c3c-4d8c-84bb-0dc078abfdfd",
        "part": "whole"
       },
       "id": "e32f853b-eaaf-4436-9d53-04c8e5b84a39"
      }
     }
    },
    "75aad04f-fd31-4562-8a88-948385acf4d6": {
     "id": "75aad04f-fd31-4562-8a88-948385acf4d6",
     "prev": "e12a200a-d4bd-4598-acfc-6bcfac7f6144",
     "regions": {
      "e728912b-5975-4726-868c-19692a1bdaa3": {
       "attrs": {
        "height": 0.8,
        "width": 0.8,
        "x": 0.1,
        "y": 0.1
       },
       "content": {
        "cell": "c973a0ad-f5b1-430c-9dca-81a7bddf7b34",
        "part": "whole"
       },
       "id": "e728912b-5975-4726-868c-19692a1bdaa3"
      }
     }
    },
    "9d5a78f0-8f8c-48a6-80f1-b0e5de5d1f58": {
     "id": "9d5a78f0-8f8c-48a6-80f1-b0e5de5d1f58",
     "prev": null,
     "regions": {
      "fbb3ef4a-6e8d-4f4e-89ef-0d0d1d1d4dce": {
       "attrs": {
        "height": 0.8,
        "width": 0.8,
        "x": 0.1,
        "y": 0.1
       },
       "content": {
        "cell": "80243624-0a24-4f0c-a5b2-aa3598627698",
        "part": "whole"
       },
       "id": "fbb3ef4a-6e8d-4f4e-89ef-0d0d1d1d4dce"
      }
     }
    },
    "d1d8c39f-0da5-4c80-8841-2fa1020900a2": {
     "id": "d1d8c39f-0da5-4c80-8841-2fa1020900a2",
     "prev": "0e1bdc0f-c5f8-4d00-9657-4f3a78f0030c",
     "regions": {
      "21e351f5-dc13-4b5f-a8a8-1af11190f04e": {
       "attrs": {
        "height": 0.8,
        "width": 0.8,
        "x": 0.1,
        "y": 0.1
       },
       "content": {
        "cell": "f1cd1110-2114-4693-835c-88a7c8e02cf9",
        "part": "whole"
       },
       "id": "21e351f5-dc13-4b5f-a8a8-1af11190f04e"
      }
     }
    },
    "e12a200a-d4bd-4598-acfc-6bcfac7f6144": {
     "id": "e12a200a-d4bd-4598-acfc-6bcfac7f6144",
     "prev": "9d5a78f0-8f8c-48a6-80f1-b0e5de5d1f58",
     "regions": {
      "92b58e7b-bf92-46bf-8020-34346d7c99c2": {
       "attrs": {
        "height": 0.8,
        "width": 0.8,
        "x": 0.1,
        "y": 0.1
       },
       "content": {
        "cell": "e4c90f27-1165-4bd4-bcea-8ede519f39ee",
        "part": "whole"
       },
       "id": "92b58e7b-bf92-46bf-8020-34346d7c99c2"
      }
     }
    },
    "e1c59565-6cdd-4ae4-97ff-29bf8096a690": {
     "id": "e1c59565-6cdd-4ae4-97ff-29bf8096a690",
     "prev": "28fc96fd-5798-41c0-9388-8651637bd860",
     "regions": {
      "198fd109-8ab1-41cc-9561-ee457745dfb8": {
       "attrs": {
        "height": 0.8,
        "width": 0.8,
        "x": 0.1,
        "y": 0.1
       },
       "content": {
        "cell": "adcfc172-a4b1-4d58-bf93-e75c8743c6d0",
        "part": "whole"
       },
       "id": "198fd109-8ab1-41cc-9561-ee457745dfb8"
      }
     }
    },
    "ee5b6ba5-0721-40fe-b5c7-598aed364a84": {
     "id": "ee5b6ba5-0721-40fe-b5c7-598aed364a84",
     "prev": "d1d8c39f-0da5-4c80-8841-2fa1020900a2",
     "regions": {
      "15f43350-433e-458a-b0eb-f469b372c2c2": {
       "attrs": {
        "height": 0.8,
        "width": 0.8,
        "x": 0.1,
        "y": 0.1
       },
       "content": {
        "cell": "e007a07f-0f59-4564-9504-10914ba806b0",
        "part": "whole"
       },
       "id": "15f43350-433e-458a-b0eb-f469b372c2c2"
      }
     }
    }
   },
   "themes": {}
  }
 },
 "nbformat": 4,
 "nbformat_minor": 1
}
