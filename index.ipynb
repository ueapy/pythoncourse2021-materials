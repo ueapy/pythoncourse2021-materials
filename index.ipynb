{
 "cells": [
  {
   "cell_type": "markdown",
   "metadata": {},
   "source": [
    "# [Introduction to Python for Environmental Sciences](https://ueapy.github.io/pythoncourse2019/)\n",
    "*EnvEast & Cefas Course*"
   ]
  },
  {
   "cell_type": "markdown",
   "metadata": {},
   "source": [
    "The full notebook listing is available on [Github](https://github.com/ueapy/pythoncourse2019)."
   ]
  },
  {
   "cell_type": "markdown",
   "metadata": {},
   "source": [
    "## Index\n",
    "\n",
    "### Day 1\n",
    "- [Introduction](./notebooks/00-Introduction.ipynb)\n",
    "- [How to Run Python Code](./notebooks/01-How-to-Run-Python-Code.ipynb)\n",
    "- [Jupyter Notebook](./notebooks/02-Jupyter-Notebook.ipynb)\n",
    "- [Basic Python Syntax](./notebooks/03-Basic-Python-Syntax.ipynb)\n",
    "- [Semantics Variables](./notebooks/04-Semantics-Variables.ipynb)\n",
    "- [Semantics Operators](./notebooks/05-Semantics-Operators.ipynb)\n",
    "- [Built in Scalar Types](./notebooks/06-Built-in-Scalar-Types.ipynb)\n",
    "- [Built in Data Structures](./notebooks/07-Built-in-Data-Structures.ipynb)\n",
    "- [Ex Try Python Basics](./notebooks/08-Ex-Try-Python-Basics.ipynb)\n",
    "\n",
    "### Day 2\n",
    "- [Control Flow Statements](./notebooks/09-Control-Flow-Statements.ipynb)\n",
    "- [Defining Functions](./notebooks/10-Defining-Functions.ipynb)\n",
    "- [Ex Build A Program](./notebooks/11-Ex-Build-A-Program.ipynb)\n",
    "- [Modules and Packages](./notebooks/12-Modules-and-Packages.ipynb)\n",
    "- [Ex Create module](./notebooks/13-Ex-Create-module.ipynb)\n",
    "- [Guided practice (optional)](./notebooks/Guided-practice-Day-2.ipynb)\n",
    "\n",
    "### Day 3\n",
    "- [Numpy Intro](./notebooks/14-Numpy-Intro.ipynb)\n",
    "- [Matplotlib](./notebooks/15-Matplotlib.ipynb)\n",
    "- [Guided practice (optional)](./notebooks/Guided-practice-Day-3.ipynb)\n",
    "\n",
    "### Day 4\n",
    "- [Datetime](./notebooks/16-Working-with-datetime.ipynb)\n",
    "- [More matplotlib and exercise](./notebooks/15-Matplotlib.ipynb)\n",
    "- [Cartopy Intro](./notebooks/17-Maps-with-Cartopy.ipynb)\n",
    "- [Pandas Intro](./notebooks/18-Pandas-Intro.ipynb)\n",
    "\n",
    "### Day 5\n",
    "- [More pandas](./notebooks/18-Pandas-Intro.ipynb)\n",
    "- [Plotting with Seaborn](./notebooks/19-Plotting-with-Seaborn.ipynb)\n",
    "- [NetCDF Intro](./notebooks/20-xarray-NetCDF-Intro.ipynb)\n",
    "\n",
    "#### Further practice\n",
    "- [Final Project](./notebooks/21-Final-Project.ipynb)"
   ]
  },
  {
   "cell_type": "markdown",
   "metadata": {},
   "source": [
    "\n",
    "\n",
    "\n",
    "\n",
    "\n",
    "\n",
    "\n",
    "[Feedback form to be completed at the end of the course:](https://forms.gle/rKb6J5bW5fahDun76)"
   ]
  }
 ],
 "metadata": {
  "anaconda-cloud": {},
  "kernelspec": {
   "display_name": "Python 3",
   "language": "python",
   "name": "python3"
  },
  "language_info": {
   "codemirror_mode": {
    "name": "ipython",
    "version": 3
   },
   "file_extension": ".py",
   "mimetype": "text/x-python",
   "name": "python",
   "nbconvert_exporter": "python",
   "pygments_lexer": "ipython3",
   "version": "3.8.10"
  }
 },
 "nbformat": 4,
 "nbformat_minor": 1
}
